{
  "nbformat": 4,
  "nbformat_minor": 0,
  "metadata": {
    "colab": {
      "provenance": []
    },
    "kernelspec": {
      "name": "python3",
      "display_name": "Python 3"
    },
    "language_info": {
      "name": "python"
    }
  },
  "cells": [
    {
      "cell_type": "markdown",
      "source": [
        "\n",
        "\n",
        "##Importando Bibliotecas"
      ],
      "metadata": {
        "id": "0Oo0LHc2K_wN"
      }
    },
    {
      "cell_type": "code",
      "source": [
        "from pyspark.sql import SparkSession\n",
        "from pyspark.sql.functions import max, round,col, desc,expr, current_date, last_day, substring, when, to_date, date_format, current_timestamp, concat_ws, collect_set, collect_list, count, upper, rank, create_map,coalesce, when, lit, sum, length, year, regexp_replace, concat\n",
        "from pyspark.sql.types import IntegerType, DecimalType, DateType, StructType, StructField, FloatType, StringType, DoubleType\n",
        "from pyspark.sql import functions as F\n",
        "from pyspark.sql import Row\n",
        "from pyspark.sql.window import Window\n",
        "from pyspark.ml.feature import Imputer\n",
        "from pyspark.sql import DataFrame\n",
        "import matplotlib.pyplot as plt\n",
        "import os\n",
        "import shutil"
      ],
      "metadata": {
        "id": "FIqkjwAwP585"
      },
      "execution_count": 6,
      "outputs": []
    },
    {
      "cell_type": "markdown",
      "source": [
        "##Criando Sesão Spark Local"
      ],
      "metadata": {
        "id": "5Zjlb-j0LE9g"
      }
    },
    {
      "cell_type": "code",
      "execution_count": 7,
      "metadata": {
        "id": "EUVUtvZkOpJ9"
      },
      "outputs": [],
      "source": [
        "spark = SparkSession.builder.master('local[*]').getOrCreate()"
      ]
    },
    {
      "cell_type": "markdown",
      "source": [
        "### Subir Arquvios  PNAD_COVID_052020.csv / PNAD_COVID_062020.csv / PNAD_COVID_072020.csv"
      ],
      "metadata": {
        "id": "V1uL2Va0fgrN"
      }
    },
    {
      "cell_type": "code",
      "source": [],
      "metadata": {
        "id": "Pxg6cl2lfxAc"
      },
      "execution_count": null,
      "outputs": []
    },
    {
      "cell_type": "code",
      "source": [],
      "metadata": {
        "id": "7ywD-4Z4fw9f"
      },
      "execution_count": null,
      "outputs": []
    },
    {
      "cell_type": "markdown",
      "source": [
        "### Conectando com Google Cloud Platform"
      ],
      "metadata": {
        "id": "w2m6LIb9crNa"
      }
    },
    {
      "cell_type": "code",
      "source": [],
      "metadata": {
        "id": "m-UsYcgJeFDE"
      },
      "execution_count": null,
      "outputs": []
    },
    {
      "cell_type": "markdown",
      "source": [
        "#### A Ideia inicial era criar uma coneção com o Blob Storage da Microsoft Azure e vincular o Storage no Databricks Community. Devido a dificuldades de créditos e lentidão no Databricks, a solução foi buscar as soluções do Colab e Google Cloud Plataform. Da mesma forma enfretei dificuldades em conseguir creditos para criação de um Storage para vincular a conexão."
      ],
      "metadata": {
        "id": "_nK13Lmbc2Ux"
      }
    },
    {
      "cell_type": "code",
      "source": [],
      "metadata": {
        "id": "iQOKsOf0db-W"
      },
      "execution_count": null,
      "outputs": []
    },
    {
      "cell_type": "code",
      "source": [],
      "metadata": {
        "id": "ZiNTmXaydb17"
      },
      "execution_count": null,
      "outputs": []
    },
    {
      "cell_type": "markdown",
      "source": [
        "##Lendo Arquivos .csv"
      ],
      "metadata": {
        "id": "98Nnc4c8LJkI"
      }
    },
    {
      "cell_type": "code",
      "source": [
        "df_052020 = spark.read.csv(\"PNAD_COVID_052020.csv\", sep=\",\", header=True, inferSchema=True)"
      ],
      "metadata": {
        "id": "9r1Eg9g3vmrF"
      },
      "execution_count": null,
      "outputs": []
    },
    {
      "cell_type": "code",
      "source": [
        "df_062020 = spark.read.csv(\"PNAD_COVID_062020.csv\", sep=\",\", header=True, inferSchema=True)"
      ],
      "metadata": {
        "id": "ZqVdRjrpZWOM"
      },
      "execution_count": null,
      "outputs": []
    },
    {
      "cell_type": "code",
      "source": [
        "df_072020 = spark.read.csv(\"PNAD_COVID_072020.csv\", sep=\",\", header=True, inferSchema=True)"
      ],
      "metadata": {
        "id": "-cXuLGvIvs3u"
      },
      "execution_count": null,
      "outputs": []
    },
    {
      "cell_type": "markdown",
      "source": [
        "##Renomeando Variáveis"
      ],
      "metadata": {
        "id": "S_9Q7ivChacv"
      }
    },
    {
      "cell_type": "markdown",
      "source": [
        "### Mes 05/2020"
      ],
      "metadata": {
        "id": "SChGvXVfbaLh"
      }
    },
    {
      "cell_type": "code",
      "source": [
        "df_052020_ADJ = df_052020.withColumnRenamed('Ano', 'ANO') \\\n",
        "                   .withColumnRenamed('V1013', 'MES') \\\n",
        "                   .withColumnRenamed('UF', 'UF') \\\n",
        "                   .withColumnRenamed('CAPITAL', 'CAPITAL') \\\n",
        "                   .withColumnRenamed('V1022', 'LOCAL') \\\n",
        "                   .withColumnRenamed('A002', 'IDADE') \\\n",
        "                   .withColumnRenamed('A003', 'SEXO') \\\n",
        "                   .withColumnRenamed('A004', 'COR_RACA') \\\n",
        "                   .withColumnRenamed('A005', 'ESCOLARIDADE') \\\n",
        "                   .withColumnRenamed('B0011', 'FEBRE') \\\n",
        "                   .withColumnRenamed('B0012', 'TOSSE') \\\n",
        "                   .withColumnRenamed('B0013', 'DOR_GARGANTE') \\\n",
        "                   .withColumnRenamed('B0014', 'DIF_RESPIRAR') \\\n",
        "                   .withColumnRenamed('B0015', 'DOR_CABECA') \\\n",
        "                   .withColumnRenamed('B0016', 'DOR_PEITO') \\\n",
        "                   .withColumnRenamed('B0017', 'NAUSEA') \\\n",
        "                   .withColumnRenamed('B0018', 'NARIZ_CORIZA') \\\n",
        "                   .withColumnRenamed('B0019', 'FADIGA') \\\n",
        "                   .withColumnRenamed('B00110', 'DOR_OLHOS') \\\n",
        "                   .withColumnRenamed('B00111', 'PERDA_PALADAR_OLFATO') \\\n",
        "                   .withColumnRenamed('B00112', 'DOR_MUSCULAR') \\\n",
        "                   .withColumnRenamed('B002', 'PROC_EST_SAUDE') \\\n",
        "                   .withColumnRenamed('B0031', 'PROV_SINT_FICAR_CASA') \\\n",
        "                   .withColumnRenamed('B0032', 'PROV_SINT_BUSCAR_PROF') \\\n",
        "                   .withColumnRenamed('B0033', 'PROV_COMP_REMEDIO_SEM_ORIENTACAO') \\\n",
        "                   .withColumnRenamed('B0034', 'PROV_COMP_REMEDIO_COM_ORIENTACAO') \\\n",
        "                   .withColumnRenamed('B0035', 'PROV_VISITA_PROF_SUS') \\\n",
        "                   .withColumnRenamed('B0036', 'PROV_VISITA_PROF_PART') \\\n",
        "                   .withColumnRenamed('B0041', 'BUSCA_AJUDA_UN_BASICA') \\\n",
        "                   .withColumnRenamed('B0042', 'BUSCA_AJUDA_SUS_UPA') \\\n",
        "                   .withColumnRenamed('B0043', 'BUSCA_AJUDA_HSP_SUS') \\\n",
        "                   .withColumnRenamed('B005', 'INTERNADO_UM_MAIS_DIAS') \\\n",
        "                   .withColumnRenamed('B006', 'SEDADO_ENTUB_RESP_ARTIF') \\\n",
        "                   .withColumnRenamed('B007', 'PLANO_SAUDE') \\\n",
        "                   .withColumnRenamed('C001', 'TRAB_SEM_PASSADA_BICO') \\\n",
        "                   .withColumnRenamed('C002', 'SEM_PASSADA_AFASTADO') \\\n",
        "                   .withColumnRenamed('C003', 'MOTIVO_AFASTAMENTO_TEMP') \\\n",
        "                   .withColumnRenamed('C004', 'CONT_SENDO_REMUNERADO') \\\n",
        "                   .withColumnRenamed('C006', 'MAIS_UM_TRABALHO') \\\n",
        "                   .withColumnRenamed('C007', 'SETOR_TRABALHO') \\\n",
        "                   .withColumnRenamed('C007B', 'ASSINATURA_CTPS') \\\n",
        "                   .withColumnRenamed('C01011', 'RENDIMENTO') \\\n",
        "                   .withColumnRenamed('C013', 'TRAB_REMOTO_PRESENCIAL') \\\n",
        "                   .withColumnRenamed('C014', 'CONTRIB_INSS') \\\n",
        "                   .withColumnRenamed('F001', 'TIPO_DOMICILIO') \\\n",
        "                   .withColumnRenamed('D0031', 'BOLSA_FAMILIA') \\\n",
        "                   .withColumnRenamed('D0041', 'BPC') \\\n",
        "                   .withColumnRenamed('D0061', 'SEGURO_DESEMPREGO') \\\n",
        "                   .withColumnRenamed('D0051', 'BENEF_CORONA_VIRUS') \\\n",
        "                   .withColumnRenamed('D0011', 'APOSENTADORIA_PENSAO')\n",
        "\n",
        "\n",
        "\n",
        "\n",
        "\n",
        "\n",
        "\n",
        "\n",
        "df_052020_ADJ.createOrReplaceTempView(\"052020_ADJ\")\n",
        "df_052020_ADJ.show(5,truncate=False)\n",
        "df_052020_ADJ.count()\n"
      ],
      "metadata": {
        "colab": {
          "base_uri": "https://localhost:8080/"
        },
        "id": "iiDPNQ2Ta4A1",
        "outputId": "9ecbba3a-2cee-4e0f-9dcc-5ce410a222f6"
      },
      "execution_count": null,
      "outputs": [
        {
          "output_type": "stream",
          "name": "stdout",
          "text": [
            "+----+---+-------+-------+-----+-----+---+-----+-------+---------+-----+-----+------+-----------+------------+------+----+-----+------+------+------+-----+----+--------+------------+-----+-----+------------+------------+----------+---------+------+------------+------+---------+--------------------+------------+--------------+--------------------+---------------------+--------------------------------+--------------------------------+--------------------+---------------------+-----+---------------------+-------------------+-------------------+-----+-----+-----+----------------------+-----------------------+-----------+---------------------+--------------------+-----------------------+---------------------+----+-----+-----+-----+----------------+--------------+-----+---------------+-----+-----+-----+------+------+----+----+----+-----+----------+------+-----+------+------+-----+-----+-----+------+-------+-------+------+-------+-------+----+----------------------+------------+----+----+-----+--------------------+-----+-----+-----+-------------+-----+---+-----+------------------+-----+-----------------+-----+-----+-----+--------------+-----+-----+-----+----+\n",
            "|ANO |UF |CAPITAL|RM_RIDE|V1008|V1012|MES|V1016|Estrato|UPA      |LOCAL|V1023|V1030 |V1031      |V1032       |posest|A001|A001A|A001B1|A001B2|A001B3|IDADE|SEXO|COR_RACA|ESCOLARIDADE|FEBRE|TOSSE|DOR_GARGANTE|DIF_RESPIRAR|DOR_CABECA|DOR_PEITO|NAUSEA|NARIZ_CORIZA|FADIGA|DOR_OLHOS|PERDA_PALADAR_OLFATO|DOR_MUSCULAR|PROC_EST_SAUDE|PROV_SINT_FICAR_CASA|PROV_SINT_BUSCAR_PROF|PROV_COMP_REMEDIO_SEM_ORIENTACAO|PROV_COMP_REMEDIO_COM_ORIENTACAO|PROV_VISITA_PROF_SUS|PROV_VISITA_PROF_PART|B0037|BUSCA_AJUDA_UN_BASICA|BUSCA_AJUDA_SUS_UPA|BUSCA_AJUDA_HSP_SUS|B0044|B0045|B0046|INTERNADO_UM_MAIS_DIAS|SEDADO_ENTUB_RESP_ARTIF|PLANO_SAUDE|TRAB_SEM_PASSADA_BICO|SEM_PASSADA_AFASTADO|MOTIVO_AFASTAMENTO_TEMP|CONT_SENDO_REMUNERADO|C005|C0051|C0052|C0053|MAIS_UM_TRABALHO|SETOR_TRABALHO|C007A|ASSINATURA_CTPS|C007C|C007D|C007E|C007E1|C007E2|C008|C009|C010|C0101|RENDIMENTO|C01012|C0102|C01021|C01022|C0103|C0104|C011A|C011A1|C011A11|C011A12|C011A2|C011A21|C011A22|C012|TRAB_REMOTO_PRESENCIAL|CONTRIB_INSS|C015|C016|C017A|APOSENTADORIA_PENSAO|D0013|D0021|D0023|BOLSA_FAMILIA|D0033|BPC|D0043|BENEF_CORONA_VIRUS|D0053|SEGURO_DESEMPREGO|D0063|D0071|D0073|TIPO_DOMICILIO|F0021|F0022|F0061|F006|\n",
            "+----+---+-------+-------+-----+-----+---+-----+-------+---------+-----+-----+------+-----------+------------+------+----+-----+------+------+------+-----+----+--------+------------+-----+-----+------------+------------+----------+---------+------+------------+------+---------+--------------------+------------+--------------+--------------------+---------------------+--------------------------------+--------------------------------+--------------------+---------------------+-----+---------------------+-------------------+-------------------+-----+-----+-----+----------------------+-----------------------+-----------+---------------------+--------------------+-----------------------+---------------------+----+-----+-----+-----+----------------+--------------+-----+---------------+-----+-----+-----+------+------+----+----+----+-----+----------+------+-----+------+------+-----+-----+-----+------+-------+-------+------+-------+-------+----+----------------------+------------+----+----+-----+--------------------+-----+-----+-----+-------------+-----+---+-----+------------------+-----+-----------------+-----+-----+-----+--------------+-----+-----+-----+----+\n",
            "|2020|11 |11     |NULL   |1    |4    |5  |1    |1110011|110015970|1    |1    |152194|138.2562412|143.56274468|1114  |1   |1    |5     |8     |1984  |35   |1   |4       |5           |1    |1    |2           |2           |1         |2        |2     |2           |2     |2        |1                   |2           |2             |2                   |2                    |1                               |2                               |2                   |2                    |2    |NULL                 |NULL               |NULL               |NULL |NULL |NULL |NULL                  |NULL                   |1          |1                    |NULL                |NULL                   |NULL                 |NULL|NULL |NULL |NULL |2               |4             |NULL |1              |35   |6    |NULL |NULL  |NULL  |48  |48  |1   |1    |4         |1045  |NULL |NULL  |NULL  |NULL |NULL |1    |1     |4      |1045   |NULL  |NULL   |NULL   |1   |NULL                  |NULL        |NULL|NULL|NULL |2                   |NULL |2    |NULL |2            |NULL |2  |NULL |1                 |1200 |2                |NULL |2    |NULL |1             |NULL |NULL |1    |2   |\n",
            "|2020|11 |11     |NULL   |1    |4    |5  |1    |1110011|110015970|1    |1    |154290|138.2562412|155.17556973|1123  |2   |2    |18    |8     |1990  |29   |2   |4       |7           |1    |1    |2           |2           |2         |2        |2     |2           |2     |2        |1                   |2           |2             |2                   |2                    |2                               |2                               |2                   |2                    |2    |NULL                 |NULL               |NULL               |NULL |NULL |NULL |NULL                  |NULL                   |2          |1                    |NULL                |NULL                   |NULL                 |NULL|NULL |NULL |NULL |2               |7             |NULL |NULL           |34   |22   |NULL |NULL  |NULL  |12  |4   |1   |1    |4         |1045  |NULL |NULL  |NULL  |NULL |NULL |1    |1     |0      |0      |NULL  |NULL   |NULL   |2   |1                     |2           |NULL|NULL|NULL |2                   |NULL |2    |NULL |2            |NULL |2  |NULL |1                 |1200 |2                |NULL |2    |NULL |1             |NULL |NULL |1    |2   |\n",
            "|2020|11 |11     |NULL   |1    |4    |5  |1    |1110011|110015970|1    |1    |146160|138.2562412|191.78621375|1112  |3   |4    |25    |12    |2006  |13   |1   |4       |2           |2    |2    |2           |2           |2         |2        |2     |2           |2     |2        |2                   |2           |NULL          |NULL                |NULL                 |NULL                            |NULL                            |NULL                |NULL                 |NULL |NULL                 |NULL               |NULL               |NULL |NULL |NULL |NULL                  |NULL                   |2          |NULL                 |NULL                |NULL                   |NULL                 |NULL|NULL |NULL |NULL |NULL            |NULL          |NULL |NULL           |NULL |NULL |NULL |NULL  |NULL  |NULL|NULL|NULL|NULL |NULL      |NULL  |NULL |NULL  |NULL  |NULL |NULL |NULL |NULL  |NULL   |NULL   |NULL  |NULL   |NULL   |NULL|NULL                  |NULL        |NULL|NULL|NULL |2                   |NULL |2    |NULL |2            |NULL |2  |NULL |1                 |1200 |2                |NULL |2    |NULL |1             |NULL |NULL |1    |2   |\n",
            "|2020|11 |11     |NULL   |1    |4    |5  |1    |1110011|110015970|1    |1    |146160|138.2562412|191.78621375|1112  |4   |4    |24    |8     |2009  |10   |1   |4       |2           |2    |2    |2           |2           |2         |2        |2     |2           |2     |2        |2                   |2           |NULL          |NULL                |NULL                 |NULL                            |NULL                            |NULL                |NULL                 |NULL |NULL                 |NULL               |NULL               |NULL |NULL |NULL |NULL                  |NULL                   |2          |NULL                 |NULL                |NULL                   |NULL                 |NULL|NULL |NULL |NULL |NULL            |NULL          |NULL |NULL           |NULL |NULL |NULL |NULL  |NULL  |NULL|NULL|NULL|NULL |NULL      |NULL  |NULL |NULL  |NULL  |NULL |NULL |NULL |NULL  |NULL   |NULL   |NULL  |NULL   |NULL   |NULL|NULL                  |NULL        |NULL|NULL|NULL |2                   |NULL |2    |NULL |2            |NULL |2  |NULL |1                 |1200 |2                |NULL |2    |NULL |1             |NULL |NULL |1    |2   |\n",
            "|2020|11 |11     |NULL   |3    |2    |5  |1    |1110011|110015970|1    |1    |90903 |138.2562412|144.13492924|1126  |1   |1    |25    |12    |1961  |58   |2   |2       |1           |2    |2    |2           |2           |2         |2        |2     |2           |2     |2        |2                   |2           |NULL          |NULL                |NULL                 |NULL                            |NULL                            |NULL                |NULL                 |NULL |NULL                 |NULL               |NULL               |NULL |NULL |NULL |NULL                  |NULL                   |2          |2                    |2                   |NULL                   |NULL                 |NULL|NULL |NULL |NULL |NULL            |NULL          |NULL |NULL           |NULL |NULL |NULL |NULL  |NULL  |NULL|NULL|NULL|NULL |NULL      |NULL  |NULL |NULL  |NULL  |NULL |NULL |NULL |NULL  |NULL   |NULL   |NULL  |NULL   |NULL   |NULL|NULL                  |2           |2   |2   |1    |2                   |NULL |2    |NULL |1            |130  |2  |NULL |1                 |600  |2                |NULL |2    |NULL |1             |NULL |NULL |1    |1   |\n",
            "+----+---+-------+-------+-----+-----+---+-----+-------+---------+-----+-----+------+-----------+------------+------+----+-----+------+------+------+-----+----+--------+------------+-----+-----+------------+------------+----------+---------+------+------------+------+---------+--------------------+------------+--------------+--------------------+---------------------+--------------------------------+--------------------------------+--------------------+---------------------+-----+---------------------+-------------------+-------------------+-----+-----+-----+----------------------+-----------------------+-----------+---------------------+--------------------+-----------------------+---------------------+----+-----+-----+-----+----------------+--------------+-----+---------------+-----+-----+-----+------+------+----+----+----+-----+----------+------+-----+------+------+-----+-----+-----+------+-------+-------+------+-------+-------+----+----------------------+------------+----+----+-----+--------------------+-----+-----+-----+-------------+-----+---+-----+------------------+-----+-----------------+-----+-----+-----+--------------+-----+-----+-----+----+\n",
            "only showing top 5 rows\n",
            "\n"
          ]
        },
        {
          "output_type": "execute_result",
          "data": {
            "text/plain": [
              "349306"
            ]
          },
          "metadata": {},
          "execution_count": 7
        }
      ]
    },
    {
      "cell_type": "markdown",
      "source": [
        "###Mes 06/2020"
      ],
      "metadata": {
        "id": "hviopUA-bd5a"
      }
    },
    {
      "cell_type": "code",
      "source": [
        "df_062020_ADJ = df_062020.withColumnRenamed('Ano', 'ANO') \\\n",
        "                   .withColumnRenamed('V1013', 'MES') \\\n",
        "                   .withColumnRenamed('UF', 'UF') \\\n",
        "                   .withColumnRenamed('CAPITAL', 'CAPITAL') \\\n",
        "                   .withColumnRenamed('V1022', 'LOCAL') \\\n",
        "                   .withColumnRenamed('A002', 'IDADE') \\\n",
        "                   .withColumnRenamed('A003', 'SEXO') \\\n",
        "                   .withColumnRenamed('A004', 'COR_RACA') \\\n",
        "                   .withColumnRenamed('A005', 'ESCOLARIDADE') \\\n",
        "                   .withColumnRenamed('B0011', 'FEBRE') \\\n",
        "                   .withColumnRenamed('B0012', 'TOSSE') \\\n",
        "                   .withColumnRenamed('B0013', 'DOR_GARGANTE') \\\n",
        "                   .withColumnRenamed('B0014', 'DIF_RESPIRAR') \\\n",
        "                   .withColumnRenamed('B0015', 'DOR_CABECA') \\\n",
        "                   .withColumnRenamed('B0016', 'DOR_PEITO') \\\n",
        "                   .withColumnRenamed('B0017', 'NAUSEA') \\\n",
        "                   .withColumnRenamed('B0018', 'NARIZ_CORIZA') \\\n",
        "                   .withColumnRenamed('B0019', 'FADIGA') \\\n",
        "                   .withColumnRenamed('B00110', 'DOR_OLHOS') \\\n",
        "                   .withColumnRenamed('B00111', 'PERDA_PALADAR_OLFATO') \\\n",
        "                   .withColumnRenamed('B00112', 'DOR_MUSCULAR') \\\n",
        "                   .withColumnRenamed('B002', 'PROC_EST_SAUDE') \\\n",
        "                   .withColumnRenamed('B0031', 'PROV_SINT_FICAR_CASA') \\\n",
        "                   .withColumnRenamed('B0032', 'PROV_SINT_BUSCAR_PROF') \\\n",
        "                   .withColumnRenamed('B0033', 'PROV_COMP_REMEDIO_SEM_ORIENTACAO') \\\n",
        "                   .withColumnRenamed('B0034', 'PROV_COMP_REMEDIO_COM_ORIENTACAO') \\\n",
        "                   .withColumnRenamed('B0035', 'PROV_VISITA_PROF_SUS') \\\n",
        "                   .withColumnRenamed('B0036', 'PROV_VISITA_PROF_PART') \\\n",
        "                   .withColumnRenamed('B0041', 'BUSCA_AJUDA_UN_BASICA') \\\n",
        "                   .withColumnRenamed('B0042', 'BUSCA_AJUDA_SUS_UPA') \\\n",
        "                   .withColumnRenamed('B0043', 'BUSCA_AJUDA_HSP_SUS') \\\n",
        "                   .withColumnRenamed('B005', 'INTERNADO_UM_MAIS_DIAS') \\\n",
        "                   .withColumnRenamed('B006', 'SEDADO_ENTUB_RESP_ARTIF') \\\n",
        "                   .withColumnRenamed('B007', 'PLANO_SAUDE') \\\n",
        "                   .withColumnRenamed('C001', 'TRAB_SEM_PASSADA_BICO') \\\n",
        "                   .withColumnRenamed('C002', 'SEM_PASSADA_AFASTADO') \\\n",
        "                   .withColumnRenamed('C003', 'MOTIVO_AFASTAMENTO_TEMP') \\\n",
        "                   .withColumnRenamed('C004', 'CONT_SENDO_REMUNERADO') \\\n",
        "                   .withColumnRenamed('C006', 'MAIS_UM_TRABALHO') \\\n",
        "                   .withColumnRenamed('C007', 'SETOR_TRABALHO') \\\n",
        "                   .withColumnRenamed('C007B', 'ASSINATURA_CTPS') \\\n",
        "                   .withColumnRenamed('C01011', 'RENDIMENTO') \\\n",
        "                   .withColumnRenamed('C013', 'TRAB_REMOTO_PRESENCIAL') \\\n",
        "                   .withColumnRenamed('C014', 'CONTRIB_INSS') \\\n",
        "                   .withColumnRenamed('F001', 'TIPO_DOMICILIO') \\\n",
        "                   .withColumnRenamed('D0031', 'BOLSA_FAMILIA') \\\n",
        "                   .withColumnRenamed('D0041', 'BPC') \\\n",
        "                   .withColumnRenamed('D0061', 'SEGURO_DESEMPREGO') \\\n",
        "                   .withColumnRenamed('D0051', 'BENEF_CORONA_VIRUS') \\\n",
        "                   .withColumnRenamed('D0011', 'APOSENTADORIA_PENSAO')\n",
        "\n",
        "\n",
        "\n",
        "\n",
        "\n",
        "\n",
        "\n",
        "\n",
        "df_062020_ADJ.createOrReplaceTempView(\"062020_ADJ\")\n",
        "df_062020_ADJ.show(5,truncate=False)\n",
        "df_062020_ADJ.count()"
      ],
      "metadata": {
        "colab": {
          "base_uri": "https://localhost:8080/"
        },
        "id": "p78ZPJy9wA05",
        "outputId": "de99059f-2b60-47f5-ffd8-b3780e08724a"
      },
      "execution_count": null,
      "outputs": [
        {
          "output_type": "stream",
          "name": "stdout",
          "text": [
            "+----+---+-------+-------+-----+-----+---+-----+-------+---------+-----+-----+------+------------+------------+------+----+-----+------+------+------+-----+----+--------+------------+-----+-----+------------+------------+----------+---------+------+------------+------+---------+--------------------+------------+--------------+--------------------+---------------------+--------------------------------+--------------------------------+--------------------+---------------------+-----+---------------------+-------------------+-------------------+-----+-----+-----+----------------------+-----------------------+-----------+---------------------+--------------------+-----------------------+---------------------+----+-----+-----+-----+----------------+--------------+-----+---------------+-----+-----+-----+------+------+----+----+----+-----+----------+------+-----+------+------+-----+-----+-----+------+-------+-------+------+-------+-------+----+----------------------+------------+----+----+-----+--------------------+-----+-----+-----+-------------+-----+---+-----+------------------+-----+-----------------+-----+-----+-----+--------------+-----+-----+-----+----+\n",
            "|ANO |UF |CAPITAL|RM_RIDE|V1008|V1012|MES|V1016|Estrato|UPA      |LOCAL|V1023|V1030 |V1031       |V1032       |posest|A001|A001A|A001B1|A001B2|A001B3|IDADE|SEXO|COR_RACA|ESCOLARIDADE|FEBRE|TOSSE|DOR_GARGANTE|DIF_RESPIRAR|DOR_CABECA|DOR_PEITO|NAUSEA|NARIZ_CORIZA|FADIGA|DOR_OLHOS|PERDA_PALADAR_OLFATO|DOR_MUSCULAR|PROC_EST_SAUDE|PROV_SINT_FICAR_CASA|PROV_SINT_BUSCAR_PROF|PROV_COMP_REMEDIO_SEM_ORIENTACAO|PROV_COMP_REMEDIO_COM_ORIENTACAO|PROV_VISITA_PROF_SUS|PROV_VISITA_PROF_PART|B0037|BUSCA_AJUDA_UN_BASICA|BUSCA_AJUDA_SUS_UPA|BUSCA_AJUDA_HSP_SUS|B0044|B0045|B0046|INTERNADO_UM_MAIS_DIAS|SEDADO_ENTUB_RESP_ARTIF|PLANO_SAUDE|TRAB_SEM_PASSADA_BICO|SEM_PASSADA_AFASTADO|MOTIVO_AFASTAMENTO_TEMP|CONT_SENDO_REMUNERADO|C005|C0051|C0052|C0053|MAIS_UM_TRABALHO|SETOR_TRABALHO|C007A|ASSINATURA_CTPS|C007C|C007D|C007E|C007E1|C007E2|C008|C009|C010|C0101|RENDIMENTO|C01012|C0102|C01021|C01022|C0103|C0104|C011A|C011A1|C011A11|C011A12|C011A2|C011A21|C011A22|C012|TRAB_REMOTO_PRESENCIAL|CONTRIB_INSS|C015|C016|C017A|APOSENTADORIA_PENSAO|D0013|D0021|D0023|BOLSA_FAMILIA|D0033|BPC|D0043|BENEF_CORONA_VIRUS|D0053|SEGURO_DESEMPREGO|D0063|D0071|D0073|TIPO_DOMICILIO|F0021|F0022|F0061|F006|\n",
            "+----+---+-------+-------+-----+-----+---+-----+-------+---------+-----+-----+------+------------+------------+------+----+-----+------+------+------+-----+----+--------+------------+-----+-----+------------+------------+----------+---------+------+------------+------+---------+--------------------+------------+--------------+--------------------+---------------------+--------------------------------+--------------------------------+--------------------+---------------------+-----+---------------------+-------------------+-------------------+-----+-----+-----+----------------------+-----------------------+-----------+---------------------+--------------------+-----------------------+---------------------+----+-----+-----+-----+----------------+--------------+-----+---------------+-----+-----+-----+------+------+----+----+----+-----+----------+------+-----+------+------+-----+-----+-----+------+-------+-------+------+-------+-------+----+----------------------+------------+----+----+-----+--------------------+-----+-----+-----+-------------+-----+---+-----+------------------+-----+-----------------+-----+-----+-----+--------------+-----+-----+-----+----+\n",
            "|2020|11 |11     |NULL   |1    |4    |6  |2    |1110011|110015970|1    |1    |152328|141.22522014|168.5596288 |1114  |1   |1    |5     |8     |1984  |35   |1   |4       |5           |2    |2    |2           |2           |2         |2        |2     |2           |2     |2        |2                   |2           |NULL          |NULL                |NULL                 |NULL                            |NULL                            |NULL                |NULL                 |NULL |NULL                 |NULL               |NULL               |NULL |NULL |NULL |NULL                  |NULL                   |1          |1                    |NULL                |NULL                   |NULL                 |NULL|NULL |NULL |NULL |2               |4             |NULL |1              |35   |6    |NULL |NULL  |NULL  |48  |48  |1   |1    |4         |1045  |NULL |NULL  |NULL  |NULL |NULL |1    |1     |4      |1045   |NULL  |NULL   |NULL   |1   |NULL                  |NULL        |NULL|NULL|NULL |2                   |NULL |2    |NULL |2            |NULL |2  |NULL |1                 |1200 |2                |NULL |2    |NULL |1             |NULL |NULL |1    |1   |\n",
            "|2020|11 |11     |NULL   |1    |4    |6  |2    |1110011|110015970|1    |1    |154278|141.22522014|157.63901467|1123  |2   |2    |18    |8     |1990  |29   |2   |4       |7           |2    |2    |2           |2           |2         |2        |2     |2           |2     |2        |2                   |2           |NULL          |NULL                |NULL                 |NULL                            |NULL                            |NULL                |NULL                 |NULL |NULL                 |NULL               |NULL               |NULL |NULL |NULL |NULL                  |NULL                   |2          |2                    |1                   |1                      |2                    |1   |NULL |NULL |NULL |2               |7             |NULL |NULL           |34   |22   |NULL |NULL  |NULL  |40  |0   |1   |1    |4         |1045  |NULL |NULL  |NULL  |NULL |NULL |1    |1     |0      |0      |NULL  |NULL   |NULL   |NULL|NULL                  |2           |NULL|NULL|NULL |2                   |NULL |2    |NULL |2            |NULL |2  |NULL |1                 |1200 |2                |NULL |2    |NULL |1             |NULL |NULL |1    |1   |\n",
            "|2020|11 |11     |NULL   |1    |4    |6  |2    |1110011|110015970|1    |1    |145962|141.22522014|175.13592449|1112  |3   |4    |25    |12    |2006  |13   |1   |4       |2           |2    |2    |2           |2           |2         |2        |2     |2           |2     |2        |2                   |2           |NULL          |NULL                |NULL                 |NULL                            |NULL                            |NULL                |NULL                 |NULL |NULL                 |NULL               |NULL               |NULL |NULL |NULL |NULL                  |NULL                   |1          |NULL                 |NULL                |NULL                   |NULL                 |NULL|NULL |NULL |NULL |NULL            |NULL          |NULL |NULL           |NULL |NULL |NULL |NULL  |NULL  |NULL|NULL|NULL|NULL |NULL      |NULL  |NULL |NULL  |NULL  |NULL |NULL |NULL |NULL  |NULL   |NULL   |NULL  |NULL   |NULL   |NULL|NULL                  |NULL        |NULL|NULL|NULL |2                   |NULL |2    |NULL |2            |NULL |2  |NULL |1                 |1200 |2                |NULL |2    |NULL |1             |NULL |NULL |1    |1   |\n",
            "|2020|11 |11     |NULL   |1    |4    |6  |2    |1110011|110015970|1    |1    |145962|141.22522014|175.13592449|1112  |4   |4    |24    |8     |2009  |10   |1   |4       |2           |2    |2    |2           |2           |2         |2        |2     |2           |2     |2        |2                   |2           |NULL          |NULL                |NULL                 |NULL                            |NULL                            |NULL                |NULL                 |NULL |NULL                 |NULL               |NULL               |NULL |NULL |NULL |NULL                  |NULL                   |1          |NULL                 |NULL                |NULL                   |NULL                 |NULL|NULL |NULL |NULL |NULL            |NULL          |NULL |NULL           |NULL |NULL |NULL |NULL  |NULL  |NULL|NULL|NULL|NULL |NULL      |NULL  |NULL |NULL  |NULL  |NULL |NULL |NULL |NULL  |NULL   |NULL   |NULL  |NULL   |NULL   |NULL|NULL                  |NULL        |NULL|NULL|NULL |2                   |NULL |2    |NULL |2            |NULL |2  |NULL |1                 |1200 |2                |NULL |2    |NULL |1             |NULL |NULL |1    |1   |\n",
            "|2020|11 |11     |NULL   |2    |1    |6  |2    |1110011|110015970|1    |1    |91152 |141.22522014|141.94765457|1126  |1   |1    |18    |5     |1963  |57   |2   |1       |2           |2    |2    |2           |2           |2         |2        |2     |2           |2     |2        |2                   |2           |NULL          |NULL                |NULL                 |NULL                            |NULL                            |NULL                |NULL                 |NULL |NULL                 |NULL               |NULL               |NULL |NULL |NULL |NULL                  |NULL                   |2          |2                    |2                   |NULL                   |NULL                 |NULL|NULL |NULL |NULL |NULL            |NULL          |NULL |NULL           |NULL |NULL |NULL |NULL  |NULL  |NULL|NULL|NULL|NULL |NULL      |NULL  |NULL |NULL  |NULL  |NULL |NULL |NULL |NULL  |NULL   |NULL   |NULL  |NULL   |NULL   |NULL|NULL                  |2           |2   |1   |1    |2                   |NULL |2    |NULL |2            |NULL |1  |1045 |2                 |NULL |2                |NULL |2    |NULL |1             |NULL |NULL |1    |1   |\n",
            "+----+---+-------+-------+-----+-----+---+-----+-------+---------+-----+-----+------+------------+------------+------+----+-----+------+------+------+-----+----+--------+------------+-----+-----+------------+------------+----------+---------+------+------------+------+---------+--------------------+------------+--------------+--------------------+---------------------+--------------------------------+--------------------------------+--------------------+---------------------+-----+---------------------+-------------------+-------------------+-----+-----+-----+----------------------+-----------------------+-----------+---------------------+--------------------+-----------------------+---------------------+----+-----+-----+-----+----------------+--------------+-----+---------------+-----+-----+-----+------+------+----+----+----+-----+----------+------+-----+------+------+-----+-----+-----+------+-------+-------+------+-------+-------+----+----------------------+------------+----+----+-----+--------------------+-----+-----+-----+-------------+-----+---+-----+------------------+-----+-----------------+-----+-----+-----+--------------+-----+-----+-----+----+\n",
            "only showing top 5 rows\n",
            "\n"
          ]
        },
        {
          "output_type": "execute_result",
          "data": {
            "text/plain": [
              "381270"
            ]
          },
          "metadata": {},
          "execution_count": 8
        }
      ]
    },
    {
      "cell_type": "markdown",
      "source": [
        "###Mes 07/2020"
      ],
      "metadata": {
        "id": "Nd4MtW-cbjWq"
      }
    },
    {
      "cell_type": "code",
      "source": [
        "df_072020_ADJ = df_072020.withColumnRenamed('Ano', 'ANO') \\\n",
        "                   .withColumnRenamed('V1013', 'MES') \\\n",
        "                   .withColumnRenamed('UF', 'UF') \\\n",
        "                   .withColumnRenamed('CAPITAL', 'CAPITAL') \\\n",
        "                   .withColumnRenamed('V1022', 'LOCAL') \\\n",
        "                   .withColumnRenamed('A002', 'IDADE') \\\n",
        "                   .withColumnRenamed('A003', 'SEXO') \\\n",
        "                   .withColumnRenamed('A004', 'COR_RACA') \\\n",
        "                   .withColumnRenamed('A005', 'ESCOLARIDADE') \\\n",
        "                   .withColumnRenamed('B0011', 'FEBRE') \\\n",
        "                   .withColumnRenamed('B0012', 'TOSSE') \\\n",
        "                   .withColumnRenamed('B0013', 'DOR_GARGANTE') \\\n",
        "                   .withColumnRenamed('B0014', 'DIF_RESPIRAR') \\\n",
        "                   .withColumnRenamed('B0015', 'DOR_CABECA') \\\n",
        "                   .withColumnRenamed('B0016', 'DOR_PEITO') \\\n",
        "                   .withColumnRenamed('B0017', 'NAUSEA') \\\n",
        "                   .withColumnRenamed('B0018', 'NARIZ_CORIZA') \\\n",
        "                   .withColumnRenamed('B0019', 'FADIGA') \\\n",
        "                   .withColumnRenamed('B00110', 'DOR_OLHOS') \\\n",
        "                   .withColumnRenamed('B00111', 'PERDA_PALADAR_OLFATO') \\\n",
        "                   .withColumnRenamed('B00112', 'DOR_MUSCULAR') \\\n",
        "                   .withColumnRenamed('B002', 'PROC_EST_SAUDE') \\\n",
        "                   .withColumnRenamed('B0031', 'PROV_SINT_FICAR_CASA') \\\n",
        "                   .withColumnRenamed('B0032', 'PROV_SINT_BUSCAR_PROF') \\\n",
        "                   .withColumnRenamed('B0033', 'PROV_COMP_REMEDIO_SEM_ORIENTACAO') \\\n",
        "                   .withColumnRenamed('B0034', 'PROV_COMP_REMEDIO_COM_ORIENTACAO') \\\n",
        "                   .withColumnRenamed('B0035', 'PROV_VISITA_PROF_SUS') \\\n",
        "                   .withColumnRenamed('B0036', 'PROV_VISITA_PROF_PART') \\\n",
        "                   .withColumnRenamed('B0041', 'BUSCA_AJUDA_UN_BASICA') \\\n",
        "                   .withColumnRenamed('B0042', 'BUSCA_AJUDA_SUS_UPA') \\\n",
        "                   .withColumnRenamed('B0043', 'BUSCA_AJUDA_HSP_SUS') \\\n",
        "                   .withColumnRenamed('B005', 'INTERNADO_UM_MAIS_DIAS') \\\n",
        "                   .withColumnRenamed('B006', 'SEDADO_ENTUB_RESP_ARTIF') \\\n",
        "                   .withColumnRenamed('B007', 'PLANO_SAUDE') \\\n",
        "                   .withColumnRenamed('C001', 'TRAB_SEM_PASSADA_BICO') \\\n",
        "                   .withColumnRenamed('C002', 'SEM_PASSADA_AFASTADO') \\\n",
        "                   .withColumnRenamed('C003', 'MOTIVO_AFASTAMENTO_TEMP') \\\n",
        "                   .withColumnRenamed('C004', 'CONT_SENDO_REMUNERADO') \\\n",
        "                   .withColumnRenamed('C006', 'MAIS_UM_TRABALHO') \\\n",
        "                   .withColumnRenamed('C007', 'SETOR_TRABALHO') \\\n",
        "                   .withColumnRenamed('C007B', 'ASSINATURA_CTPS') \\\n",
        "                   .withColumnRenamed('C01011', 'RENDIMENTO') \\\n",
        "                   .withColumnRenamed('C013', 'TRAB_REMOTO_PRESENCIAL') \\\n",
        "                   .withColumnRenamed('C014', 'CONTRIB_INSS') \\\n",
        "                   .withColumnRenamed('F001', 'TIPO_DOMICILIO') \\\n",
        "                   .withColumnRenamed('D0031', 'BOLSA_FAMILIA') \\\n",
        "                   .withColumnRenamed('D0041', 'BPC') \\\n",
        "                   .withColumnRenamed('D0061', 'SEGURO_DESEMPREGO') \\\n",
        "                   .withColumnRenamed('D0051', 'BENEF_CORONA_VIRUS') \\\n",
        "                   .withColumnRenamed('D0011', 'APOSENTADORIA_PENSAO')\n",
        "\n",
        "\n",
        "\n",
        "\n",
        "\n",
        "\n",
        "\n",
        "\n",
        "\n",
        "\n",
        "df_072020_ADJ.createOrReplaceTempView(\"072020_ADJ\")\n",
        "df_072020_ADJ.show(5,truncate=False)\n",
        "df_072020_ADJ.count()\n"
      ],
      "metadata": {
        "colab": {
          "base_uri": "https://localhost:8080/"
        },
        "id": "ygGouD9KwMEc",
        "outputId": "dc015b69-838f-40db-8bd3-48165018f1fb"
      },
      "execution_count": null,
      "outputs": [
        {
          "output_type": "stream",
          "name": "stdout",
          "text": [
            "+----+---+-------+-------+-----+-----+---+-----+-------+---------+-----+-----+------+------------+------------+------+----+-----+------+------+------+-----+----+--------+------------+----+----+----+----+-----+-----+------------+------------+----------+---------+------+------------+------+---------+--------------------+------------+------+--------------+--------------------+---------------------+--------------------------------+--------------------------------+--------------------+---------------------+-----+---------------------+-------------------+-------------------+-----+-----+-----+----------------------+-----------------------+-----------+----+-----+-----+-----+-----+-----+-----+-----+-----+-----+-----+-----+-----+----+---------------------+--------------------+-----------------------+---------------------+----+-----+-----+-----+----------------+--------------+-----+---------------+-----+-----+-----+------+------+-----+----+----+-----+----+-----+----------+------+-----+------+------+-----+-----+-----+------+-------+-------+------+-------+-------+----+----------------------+------------+----+----+-----+--------------------+-----+-----+-----+-------------+-----+---+-----+------------------+-----+-----------------+-----+-----+-----+----+-----+-----+-----+-----+--------------+-----+-----+------+------+------+------+------+-----+----+\n",
            "|ANO |UF |CAPITAL|RM_RIDE|V1008|V1012|MES|V1016|Estrato|UPA      |LOCAL|V1023|V1030 |V1031       |V1032       |posest|A001|A001A|A001B1|A001B2|A001B3|IDADE|SEXO|COR_RACA|ESCOLARIDADE|A006|A007|A008|A009|FEBRE|TOSSE|DOR_GARGANTE|DIF_RESPIRAR|DOR_CABECA|DOR_PEITO|NAUSEA|NARIZ_CORIZA|FADIGA|DOR_OLHOS|PERDA_PALADAR_OLFATO|DOR_MUSCULAR|B00113|PROC_EST_SAUDE|PROV_SINT_FICAR_CASA|PROV_SINT_BUSCAR_PROF|PROV_COMP_REMEDIO_SEM_ORIENTACAO|PROV_COMP_REMEDIO_COM_ORIENTACAO|PROV_VISITA_PROF_SUS|PROV_VISITA_PROF_PART|B0037|BUSCA_AJUDA_UN_BASICA|BUSCA_AJUDA_SUS_UPA|BUSCA_AJUDA_HSP_SUS|B0044|B0045|B0046|INTERNADO_UM_MAIS_DIAS|SEDADO_ENTUB_RESP_ARTIF|PLANO_SAUDE|B008|B009A|B009B|B009C|B009D|B009E|B009F|B0101|B0102|B0103|B0104|B0105|B0106|B011|TRAB_SEM_PASSADA_BICO|SEM_PASSADA_AFASTADO|MOTIVO_AFASTAMENTO_TEMP|CONT_SENDO_REMUNERADO|C005|C0051|C0052|C0053|MAIS_UM_TRABALHO|SETOR_TRABALHO|C007A|ASSINATURA_CTPS|C007C|C007D|C007E|C007E1|C007E2|C007F|C008|C009|C009A|C010|C0101|RENDIMENTO|C01012|C0102|C01021|C01022|C0103|C0104|C011A|C011A1|C011A11|C011A12|C011A2|C011A21|C011A22|C012|TRAB_REMOTO_PRESENCIAL|CONTRIB_INSS|C015|C016|C017A|APOSENTADORIA_PENSAO|D0013|D0021|D0023|BOLSA_FAMILIA|D0033|BPC|D0043|BENEF_CORONA_VIRUS|D0053|SEGURO_DESEMPREGO|D0063|D0071|D0073|E001|E0021|E0022|E0023|E0024|TIPO_DOMICILIO|F0021|F0022|F002A1|F002A2|F002A3|F002A4|F002A5|F0061|F006|\n",
            "+----+---+-------+-------+-----+-----+---+-----+-------+---------+-----+-----+------+------------+------------+------+----+-----+------+------+------+-----+----+--------+------------+----+----+----+----+-----+-----+------------+------------+----------+---------+------+------------+------+---------+--------------------+------------+------+--------------+--------------------+---------------------+--------------------------------+--------------------------------+--------------------+---------------------+-----+---------------------+-------------------+-------------------+-----+-----+-----+----------------------+-----------------------+-----------+----+-----+-----+-----+-----+-----+-----+-----+-----+-----+-----+-----+-----+----+---------------------+--------------------+-----------------------+---------------------+----+-----+-----+-----+----------------+--------------+-----+---------------+-----+-----+-----+------+------+-----+----+----+-----+----+-----+----------+------+-----+------+------+-----+-----+-----+------+-------+-------+------+-------+-------+----+----------------------+------------+----+----+-----+--------------------+-----+-----+-----+-------------+-----+---+-----+------------------+-----+-----------------+-----+-----+-----+----+-----+-----+-----+-----+--------------+-----+-----+------+------+------+------+------+-----+----+\n",
            "|2020|11 |11     |NULL   |1    |4    |7  |3    |1110011|110015970|1    |1    |152452|130.59560514|149.67110856|1114  |1   |1    |5     |8     |1984  |35   |1   |4       |5           |NULL|NULL|NULL|NULL|2    |2    |2           |2           |2         |2        |2     |2           |2     |2        |2                   |2           |2     |NULL          |NULL                |NULL                 |NULL                            |NULL                            |NULL                |NULL                 |NULL |NULL                 |NULL               |NULL               |NULL |NULL |NULL |NULL                  |NULL                   |1          |2   |NULL |NULL |NULL |NULL |NULL |NULL |2    |2    |2    |2    |2    |2    |2   |1                    |NULL                |NULL                   |NULL                 |NULL|NULL |NULL |NULL |2               |4             |NULL |1              |35   |6    |NULL |NULL  |NULL  |NULL |48  |48  |NULL |1   |1    |4         |1045  |NULL |NULL  |NULL  |NULL |NULL |1    |1     |4      |1045   |NULL  |NULL   |NULL   |1   |NULL                  |NULL        |NULL|NULL|NULL |2                   |NULL |2    |NULL |2            |NULL |2  |NULL |1                 |1200 |2                |NULL |2    |NULL |3   |NULL |NULL |NULL |NULL |1             |NULL |NULL |1     |1     |1     |2     |1     |1    |2   |\n",
            "|2020|11 |11     |NULL   |1    |4    |7  |3    |1110011|110015970|1    |1    |154289|130.59560514|145.29668757|1123  |2   |2    |18    |8     |1990  |29   |2   |4       |7           |2   |NULL|NULL|NULL|2    |2    |2           |2           |2         |2        |2     |2           |2     |2        |2                   |2           |2     |NULL          |NULL                |NULL                 |NULL                            |NULL                            |NULL                |NULL                 |NULL |NULL                 |NULL               |NULL               |NULL |NULL |NULL |NULL                  |NULL                   |2          |2   |NULL |NULL |NULL |NULL |NULL |NULL |2    |2    |2    |2    |2    |2    |3   |2                    |1                   |1                      |2                    |2   |4    |NULL |NULL |NULL            |NULL          |NULL |NULL           |NULL |NULL |NULL |NULL  |NULL  |NULL |NULL|NULL|NULL |NULL|NULL |NULL      |NULL  |NULL |NULL  |NULL  |NULL |NULL |NULL |NULL  |NULL   |NULL   |NULL  |NULL   |NULL   |NULL|NULL                  |2           |2   |10  |1    |2                   |NULL |2    |NULL |2            |NULL |2  |NULL |1                 |1200 |2                |NULL |2    |NULL |3   |NULL |NULL |NULL |NULL |1             |NULL |NULL |1     |1     |1     |2     |1     |1    |2   |\n",
            "|2020|11 |11     |NULL   |1    |4    |7  |3    |1110011|110015970|1    |1    |145749|130.59560514|166.25411441|1112  |3   |4    |25    |12    |2006  |13   |1   |4       |2           |1   |1   |5   |3   |2    |2    |2           |2           |2         |2        |2     |2           |2     |2        |2                   |2           |2     |NULL          |NULL                |NULL                 |NULL                            |NULL                            |NULL                |NULL                 |NULL |NULL                 |NULL               |NULL               |NULL |NULL |NULL |NULL                  |NULL                   |1          |2   |NULL |NULL |NULL |NULL |NULL |NULL |2    |2    |2    |2    |2    |2    |4   |NULL                 |NULL                |NULL                   |NULL                 |NULL|NULL |NULL |NULL |NULL            |NULL          |NULL |NULL           |NULL |NULL |NULL |NULL  |NULL  |NULL |NULL|NULL|NULL |NULL|NULL |NULL      |NULL  |NULL |NULL  |NULL  |NULL |NULL |NULL |NULL  |NULL   |NULL   |NULL  |NULL   |NULL   |NULL|NULL                  |NULL        |NULL|NULL|NULL |2                   |NULL |2    |NULL |2            |NULL |2  |NULL |1                 |1200 |2                |NULL |2    |NULL |3   |NULL |NULL |NULL |NULL |1             |NULL |NULL |1     |1     |1     |2     |1     |1    |2   |\n",
            "|2020|11 |11     |NULL   |1    |4    |7  |3    |1110011|110015970|1    |1    |145749|130.59560514|166.25411441|1112  |4   |4    |24    |8     |2009  |10   |1   |4       |2           |1   |1   |5   |3   |2    |2    |2           |2           |2         |2        |2     |2           |2     |2        |2                   |2           |2     |NULL          |NULL                |NULL                 |NULL                            |NULL                            |NULL                |NULL                 |NULL |NULL                 |NULL               |NULL               |NULL |NULL |NULL |NULL                  |NULL                   |1          |2   |NULL |NULL |NULL |NULL |NULL |NULL |2    |2    |2    |2    |2    |2    |4   |NULL                 |NULL                |NULL                   |NULL                 |NULL|NULL |NULL |NULL |NULL            |NULL          |NULL |NULL           |NULL |NULL |NULL |NULL  |NULL  |NULL |NULL|NULL|NULL |NULL|NULL |NULL      |NULL  |NULL |NULL  |NULL  |NULL |NULL |NULL |NULL  |NULL   |NULL   |NULL  |NULL   |NULL   |NULL|NULL                  |NULL        |NULL|NULL|NULL |2                   |NULL |2    |NULL |2            |NULL |2  |NULL |1                 |1200 |2                |NULL |2    |NULL |3   |NULL |NULL |NULL |NULL |1             |NULL |NULL |1     |1     |1     |2     |1     |1    |2   |\n",
            "|2020|11 |11     |NULL   |2    |1    |7  |3    |1110011|110015970|1    |1    |91395 |130.59560514|126.96047655|1126  |1   |1    |18    |5     |1963  |57   |2   |1       |2           |NULL|NULL|NULL|NULL|2    |2    |2           |2           |2         |2        |2     |2           |2     |2        |2                   |2           |2     |NULL          |NULL                |NULL                 |NULL                            |NULL                            |NULL                |NULL                 |NULL |NULL                 |NULL               |NULL               |NULL |NULL |NULL |NULL                  |NULL                   |2          |2   |NULL |NULL |NULL |NULL |NULL |NULL |2    |2    |2    |2    |2    |2    |3   |2                    |2                   |NULL                   |NULL                 |NULL|NULL |NULL |NULL |NULL            |NULL          |NULL |NULL           |NULL |NULL |NULL |NULL  |NULL  |NULL |NULL|NULL|NULL |NULL|NULL |NULL      |NULL  |NULL |NULL  |NULL  |NULL |NULL |NULL |NULL  |NULL   |NULL   |NULL  |NULL   |NULL   |NULL|NULL                  |2           |2   |1   |1    |2                   |NULL |2    |NULL |2            |NULL |1  |1045 |2                 |NULL |2                |NULL |2    |NULL |3   |NULL |NULL |NULL |NULL |1             |NULL |NULL |1     |1     |1     |2     |1     |1    |1   |\n",
            "+----+---+-------+-------+-----+-----+---+-----+-------+---------+-----+-----+------+------------+------------+------+----+-----+------+------+------+-----+----+--------+------------+----+----+----+----+-----+-----+------------+------------+----------+---------+------+------------+------+---------+--------------------+------------+------+--------------+--------------------+---------------------+--------------------------------+--------------------------------+--------------------+---------------------+-----+---------------------+-------------------+-------------------+-----+-----+-----+----------------------+-----------------------+-----------+----+-----+-----+-----+-----+-----+-----+-----+-----+-----+-----+-----+-----+----+---------------------+--------------------+-----------------------+---------------------+----+-----+-----+-----+----------------+--------------+-----+---------------+-----+-----+-----+------+------+-----+----+----+-----+----+-----+----------+------+-----+------+------+-----+-----+-----+------+-------+-------+------+-------+-------+----+----------------------+------------+----+----+-----+--------------------+-----+-----+-----+-------------+-----+---+-----+------------------+-----+-----------------+-----+-----+-----+----+-----+-----+-----+-----+--------------+-----+-----+------+------+------+------+------+-----+----+\n",
            "only showing top 5 rows\n",
            "\n"
          ]
        },
        {
          "output_type": "execute_result",
          "data": {
            "text/plain": [
              "384166"
            ]
          },
          "metadata": {},
          "execution_count": 9
        }
      ]
    },
    {
      "cell_type": "markdown",
      "source": [
        "## Selecionando Variáveis e Realizando Transformações conforme documentação"
      ],
      "metadata": {
        "id": "Hl3JQcfdheq9"
      }
    },
    {
      "cell_type": "markdown",
      "source": [
        "###Ajuste de Condições 05/2020"
      ],
      "metadata": {
        "id": "a8ZFyzqUbs82"
      }
    },
    {
      "cell_type": "code",
      "source": [
        "PNAD_COVID_052020 = spark.sql (\"\"\"\n",
        "    SELECT\n",
        "          ANO\n",
        "        , MES\n",
        "        , CAST(CONCAT(ANO, '-', MES, '-01') AS DATE) AS DATA\n",
        "        , CASE\n",
        "            WHEN UF = 11 THEN 'RO'\n",
        "            WHEN UF = 12 THEN 'AC'\n",
        "            WHEN UF = 13 THEN 'AM'\n",
        "            WHEN UF = 14 THEN 'RR'\n",
        "            WHEN UF = 15 THEN 'PA'\n",
        "            WHEN UF = 16 THEN 'AP'\n",
        "            WHEN UF = 17 THEN 'TO'\n",
        "            WHEN UF = 21 THEN 'MA'\n",
        "            WHEN UF = 22 THEN 'PI'\n",
        "            WHEN UF = 23 THEN 'CE'\n",
        "            WHEN UF = 24 THEN 'RN'\n",
        "            WHEN UF = 25 THEN 'PB'\n",
        "            WHEN UF = 26 THEN 'PE'\n",
        "            WHEN UF = 27 THEN 'AL'\n",
        "            WHEN UF = 28 THEN 'SE'\n",
        "            WHEN UF = 29 THEN 'BA'\n",
        "            WHEN UF = 31 THEN 'MG'\n",
        "            WHEN UF = 32 THEN 'ES'\n",
        "            WHEN UF = 33 THEN 'RJ'\n",
        "            WHEN UF = 35 THEN 'SP'\n",
        "            WHEN UF = 41 THEN 'PR'\n",
        "            WHEN UF = 42 THEN 'SC'\n",
        "            WHEN UF = 43 THEN 'RS'\n",
        "            WHEN UF = 50 THEN 'MS'\n",
        "            WHEN UF = 51 THEN 'MT'\n",
        "            WHEN UF = 52 THEN 'GO'\n",
        "            WHEN UF = 53 THEN 'DF'\n",
        "            ELSE 'DESCONHECIDO'\n",
        "        END AS UF\n",
        "        , CASE\n",
        "            WHEN CAPITAL = 11 THEN 'PORTO VELHO'\n",
        "            WHEN CAPITAL = 12 THEN 'RIO BRANCO'\n",
        "            WHEN CAPITAL = 13 THEN 'MANAUS'\n",
        "            WHEN CAPITAL = 14 THEN 'BOA VISTA'\n",
        "            WHEN CAPITAL = 15 THEN 'BELEM'\n",
        "            WHEN CAPITAL = 16 THEN 'MACAPA'\n",
        "            WHEN CAPITAL = 17 THEN 'PALMAS'\n",
        "            WHEN CAPITAL = 21 THEN 'SAO LUIS'\n",
        "            WHEN CAPITAL = 22 THEN 'TERESINA'\n",
        "            WHEN CAPITAL = 23 THEN 'FORTALEZA'\n",
        "            WHEN CAPITAL = 24 THEN 'NATAL'\n",
        "            WHEN CAPITAL = 25 THEN 'JOAO PESSOA'\n",
        "            WHEN CAPITAL = 26 THEN 'RECIFE'\n",
        "            WHEN CAPITAL = 27 THEN 'MACEIO'\n",
        "            WHEN CAPITAL = 28 THEN 'ARACAJU'\n",
        "            WHEN CAPITAL = 29 THEN 'SALVADOR'\n",
        "            WHEN CAPITAL = 31 THEN 'BELO HORIZONTE'\n",
        "            WHEN CAPITAL = 32 THEN 'VITORIA'\n",
        "            WHEN CAPITAL = 33 THEN 'RIO DE JANEIRO'\n",
        "            WHEN CAPITAL = 35 THEN 'SAO PAULO'\n",
        "            WHEN CAPITAL = 41 THEN 'CURITIBA'\n",
        "            WHEN CAPITAL = 42 THEN 'FLORIANOPOLIS'\n",
        "            WHEN CAPITAL = 43 THEN 'PORTO ALEGRE'\n",
        "            WHEN CAPITAL = 50 THEN 'CAMPO GRANDE'\n",
        "            WHEN CAPITAL = 51 THEN 'CUIABA'\n",
        "            WHEN CAPITAL = 52 THEN 'GOIANIA'\n",
        "            WHEN CAPITAL = 53 THEN 'BRASILIA'\n",
        "            ELSE 'DESCONHECIDO'\n",
        "        END AS CAPITAL\n",
        "        , CASE\n",
        "            WHEN LOCAL = 1 THEN 'URBANO'\n",
        "            WHEN LOCAL = 2 THEN 'RURAL'\n",
        "            ELSE 'DESCONHECIDO'\n",
        "        END AS LOCAL\n",
        "        , IDADE\n",
        "        , CASE\n",
        "            WHEN IDADE BETWEEN 0 AND 12 THEN 'CRIANCA'\n",
        "            WHEN IDADE BETWEEN 13 AND 17 THEN 'ADOLESCENTE'\n",
        "            WHEN IDADE BETWEEN 18 AND 59 THEN 'ADULTO'\n",
        "            WHEN IDADE >= 60 THEN 'IDOSO'\n",
        "            ELSE 'DESCONHECIDO'\n",
        "        END AS GRUPO_IDADE\n",
        "        , CASE\n",
        "            WHEN SEXO = 1 THEN 'MASCULINO'\n",
        "            WHEN SEXO = 2 THEN 'FEMININO'\n",
        "            ELSE 'DESCONHECIDO'\n",
        "        END AS SEXO\n",
        "        , CASE\n",
        "            WHEN COR_RACA = 1 THEN 'BRANCA'\n",
        "            WHEN COR_RACA = 2 THEN 'PRETA'\n",
        "            WHEN COR_RACA = 3 THEN 'AMARELA'\n",
        "            WHEN COR_RACA = 4 THEN 'PARDA'\n",
        "            WHEN COR_RACA = 5 THEN 'INDIGENA'\n",
        "            WHEN COR_RACA = 9 THEN 'NAO INFORMADO'\n",
        "            ELSE 'DESCONHECIDO'\n",
        "        END AS COR_RACA\n",
        "        , CASE\n",
        "            WHEN ESCOLARIDADE = 1 THEN 'SEM INSTRUCAO'\n",
        "            WHEN ESCOLARIDADE = 2 THEN 'ENSINO FUNDAMENTAL INCOMPLETO'\n",
        "            WHEN ESCOLARIDADE = 3 THEN 'ENSINO FUNDAMENTAL COMPLETO'\n",
        "            WHEN ESCOLARIDADE = 4 THEN 'ENSINO MEDIO INCOMPLETO'\n",
        "            WHEN ESCOLARIDADE = 5 THEN 'ENSINO MEDIO COMPLETO'\n",
        "            WHEN ESCOLARIDADE = 6 THEN 'SUPERIOR INCOMPLETO'\n",
        "            WHEN ESCOLARIDADE = 7 THEN 'SUPERIOR COMPLETO'\n",
        "            WHEN ESCOLARIDADE = 8 THEN 'POS-MESTRADO-DOUTORADO'\n",
        "            ELSE 'DESCONHECIDO'\n",
        "        END AS ESCOLARIDADE\n",
        "        , CASE\n",
        "            WHEN FEBRE = 1 THEN 'SIM'\n",
        "            WHEN FEBRE = 2 THEN 'NAO'\n",
        "            WHEN FEBRE = 3 THEN 'NAO SABE'\n",
        "            WHEN FEBRE = 9 THEN 'IGNORADO'\n",
        "            ELSE 'DESCONHECIDO'\n",
        "        END AS FEBRE\n",
        "        , CASE\n",
        "            WHEN TOSSE = 1 THEN 'SIM'\n",
        "            WHEN TOSSE = 2 THEN 'NAO'\n",
        "            WHEN TOSSE = 3 THEN 'NAO SABE'\n",
        "            WHEN TOSSE = 9 THEN 'IGNORADO'\n",
        "            ELSE 'DESCONHECIDO'\n",
        "        END AS TOSSE\n",
        "        , CASE\n",
        "            WHEN DOR_GARGANTE = 1 THEN 'SIM'\n",
        "            WHEN DOR_GARGANTE = 2 THEN 'NAO'\n",
        "            WHEN DOR_GARGANTE = 3 THEN 'NAO SABE'\n",
        "            WHEN DOR_GARGANTE = 9 THEN 'IGNORADO'\n",
        "            ELSE 'DESCONHECIDO'\n",
        "        END AS DOR_GARGANTE\n",
        "        , CASE\n",
        "            WHEN DIF_RESPIRAR = 1 THEN 'SIM'\n",
        "            WHEN DIF_RESPIRAR = 2 THEN 'NAO'\n",
        "            WHEN DIF_RESPIRAR = 3 THEN 'NAO SABE'\n",
        "            WHEN DIF_RESPIRAR = 9 THEN 'IGNORADO'\n",
        "            ELSE 'DESCONHECIDO'\n",
        "        END AS DIF_RESPIRAR\n",
        "        , CASE\n",
        "            WHEN DOR_CABECA = 1 THEN 'SIM'\n",
        "            WHEN DOR_CABECA = 2 THEN 'NAO'\n",
        "            WHEN DOR_CABECA = 3 THEN 'NAO SABE'\n",
        "            WHEN DOR_CABECA = 9 THEN 'IGNORADO'\n",
        "            ELSE 'DESCONHECIDO'\n",
        "        END AS DOR_CABECA\n",
        "        , CASE\n",
        "            WHEN DOR_PEITO = 1 THEN 'SIM'\n",
        "            WHEN DOR_PEITO = 2 THEN 'NAO'\n",
        "            WHEN DOR_PEITO = 3 THEN 'NAO SABE'\n",
        "            WHEN DOR_PEITO = 9 THEN 'IGNORADO'\n",
        "            ELSE 'DESCONHECIDO'\n",
        "        END AS DOR_PEITO\n",
        "        , CASE\n",
        "            WHEN NAUSEA = 1 THEN 'SIM'\n",
        "            WHEN NAUSEA = 2 THEN 'NAO'\n",
        "            WHEN NAUSEA = 3 THEN 'NAO SABE'\n",
        "            WHEN NAUSEA = 9 THEN 'IGNORADO'\n",
        "            ELSE 'DESCONHECIDO'\n",
        "        END AS NAUSEA\n",
        "        , CASE\n",
        "            WHEN NARIZ_CORIZA = 1 THEN 'SIM'\n",
        "            WHEN NARIZ_CORIZA = 2 THEN 'NAO'\n",
        "            WHEN NARIZ_CORIZA = 3 THEN 'NAO SABE'\n",
        "            WHEN NARIZ_CORIZA = 9 THEN 'IGNORADO'\n",
        "            ELSE 'DESCONHECIDO'\n",
        "        END AS NARIZ_CORIZA\n",
        "        , CASE\n",
        "            WHEN FADIGA = 1 THEN 'SIM'\n",
        "            WHEN FADIGA = 2 THEN 'NAO'\n",
        "            WHEN FADIGA = 3 THEN 'NAO SABE'\n",
        "            WHEN FADIGA = 9 THEN 'IGNORADO'\n",
        "            ELSE 'DESCONHECIDO'\n",
        "        END AS FADIGA\n",
        "        , CASE\n",
        "            WHEN DOR_OLHOS = 1 THEN 'SIM'\n",
        "            WHEN DOR_OLHOS = 2 THEN 'NAO'\n",
        "            WHEN DOR_OLHOS = 3 THEN 'NAO SABE'\n",
        "            WHEN DOR_OLHOS = 9 THEN 'IGNORADO'\n",
        "            ELSE 'DESCONHECIDO'\n",
        "        END AS DOR_OLHOS\n",
        "        , CASE\n",
        "            WHEN PERDA_PALADAR_OLFATO = 1 THEN 'SIM'\n",
        "            WHEN PERDA_PALADAR_OLFATO = 2 THEN 'NAO'\n",
        "            WHEN PERDA_PALADAR_OLFATO = 3 THEN 'NAO SABE'\n",
        "            WHEN PERDA_PALADAR_OLFATO = 9 THEN 'IGNORADO'\n",
        "            ELSE 'DESCONHECIDO'\n",
        "        END AS PERDA_PALADAR_OLFATO\n",
        "        , CASE\n",
        "            WHEN DOR_MUSCULAR = 1 THEN 'SIM'\n",
        "            WHEN DOR_MUSCULAR = 2 THEN 'NAO'\n",
        "            WHEN DOR_MUSCULAR = 3 THEN 'NAO SABE'\n",
        "            WHEN DOR_MUSCULAR = 9 THEN 'IGNORADO'\n",
        "            ELSE 'DESCONHECIDO'\n",
        "        END AS DOR_MUSCULAR\n",
        "        , CASE\n",
        "            WHEN FEBRE = 'SIM' OR TOSSE = 'SIM' OR DOR_GARGANTE = 'SIM' OR DIF_RESPIRAR = 'SIM'\n",
        "                 OR DOR_CABECA = 'SIM' OR DOR_PEITO = 'SIM' OR NAUSEA = 'SIM'\n",
        "                 OR NARIZ_CORIZA = 'SIM' OR FADIGA = 'SIM' OR DOR_OLHOS = 'SIM'\n",
        "                 OR PERDA_PALADAR_OLFATO = 'SIM' OR DOR_MUSCULAR = 'SIM' THEN 'TEM SINTOMA'\n",
        "            WHEN FEBRE = 'NAO' AND TOSSE = 'NAO' AND DOR_GARGANTE = 'NAO' AND DIF_RESPIRAR = 'NAO'\n",
        "                 AND DOR_CABECA = 'NAO' AND DOR_PEITO = 'NAO' AND NAUSEA = 'NAO'\n",
        "                 AND NARIZ_CORIZA = 'NAO' AND FADIGA = 'NAO' AND DOR_OLHOS = 'NAO'\n",
        "                 AND PERDA_PALADAR_OLFATO = 'NAO' AND DOR_MUSCULAR = 'NAO' THEN 'ASSINTOMATICO'\n",
        "            ELSE 'DESCONHECIDO'\n",
        "        END AS ESTADO_SINTOMA\n",
        "        , CASE\n",
        "            WHEN PROC_EST_SAUDE = 1 THEN 'SIM'\n",
        "            WHEN PROC_EST_SAUDE = 2 THEN 'NAO'\n",
        "            WHEN PROC_EST_SAUDE = 9 THEN 'IGNORADO'\n",
        "            ELSE 'DESCONHECIDO'\n",
        "        END AS PROC_EST_SAUDE\n",
        "        , CASE\n",
        "            WHEN PROV_SINT_FICAR_CASA = 1 THEN 'SIM'\n",
        "            WHEN PROV_SINT_FICAR_CASA = 2 THEN 'NAO'\n",
        "            WHEN PROV_SINT_FICAR_CASA = 9 THEN 'IGNORADO'\n",
        "            ELSE 'DESCONHECIDO'\n",
        "        END AS PROV_SINT_FICAR_CASA\n",
        "        , CASE\n",
        "            WHEN PROV_SINT_BUSCAR_PROF = 1 THEN 'SIM'\n",
        "            WHEN PROV_SINT_BUSCAR_PROF = 2 THEN 'NAO'\n",
        "            WHEN PROV_SINT_BUSCAR_PROF = 9 THEN 'IGNORADO'\n",
        "            ELSE 'DESCONHECIDO'\n",
        "        END AS PROV_SINT_BUSCAR_PROF\n",
        "        , CASE\n",
        "            WHEN PROV_COMP_REMEDIO_SEM_ORIENTACAO = 1 THEN 'SIM'\n",
        "            WHEN PROV_COMP_REMEDIO_SEM_ORIENTACAO = 2 THEN 'NAO'\n",
        "            WHEN PROV_COMP_REMEDIO_SEM_ORIENTACAO = 9 THEN 'IGNORADO'\n",
        "            ELSE 'DESCONHECIDO'\n",
        "        END AS PROV_COMP_REMEDIO_SEM_ORIENTACAO\n",
        "        , CASE\n",
        "            WHEN PROV_COMP_REMEDIO_COM_ORIENTACAO = 1 THEN 'SIM'\n",
        "            WHEN PROV_COMP_REMEDIO_COM_ORIENTACAO = 2 THEN 'NAO'\n",
        "            WHEN PROV_COMP_REMEDIO_COM_ORIENTACAO = 9 THEN 'IGNORADO'\n",
        "            ELSE 'DESCONHECIDO'\n",
        "        END AS PROV_COMP_REMEDIO_COM_ORIENTACAO\n",
        "        , CASE WHEN PROV_VISITA_PROF_SUS = 1 THEN 'SIM'\n",
        "            WHEN PROV_VISITA_PROF_SUS = 2 THEN 'NAO'\n",
        "            WHEN PROV_VISITA_PROF_SUS = 9 THEN 'IGNORADO'\n",
        "            ELSE 'DESCONHECIDO'\n",
        "        END AS PROV_VISITA_PROF_SUS\n",
        "        , CASE\n",
        "            WHEN PROV_VISITA_PROF_PART = 1 THEN 'SIM'\n",
        "            WHEN PROV_VISITA_PROF_PART = 2 THEN 'NAO'\n",
        "            WHEN PROV_VISITA_PROF_PART = 9 THEN 'IGNORADO'\n",
        "            ELSE 'DESCONHECIDO'\n",
        "        END AS PROV_VISITA_PROF_PART\n",
        "        , CASE\n",
        "            WHEN BUSCA_AJUDA_UN_BASICA = 1 THEN 'SIM'\n",
        "            WHEN BUSCA_AJUDA_UN_BASICA = 2 THEN 'NAO'\n",
        "            WHEN BUSCA_AJUDA_UN_BASICA = 9 THEN 'IGNORADO'\n",
        "            ELSE 'DESCONHECIDO'\n",
        "        END AS BUSCA_AJUDA_UN_BASICA\n",
        "        , CASE\n",
        "            WHEN BUSCA_AJUDA_SUS_UPA = 1 THEN 'SIM'\n",
        "            WHEN BUSCA_AJUDA_SUS_UPA = 2 THEN 'NAO'\n",
        "            WHEN BUSCA_AJUDA_SUS_UPA = 9 THEN 'IGNORADO'\n",
        "            ELSE 'DESCONHECIDO'\n",
        "        END AS BUSCA_AJUDA_SUS_UPA\n",
        "        , CASE\n",
        "          WHEN BUSCA_AJUDA_HSP_SUS = 1 THEN 'SIM'\n",
        "            WHEN BUSCA_AJUDA_HSP_SUS = 2 THEN 'NAO'\n",
        "            WHEN BUSCA_AJUDA_HSP_SUS = 9 THEN 'IGNORADO'\n",
        "            ELSE 'DESCONHECIDO'\n",
        "        END AS BUSCA_AJUDA_HSP_SUS\n",
        "        , CASE\n",
        "            WHEN INTERNADO_UM_MAIS_DIAS = 1 THEN 'SIM'\n",
        "            WHEN INTERNADO_UM_MAIS_DIAS = 2 THEN 'NAO'\n",
        "            WHEN INTERNADO_UM_MAIS_DIAS = 9 THEN 'IGNORADO'\n",
        "            ELSE 'DESCONHECIDO'\n",
        "        END AS INTERNADO_UM_MAIS_DIAS\n",
        "        , CASE\n",
        "          WHEN SEDADO_ENTUB_RESP_ARTIF = 1 THEN 'SIM'\n",
        "            WHEN SEDADO_ENTUB_RESP_ARTIF = 2 THEN 'NAO'\n",
        "            WHEN SEDADO_ENTUB_RESP_ARTIF = 9 THEN 'IGNORADO'\n",
        "            ELSE 'DESCONHECIDO'\n",
        "        END AS SEDADO_ENTUB_RESP_ARTIF\n",
        "        , CASE\n",
        "            WHEN PLANO_SAUDE = 1 THEN 'SIM'\n",
        "            WHEN PLANO_SAUDE = 2 THEN 'NAO'\n",
        "            WHEN PLANO_SAUDE = 9 THEN 'IGNORADO'\n",
        "            ELSE 'DESCONHECIDO'\n",
        "        END AS PLANO_SAUDE\n",
        "        , CASE\n",
        "            WHEN TRAB_SEM_PASSADA_BICO = 1 THEN 'SIM'\n",
        "            WHEN TRAB_SEM_PASSADA_BICO = 2 THEN 'NAO'\n",
        "            ELSE 'DESCONHECIDO'\n",
        "        END AS TRAB_SEM_PASSADA_BICO\n",
        "        , CASE\n",
        "            WHEN SEM_PASSADA_AFASTADO = 1 THEN 'SIM'\n",
        "            WHEN SEM_PASSADA_AFASTADO = 2 THEN 'NAO'\n",
        "            ELSE 'DESCONHECIDO'\n",
        "        END AS SEM_PASSADA_AFASTADO\n",
        "        , CASE\n",
        "            WHEN MOTIVO_AFASTAMENTO_TEMP = 1 THEN 'QUARENTENA ISOLAMENTO'\n",
        "            WHEN MOTIVO_AFASTAMENTO_TEMP = 2 THEN 'FOLGA FERIAS'\n",
        "            WHEN MOTIVO_AFASTAMENTO_TEMP = 3 THEN 'MATERNIDADE PATERNIDADE'\n",
        "            WHEN MOTIVO_AFASTAMENTO_TEMP = 4 THEN 'LICENCA REMUNERADA'\n",
        "            WHEN MOTIVO_AFASTAMENTO_TEMP = 5 THEN 'LICENCA REMUNERADA'\n",
        "            WHEN MOTIVO_AFASTAMENTO_TEMP = 6 THEN 'AFASTAMENTO PROPRIO'\n",
        "            WHEN MOTIVO_AFASTAMENTO_TEMP = 7 THEN 'TEMPO GREVE'\n",
        "            WHEN MOTIVO_AFASTAMENTO_TEMP = 8 THEN 'OUTROS'\n",
        "            WHEN MOTIVO_AFASTAMENTO_TEMP = 9 THEN 'DESCONHECIDO'\n",
        "            ELSE 'DESCONHECIDO'\n",
        "        END AS MOTIVO_AFASTAMENTO_TEMP\n",
        "        , CASE\n",
        "            WHEN CONT_SENDO_REMUNERADO = 1 THEN 'SIM'\n",
        "            WHEN CONT_SENDO_REMUNERADO = 2 THEN 'NAO'\n",
        "            WHEN CONT_SENDO_REMUNERADO = 3 THEN 'SEM REMUNERACAO'\n",
        "            ELSE 'DESCONHECIDO'\n",
        "        END AS CONT_SENDO_REMUNERADO\n",
        "        , CASE\n",
        "            WHEN MAIS_UM_TRABALHO = 1 THEN 'SIM'\n",
        "            WHEN MAIS_UM_TRABALHO = 2 THEN 'NAO'\n",
        "            ELSE 'DESCONHECIDO'\n",
        "        END AS MAIS_UM_TRABALHO\n",
        "        , CASE\n",
        "            WHEN SETOR_TRABALHO = 1 THEN 'DEMESTICO'\n",
        "            WHEN SETOR_TRABALHO = 2 THEN 'MILITAR NACIONAL'\n",
        "            WHEN SETOR_TRABALHO = 3 THEN 'MILITAR_ESTADUAL'\n",
        "            WHEN SETOR_TRABALHO = 4 THEN 'SETOR PRIVADO'\n",
        "            WHEN SETOR_TRABALHO = 5 THEN 'SETOR PUBLICO'\n",
        "            WHEN SETOR_TRABALHO = 6 THEN 'EMPREGADOR'\n",
        "            WHEN SETOR_TRABALHO = 7 THEN 'CONTA PROPRIA'\n",
        "            WHEN SETOR_TRABALHO = 8 THEN 'FAMILIA'\n",
        "            WHEN SETOR_TRABALHO = 9 THEN 'FORA DO MERCADO'\n",
        "            ELSE 'DESCONHECIDO'\n",
        "        END AS SETOR_TRABALHO\n",
        "        , CASE\n",
        "            WHEN ASSINATURA_CTPS = 1 THEN 'SIM PRIVADO'\n",
        "            WHEN ASSINATURA_CTPS = 2 THEN 'SIM PUBLICO'\n",
        "            WHEN ASSINATURA_CTPS = 3 THEN 'NAO'\n",
        "            ELSE 'DESCONHECIDO'\n",
        "        END AS ASSINATURA_CTPS\n",
        "        , CASE\n",
        "            WHEN RENDIMENTO = 00 THEN '100,00'\n",
        "            WHEN RENDIMENTO = 01 THEN '300,00'\n",
        "            WHEN RENDIMENTO = 02 THEN '600,00'\n",
        "            WHEN RENDIMENTO = 03 THEN '800,00'\n",
        "            WHEN RENDIMENTO = 04 THEN '1600,00'\n",
        "            WHEN RENDIMENTO = 05 THEN '3000,00'\n",
        "            WHEN RENDIMENTO = 06 THEN '10.000,00'\n",
        "            WHEN RENDIMENTO = 07 THEN '50.000,00'\n",
        "            WHEN RENDIMENTO = 08 THEN '100.000,00'\n",
        "            WHEN RENDIMENTO = 09 THEN 'ACIMA DE 100.000,00'\n",
        "            ELSE 'DESCONHECIDO'\n",
        "        END AS RENDIMENTO\n",
        "        , CASE\n",
        "            WHEN TRAB_REMOTO_PRESENCIAL = 1 THEN 'REMOTO'\n",
        "            WHEN TRAB_REMOTO_PRESENCIAL = 2 THEN 'PRESENCIAL'\n",
        "            ELSE 'DESCONHECIDO'\n",
        "        END AS TRAB_REMOTO_PRESENCIAL\n",
        "        , CASE\n",
        "            WHEN CONTRIB_INSS = 1 THEN 'SIM'\n",
        "            WHEN CONTRIB_INSS = 2 THEN 'NAO'\n",
        "            ELSE 'DESCONHECIDO'\n",
        "        END AS CONTRIB_INSS\n",
        "        , CASE\n",
        "            WHEN TIPO_DOMICILIO = 1 THEN 'PROPRIA'\n",
        "            WHEN TIPO_DOMICILIO = 2 THEN 'PROPRIA PAGANDO'\n",
        "            WHEN TIPO_DOMICILIO = 3 THEN 'ALUGADO'\n",
        "            WHEN TIPO_DOMICILIO = 4 THEN 'CEDIDO EMPREGADOR'\n",
        "            WHEN TIPO_DOMICILIO = 5 THEN 'CEDIDO FAMILIA'\n",
        "            WHEN TIPO_DOMICILIO = 6 THEN 'CEDIDO OUTRA FORMA'\n",
        "            WHEN TIPO_DOMICILIO = 7 THEN 'OUTRA CONDICAO'\n",
        "            ELSE 'DESCONHECIDO'\n",
        "        END AS TIPO_DOMICILIO\n",
        "        , CASE\n",
        "            WHEN BOLSA_FAMILIA = 1 THEN 'SIM'\n",
        "            WHEN BOLSA_FAMILIA = 2 THEN 'NAO'\n",
        "            ELSE 'DESCONHECIDO'\n",
        "        END AS BOLSA_FAMILIA\n",
        "        , CASE\n",
        "            WHEN BPC = 1 THEN 'SIM'\n",
        "            WHEN BPC = 2 THEN 'NAO'\n",
        "            ELSE 'DESCONHECIDO'\n",
        "        END AS BPC\n",
        "        , CASE\n",
        "            WHEN SEGURO_DESEMPREGO = 1 THEN 'SIM'\n",
        "            WHEN SEGURO_DESEMPREGO = 2 THEN 'NAO'\n",
        "            ELSE 'DESCONHECIDO'\n",
        "        END AS SEGURO_DESEMPREGO\n",
        "        , CASE\n",
        "            WHEN BENEF_CORONA_VIRUS = 1 THEN 'SIM'\n",
        "            WHEN BENEF_CORONA_VIRUS = 2 THEN 'NAO'\n",
        "            ELSE 'DESCONHECIDO'\n",
        "        END AS BENEF_CORONA_VIRUS\n",
        "        , CASE\n",
        "            WHEN APOSENTADORIA_PENSAO = 1 THEN 'SIM'\n",
        "            WHEN APOSENTADORIA_PENSAO = 2 THEN 'NAO'\n",
        "            ELSE 'DESCONHECIDO'\n",
        "        END AS APOSENTADORIA_PENSAO\n",
        "\n",
        "    FROM 052020_ADJ\n",
        "\"\"\")\n",
        "\n",
        "PNAD_COVID_052020.createOrReplaceTempView(\"PNAD_COVID_052020\")\n",
        "PNAD_COVID_052020.show(5, truncate=False)\n",
        "PNAD_COVID_052020.count()\n"
      ],
      "metadata": {
        "id": "lk9dqwR9a39p"
      },
      "execution_count": null,
      "outputs": []
    },
    {
      "cell_type": "markdown",
      "source": [
        "###Ajuste de Condições 06/2020"
      ],
      "metadata": {
        "id": "eSTsALfZb88o"
      }
    },
    {
      "cell_type": "code",
      "source": [
        "PNAD_COVID_062020 = spark.sql (\"\"\"\n",
        "    SELECT\n",
        "          ANO\n",
        "        , MES\n",
        "        , CAST(CONCAT(ANO, '-', MES, '-01') AS DATE) AS DATA\n",
        "        , CASE\n",
        "            WHEN UF = 11 THEN 'RO'\n",
        "            WHEN UF = 12 THEN 'AC'\n",
        "            WHEN UF = 13 THEN 'AM'\n",
        "            WHEN UF = 14 THEN 'RR'\n",
        "            WHEN UF = 15 THEN 'PA'\n",
        "            WHEN UF = 16 THEN 'AP'\n",
        "            WHEN UF = 17 THEN 'TO'\n",
        "            WHEN UF = 21 THEN 'MA'\n",
        "            WHEN UF = 22 THEN 'PI'\n",
        "            WHEN UF = 23 THEN 'CE'\n",
        "            WHEN UF = 24 THEN 'RN'\n",
        "            WHEN UF = 25 THEN 'PB'\n",
        "            WHEN UF = 26 THEN 'PE'\n",
        "            WHEN UF = 27 THEN 'AL'\n",
        "            WHEN UF = 28 THEN 'SE'\n",
        "            WHEN UF = 29 THEN 'BA'\n",
        "            WHEN UF = 31 THEN 'MG'\n",
        "            WHEN UF = 32 THEN 'ES'\n",
        "            WHEN UF = 33 THEN 'RJ'\n",
        "            WHEN UF = 35 THEN 'SP'\n",
        "            WHEN UF = 41 THEN 'PR'\n",
        "            WHEN UF = 42 THEN 'SC'\n",
        "            WHEN UF = 43 THEN 'RS'\n",
        "            WHEN UF = 50 THEN 'MS'\n",
        "            WHEN UF = 51 THEN 'MT'\n",
        "            WHEN UF = 52 THEN 'GO'\n",
        "            WHEN UF = 53 THEN 'DF'\n",
        "            ELSE 'DESCONHECIDO'\n",
        "        END AS UF\n",
        "        , CASE\n",
        "            WHEN CAPITAL = 11 THEN 'PORTO VELHO'\n",
        "            WHEN CAPITAL = 12 THEN 'RIO BRANCO'\n",
        "            WHEN CAPITAL = 13 THEN 'MANAUS'\n",
        "            WHEN CAPITAL = 14 THEN 'BOA VISTA'\n",
        "            WHEN CAPITAL = 15 THEN 'BELEM'\n",
        "            WHEN CAPITAL = 16 THEN 'MACAPA'\n",
        "            WHEN CAPITAL = 17 THEN 'PALMAS'\n",
        "            WHEN CAPITAL = 21 THEN 'SAO LUIS'\n",
        "            WHEN CAPITAL = 22 THEN 'TERESINA'\n",
        "            WHEN CAPITAL = 23 THEN 'FORTALEZA'\n",
        "            WHEN CAPITAL = 24 THEN 'NATAL'\n",
        "            WHEN CAPITAL = 25 THEN 'JOAO PESSOA'\n",
        "            WHEN CAPITAL = 26 THEN 'RECIFE'\n",
        "            WHEN CAPITAL = 27 THEN 'MACEIO'\n",
        "            WHEN CAPITAL = 28 THEN 'ARACAJU'\n",
        "            WHEN CAPITAL = 29 THEN 'SALVADOR'\n",
        "            WHEN CAPITAL = 31 THEN 'BELO HORIZONTE'\n",
        "            WHEN CAPITAL = 32 THEN 'VITORIA'\n",
        "            WHEN CAPITAL = 33 THEN 'RIO DE JANEIRO'\n",
        "            WHEN CAPITAL = 35 THEN 'SAO PAULO'\n",
        "            WHEN CAPITAL = 41 THEN 'CURITIBA'\n",
        "            WHEN CAPITAL = 42 THEN 'FLORIANOPOLIS'\n",
        "            WHEN CAPITAL = 43 THEN 'PORTO ALEGRE'\n",
        "            WHEN CAPITAL = 50 THEN 'CAMPO GRANDE'\n",
        "            WHEN CAPITAL = 51 THEN 'CUIABA'\n",
        "            WHEN CAPITAL = 52 THEN 'GOIANIA'\n",
        "            WHEN CAPITAL = 53 THEN 'BRASILIA'\n",
        "            ELSE 'DESCONHECIDO'\n",
        "        END AS CAPITAL\n",
        "        , CASE\n",
        "            WHEN LOCAL = 1 THEN 'URBANO'\n",
        "            WHEN LOCAL = 2 THEN 'RURAL'\n",
        "            ELSE 'DESCONHECIDO'\n",
        "        END AS LOCAL\n",
        "        , IDADE\n",
        "        , CASE\n",
        "            WHEN IDADE BETWEEN 0 AND 12 THEN 'CRIANCA'\n",
        "            WHEN IDADE BETWEEN 13 AND 17 THEN 'ADOLESCENTE'\n",
        "            WHEN IDADE BETWEEN 18 AND 59 THEN 'ADULTO'\n",
        "            WHEN IDADE >= 60 THEN 'IDOSO'\n",
        "            ELSE 'DESCONHECIDO'\n",
        "        END AS GRUPO_IDADE\n",
        "        , CASE\n",
        "            WHEN SEXO = 1 THEN 'MASCULINO'\n",
        "            WHEN SEXO = 2 THEN 'FEMININO'\n",
        "            ELSE 'DESCONHECIDO'\n",
        "        END AS SEXO\n",
        "        , CASE\n",
        "            WHEN COR_RACA = 1 THEN 'BRANCA'\n",
        "            WHEN COR_RACA = 2 THEN 'PRETA'\n",
        "            WHEN COR_RACA = 3 THEN 'AMARELA'\n",
        "            WHEN COR_RACA = 4 THEN 'PARDA'\n",
        "            WHEN COR_RACA = 5 THEN 'INDIGENA'\n",
        "            WHEN COR_RACA = 9 THEN 'NAO INFORMADO'\n",
        "            ELSE 'DESCONHECIDO'\n",
        "        END AS COR_RACA\n",
        "        , CASE\n",
        "            WHEN ESCOLARIDADE = 1 THEN 'SEM INSTRUCAO'\n",
        "            WHEN ESCOLARIDADE = 2 THEN 'ENSINO FUNDAMENTAL INCOMPLETO'\n",
        "            WHEN ESCOLARIDADE = 3 THEN 'ENSINO FUNDAMENTAL COMPLETO'\n",
        "            WHEN ESCOLARIDADE = 4 THEN 'ENSINO MEDIO INCOMPLETO'\n",
        "            WHEN ESCOLARIDADE = 5 THEN 'ENSINO MEDIO COMPLETO'\n",
        "            WHEN ESCOLARIDADE = 6 THEN 'SUPERIOR INCOMPLETO'\n",
        "            WHEN ESCOLARIDADE = 7 THEN 'SUPERIOR COMPLETO'\n",
        "            WHEN ESCOLARIDADE = 8 THEN 'POS-MESTRADO-DOUTORADO'\n",
        "            ELSE 'DESCONHECIDO'\n",
        "        END AS ESCOLARIDADE\n",
        "        , CASE\n",
        "            WHEN FEBRE = 1 THEN 'SIM'\n",
        "            WHEN FEBRE = 2 THEN 'NAO'\n",
        "            WHEN FEBRE = 3 THEN 'NAO SABE'\n",
        "            WHEN FEBRE = 9 THEN 'IGNORADO'\n",
        "            ELSE 'DESCONHECIDO'\n",
        "        END AS FEBRE\n",
        "        , CASE\n",
        "            WHEN TOSSE = 1 THEN 'SIM'\n",
        "            WHEN TOSSE = 2 THEN 'NAO'\n",
        "            WHEN TOSSE = 3 THEN 'NAO SABE'\n",
        "            WHEN TOSSE = 9 THEN 'IGNORADO'\n",
        "            ELSE 'DESCONHECIDO'\n",
        "        END AS TOSSE\n",
        "        , CASE\n",
        "            WHEN DOR_GARGANTE = 1 THEN 'SIM'\n",
        "            WHEN DOR_GARGANTE = 2 THEN 'NAO'\n",
        "            WHEN DOR_GARGANTE = 3 THEN 'NAO SABE'\n",
        "            WHEN DOR_GARGANTE = 9 THEN 'IGNORADO'\n",
        "            ELSE 'DESCONHECIDO'\n",
        "        END AS DOR_GARGANTE\n",
        "        , CASE\n",
        "            WHEN DIF_RESPIRAR = 1 THEN 'SIM'\n",
        "            WHEN DIF_RESPIRAR = 2 THEN 'NAO'\n",
        "            WHEN DIF_RESPIRAR = 3 THEN 'NAO SABE'\n",
        "            WHEN DIF_RESPIRAR = 9 THEN 'IGNORADO'\n",
        "            ELSE 'DESCONHECIDO'\n",
        "        END AS DIF_RESPIRAR\n",
        "        , CASE\n",
        "            WHEN DOR_CABECA = 1 THEN 'SIM'\n",
        "            WHEN DOR_CABECA = 2 THEN 'NAO'\n",
        "            WHEN DOR_CABECA = 3 THEN 'NAO SABE'\n",
        "            WHEN DOR_CABECA = 9 THEN 'IGNORADO'\n",
        "            ELSE 'DESCONHECIDO'\n",
        "        END AS DOR_CABECA\n",
        "        , CASE\n",
        "            WHEN DOR_PEITO = 1 THEN 'SIM'\n",
        "            WHEN DOR_PEITO = 2 THEN 'NAO'\n",
        "            WHEN DOR_PEITO = 3 THEN 'NAO SABE'\n",
        "            WHEN DOR_PEITO = 9 THEN 'IGNORADO'\n",
        "            ELSE 'DESCONHECIDO'\n",
        "        END AS DOR_PEITO\n",
        "        , CASE\n",
        "            WHEN NAUSEA = 1 THEN 'SIM'\n",
        "            WHEN NAUSEA = 2 THEN 'NAO'\n",
        "            WHEN NAUSEA = 3 THEN 'NAO SABE'\n",
        "            WHEN NAUSEA = 9 THEN 'IGNORADO'\n",
        "            ELSE 'DESCONHECIDO'\n",
        "        END AS NAUSEA\n",
        "        , CASE\n",
        "            WHEN NARIZ_CORIZA = 1 THEN 'SIM'\n",
        "            WHEN NARIZ_CORIZA = 2 THEN 'NAO'\n",
        "            WHEN NARIZ_CORIZA = 3 THEN 'NAO SABE'\n",
        "            WHEN NARIZ_CORIZA = 9 THEN 'IGNORADO'\n",
        "            ELSE 'DESCONHECIDO'\n",
        "        END AS NARIZ_CORIZA\n",
        "        , CASE\n",
        "            WHEN FADIGA = 1 THEN 'SIM'\n",
        "            WHEN FADIGA = 2 THEN 'NAO'\n",
        "            WHEN FADIGA = 3 THEN 'NAO SABE'\n",
        "            WHEN FADIGA = 9 THEN 'IGNORADO'\n",
        "            ELSE 'DESCONHECIDO'\n",
        "        END AS FADIGA\n",
        "        , CASE\n",
        "            WHEN DOR_OLHOS = 1 THEN 'SIM'\n",
        "            WHEN DOR_OLHOS = 2 THEN 'NAO'\n",
        "            WHEN DOR_OLHOS = 3 THEN 'NAO SABE'\n",
        "            WHEN DOR_OLHOS = 9 THEN 'IGNORADO'\n",
        "            ELSE 'DESCONHECIDO'\n",
        "        END AS DOR_OLHOS\n",
        "        , CASE\n",
        "            WHEN PERDA_PALADAR_OLFATO = 1 THEN 'SIM'\n",
        "            WHEN PERDA_PALADAR_OLFATO = 2 THEN 'NAO'\n",
        "            WHEN PERDA_PALADAR_OLFATO = 3 THEN 'NAO SABE'\n",
        "            WHEN PERDA_PALADAR_OLFATO = 9 THEN 'IGNORADO'\n",
        "            ELSE 'DESCONHECIDO'\n",
        "        END AS PERDA_PALADAR_OLFATO\n",
        "        , CASE\n",
        "            WHEN DOR_MUSCULAR = 1 THEN 'SIM'\n",
        "            WHEN DOR_MUSCULAR = 2 THEN 'NAO'\n",
        "            WHEN DOR_MUSCULAR = 3 THEN 'NAO SABE'\n",
        "            WHEN DOR_MUSCULAR = 9 THEN 'IGNORADO'\n",
        "            ELSE 'DESCONHECIDO'\n",
        "        END AS DOR_MUSCULAR\n",
        "        , CASE\n",
        "            WHEN FEBRE = 'SIM' OR TOSSE = 'SIM' OR DOR_GARGANTE = 'SIM' OR DIF_RESPIRAR = 'SIM'\n",
        "                 OR DOR_CABECA = 'SIM' OR DOR_PEITO = 'SIM' OR NAUSEA = 'SIM'\n",
        "                 OR NARIZ_CORIZA = 'SIM' OR FADIGA = 'SIM' OR DOR_OLHOS = 'SIM'\n",
        "                 OR PERDA_PALADAR_OLFATO = 'SIM' OR DOR_MUSCULAR = 'SIM' THEN 'TEM SINTOMA'\n",
        "            WHEN FEBRE = 'NAO' AND TOSSE = 'NAO' AND DOR_GARGANTE = 'NAO' AND DIF_RESPIRAR = 'NAO'\n",
        "                 AND DOR_CABECA = 'NAO' AND DOR_PEITO = 'NAO' AND NAUSEA = 'NAO'\n",
        "                 AND NARIZ_CORIZA = 'NAO' AND FADIGA = 'NAO' AND DOR_OLHOS = 'NAO'\n",
        "                 AND PERDA_PALADAR_OLFATO = 'NAO' AND DOR_MUSCULAR = 'NAO' THEN 'ASSINTOMATICO'\n",
        "        END AS ESTADO_SINTOMA\n",
        "        , CASE\n",
        "            WHEN PROC_EST_SAUDE = 1 THEN 'SIM'\n",
        "            WHEN PROC_EST_SAUDE = 2 THEN 'NAO'\n",
        "            WHEN PROC_EST_SAUDE = 9 THEN 'IGNORADO'\n",
        "            ELSE 'DESCONHECIDO'\n",
        "        END AS PROC_EST_SAUDE\n",
        "        , CASE\n",
        "            WHEN PROV_SINT_FICAR_CASA = 1 THEN 'SIM'\n",
        "            WHEN PROV_SINT_FICAR_CASA = 2 THEN 'NAO'\n",
        "            WHEN PROV_SINT_FICAR_CASA = 9 THEN 'IGNORADO'\n",
        "            ELSE 'DESCONHECIDO'\n",
        "        END AS PROV_SINT_FICAR_CASA\n",
        "        , CASE\n",
        "            WHEN PROV_SINT_BUSCAR_PROF = 1 THEN 'SIM'\n",
        "            WHEN PROV_SINT_BUSCAR_PROF = 2 THEN 'NAO'\n",
        "            WHEN PROV_SINT_BUSCAR_PROF = 9 THEN 'IGNORADO'\n",
        "            ELSE 'DESCONHECIDO'\n",
        "        END AS PROV_SINT_BUSCAR_PROF\n",
        "        , CASE\n",
        "            WHEN PROV_COMP_REMEDIO_SEM_ORIENTACAO = 1 THEN 'SIM'\n",
        "            WHEN PROV_COMP_REMEDIO_SEM_ORIENTACAO = 2 THEN 'NAO'\n",
        "            WHEN PROV_COMP_REMEDIO_SEM_ORIENTACAO = 9 THEN 'IGNORADO'\n",
        "            ELSE 'DESCONHECIDO'\n",
        "        END AS PROV_COMP_REMEDIO_SEM_ORIENTACAO\n",
        "        , CASE\n",
        "            WHEN PROV_COMP_REMEDIO_COM_ORIENTACAO = 1 THEN 'SIM'\n",
        "            WHEN PROV_COMP_REMEDIO_COM_ORIENTACAO = 2 THEN 'NAO'\n",
        "            WHEN PROV_COMP_REMEDIO_COM_ORIENTACAO = 9 THEN 'IGNORADO'\n",
        "            ELSE 'DESCONHECIDO'\n",
        "        END AS PROV_COMP_REMEDIO_COM_ORIENTACAO\n",
        "        , CASE WHEN PROV_VISITA_PROF_SUS = 1 THEN 'SIM'\n",
        "            WHEN PROV_VISITA_PROF_SUS = 2 THEN 'NAO'\n",
        "            WHEN PROV_VISITA_PROF_SUS = 9 THEN 'IGNORADO'\n",
        "            ELSE 'DESCONHECIDO'\n",
        "        END AS PROV_VISITA_PROF_SUS\n",
        "        , CASE\n",
        "            WHEN PROV_VISITA_PROF_PART = 1 THEN 'SIM'\n",
        "            WHEN PROV_VISITA_PROF_PART = 2 THEN 'NAO'\n",
        "            WHEN PROV_VISITA_PROF_PART = 9 THEN 'IGNORADO'\n",
        "            ELSE 'DESCONHECIDO'\n",
        "        END AS PROV_VISITA_PROF_PART\n",
        "        , CASE\n",
        "            WHEN BUSCA_AJUDA_UN_BASICA = 1 THEN 'SIM'\n",
        "            WHEN BUSCA_AJUDA_UN_BASICA = 2 THEN 'NAO'\n",
        "            WHEN BUSCA_AJUDA_UN_BASICA = 9 THEN 'IGNORADO'\n",
        "            ELSE 'DESCONHECIDO'\n",
        "        END AS BUSCA_AJUDA_UN_BASICA\n",
        "        , CASE\n",
        "            WHEN BUSCA_AJUDA_SUS_UPA = 1 THEN 'SIM'\n",
        "            WHEN BUSCA_AJUDA_SUS_UPA = 2 THEN 'NAO'\n",
        "            WHEN BUSCA_AJUDA_SUS_UPA = 9 THEN 'IGNORADO'\n",
        "            ELSE 'DESCONHECIDO'\n",
        "        END AS BUSCA_AJUDA_SUS_UPA\n",
        "        , CASE\n",
        "          WHEN BUSCA_AJUDA_HSP_SUS = 1 THEN 'SIM'\n",
        "            WHEN BUSCA_AJUDA_HSP_SUS = 2 THEN 'NAO'\n",
        "            WHEN BUSCA_AJUDA_HSP_SUS = 9 THEN 'IGNORADO'\n",
        "            ELSE 'DESCONHECIDO'\n",
        "        END AS BUSCA_AJUDA_HSP_SUS\n",
        "        , CASE\n",
        "            WHEN INTERNADO_UM_MAIS_DIAS = 1 THEN 'SIM'\n",
        "            WHEN INTERNADO_UM_MAIS_DIAS = 2 THEN 'NAO'\n",
        "            WHEN INTERNADO_UM_MAIS_DIAS = 9 THEN 'IGNORADO'\n",
        "            ELSE 'DESCONHECIDO'\n",
        "        END AS INTERNADO_UM_MAIS_DIAS\n",
        "        , CASE\n",
        "          WHEN SEDADO_ENTUB_RESP_ARTIF = 1 THEN 'SIM'\n",
        "            WHEN SEDADO_ENTUB_RESP_ARTIF = 2 THEN 'NAO'\n",
        "            WHEN SEDADO_ENTUB_RESP_ARTIF = 9 THEN 'IGNORADO'\n",
        "            ELSE 'DESCONHECIDO'\n",
        "        END AS SEDADO_ENTUB_RESP_ARTIF\n",
        "        , CASE\n",
        "            WHEN PLANO_SAUDE = 1 THEN 'SIM'\n",
        "            WHEN PLANO_SAUDE = 2 THEN 'NAO'\n",
        "            WHEN PLANO_SAUDE = 9 THEN 'IGNORADO'\n",
        "            ELSE 'DESCONHECIDO'\n",
        "        END AS PLANO_SAUDE\n",
        "        , CASE\n",
        "            WHEN TRAB_SEM_PASSADA_BICO = 1 THEN 'SIM'\n",
        "            WHEN TRAB_SEM_PASSADA_BICO = 2 THEN 'NAO'\n",
        "            ELSE 'DESCONHECIDO'\n",
        "        END AS TRAB_SEM_PASSADA_BICO\n",
        "        , CASE\n",
        "            WHEN SEM_PASSADA_AFASTADO = 1 THEN 'SIM'\n",
        "            WHEN SEM_PASSADA_AFASTADO = 2 THEN 'NAO'\n",
        "            ELSE 'DESCONHECIDO'\n",
        "        END AS SEM_PASSADA_AFASTADO\n",
        "        , CASE\n",
        "            WHEN MOTIVO_AFASTAMENTO_TEMP = 1 THEN 'QUARENTENA ISOLAMENTO'\n",
        "            WHEN MOTIVO_AFASTAMENTO_TEMP = 2 THEN 'FOLGA FERIAS'\n",
        "            WHEN MOTIVO_AFASTAMENTO_TEMP = 3 THEN 'MATERNIDADE PATERNIDADE'\n",
        "            WHEN MOTIVO_AFASTAMENTO_TEMP = 4 THEN 'LICENCA REMUNERADA'\n",
        "            WHEN MOTIVO_AFASTAMENTO_TEMP = 5 THEN 'LICENCA REMUNERADA'\n",
        "            WHEN MOTIVO_AFASTAMENTO_TEMP = 6 THEN 'AFASTAMENTO PROPRIO'\n",
        "            WHEN MOTIVO_AFASTAMENTO_TEMP = 7 THEN 'TEMPO GREVE'\n",
        "            WHEN MOTIVO_AFASTAMENTO_TEMP = 8 THEN 'OUTROS'\n",
        "            WHEN MOTIVO_AFASTAMENTO_TEMP = 9 THEN 'DESCONHECIDO'\n",
        "            ELSE 'DESCONHECIDO'\n",
        "        END AS MOTIVO_AFASTAMENTO_TEMP\n",
        "        , CASE\n",
        "            WHEN CONT_SENDO_REMUNERADO = 1 THEN 'SIM'\n",
        "            WHEN CONT_SENDO_REMUNERADO = 2 THEN 'NAO'\n",
        "            WHEN CONT_SENDO_REMUNERADO = 3 THEN 'SEM REMUNERACAO'\n",
        "            ELSE 'DESCONHECIDO'\n",
        "        END AS CONT_SENDO_REMUNERADO\n",
        "        , CASE\n",
        "            WHEN MAIS_UM_TRABALHO = 1 THEN 'SIM'\n",
        "            WHEN MAIS_UM_TRABALHO = 2 THEN 'NAO'\n",
        "            ELSE 'DESCONHECIDO'\n",
        "        END AS MAIS_UM_TRABALHO\n",
        "        , CASE\n",
        "            WHEN SETOR_TRABALHO = 1 THEN 'DEMESTICO'\n",
        "            WHEN SETOR_TRABALHO = 2 THEN 'MILITAR NACIONAL'\n",
        "            WHEN SETOR_TRABALHO = 3 THEN 'MILITAR_ESTADUAL'\n",
        "            WHEN SETOR_TRABALHO = 4 THEN 'SETOR PRIVADO'\n",
        "            WHEN SETOR_TRABALHO = 5 THEN 'SETOR PUBLICO'\n",
        "            WHEN SETOR_TRABALHO = 6 THEN 'EMPREGADOR'\n",
        "            WHEN SETOR_TRABALHO = 7 THEN 'CONTA PROPRIA'\n",
        "            WHEN SETOR_TRABALHO = 8 THEN 'FAMILIA'\n",
        "            WHEN SETOR_TRABALHO = 9 THEN 'FORA DO MERCADO'\n",
        "            ELSE 'DESCONHECIDO'\n",
        "        END AS SETOR_TRABALHO\n",
        "        , CASE\n",
        "            WHEN ASSINATURA_CTPS = 1 THEN 'SIM PRIVADO'\n",
        "            WHEN ASSINATURA_CTPS = 2 THEN 'SIM PUBLICO'\n",
        "            WHEN ASSINATURA_CTPS = 3 THEN 'NAO'\n",
        "            ELSE 'DESCONHECIDO'\n",
        "        END AS ASSINATURA_CTPS\n",
        "        , CASE\n",
        "            WHEN RENDIMENTO = 00 THEN '100,00'\n",
        "            WHEN RENDIMENTO = 01 THEN '300,00'\n",
        "            WHEN RENDIMENTO = 02 THEN '600,00'\n",
        "            WHEN RENDIMENTO = 03 THEN '800,00'\n",
        "            WHEN RENDIMENTO = 04 THEN '1600,00'\n",
        "            WHEN RENDIMENTO = 05 THEN '3000,00'\n",
        "            WHEN RENDIMENTO = 06 THEN '10.000,00'\n",
        "            WHEN RENDIMENTO = 07 THEN '50.000,00'\n",
        "            WHEN RENDIMENTO = 08 THEN '100.000,00'\n",
        "            WHEN RENDIMENTO = 09 THEN 'ACIMA DE 100.000,00'\n",
        "            ELSE 'DESCONHECIDO'\n",
        "        END AS RENDIMENTO\n",
        "        , CASE\n",
        "            WHEN TRAB_REMOTO_PRESENCIAL = 1 THEN 'REMOTO'\n",
        "            WHEN TRAB_REMOTO_PRESENCIAL = 2 THEN 'PRESENCIAL'\n",
        "            ELSE 'DESCONHECIDO'\n",
        "        END AS TRAB_REMOTO_PRESENCIAL\n",
        "        , CASE\n",
        "            WHEN CONTRIB_INSS = 1 THEN 'SIM'\n",
        "            WHEN CONTRIB_INSS = 2 THEN 'NAO'\n",
        "            ELSE 'DESCONHECIDO'\n",
        "        END AS CONTRIB_INSS\n",
        "        , CASE\n",
        "            WHEN TIPO_DOMICILIO = 1 THEN 'PROPRIA'\n",
        "            WHEN TIPO_DOMICILIO = 2 THEN 'PROPRIA PAGANDO'\n",
        "            WHEN TIPO_DOMICILIO = 3 THEN 'ALUGADO'\n",
        "            WHEN TIPO_DOMICILIO = 4 THEN 'CEDIDO EMPREGADOR'\n",
        "            WHEN TIPO_DOMICILIO = 5 THEN 'CEDIDO FAMILIA'\n",
        "            WHEN TIPO_DOMICILIO = 6 THEN 'CEDIDO OUTRA FORMA'\n",
        "            WHEN TIPO_DOMICILIO = 7 THEN 'OUTRA CONDICAO'\n",
        "            ELSE 'DESCONHECIDO'\n",
        "        END AS TIPO_DOMICILIO\n",
        "        , CASE\n",
        "            WHEN BOLSA_FAMILIA = 1 THEN 'SIM'\n",
        "            WHEN BOLSA_FAMILIA = 2 THEN 'NAO'\n",
        "            ELSE 'DESCONHECIDO'\n",
        "        END AS BOLSA_FAMILIA\n",
        "        , CASE\n",
        "            WHEN BPC = 1 THEN 'SIM'\n",
        "            WHEN BPC = 2 THEN 'NAO'\n",
        "            ELSE 'DESCONHECIDO'\n",
        "        END AS BPC\n",
        "        , CASE\n",
        "            WHEN SEGURO_DESEMPREGO = 1 THEN 'SIM'\n",
        "            WHEN SEGURO_DESEMPREGO = 2 THEN 'NAO'\n",
        "            ELSE 'DESCONHECIDO'\n",
        "        END AS SEGURO_DESEMPREGO\n",
        "        , CASE\n",
        "            WHEN BENEF_CORONA_VIRUS = 1 THEN 'SIM'\n",
        "            WHEN BENEF_CORONA_VIRUS = 2 THEN 'NAO'\n",
        "            ELSE 'DESCONHECIDO'\n",
        "        END AS BENEF_CORONA_VIRUS\n",
        "        , CASE\n",
        "            WHEN APOSENTADORIA_PENSAO = 1 THEN 'SIM'\n",
        "            WHEN APOSENTADORIA_PENSAO = 2 THEN 'NAO'\n",
        "            ELSE 'DESCONHECIDO'\n",
        "        END AS APOSENTADORIA_PENSAO\n",
        "\n",
        "    FROM 062020_ADJ\n",
        "\"\"\")\n",
        "\n",
        "PNAD_COVID_062020.createOrReplaceTempView(\"PNAD_COVID_062020\")\n",
        "PNAD_COVID_062020.show(5, truncate=False)\n",
        "PNAD_COVID_062020.count()\n"
      ],
      "metadata": {
        "colab": {
          "base_uri": "https://localhost:8080/",
          "height": 547
        },
        "id": "4KVNOQCGwXlz",
        "outputId": "d2474bc1-7457-4f3c-da3a-b84abe405980"
      },
      "execution_count": null,
      "outputs": [
        {
          "output_type": "error",
          "ename": "AnalysisException",
          "evalue": "[TABLE_OR_VIEW_NOT_FOUND] The table or view `062020_ADJ` cannot be found. Verify the spelling and correctness of the schema and catalog.\nIf you did not qualify the name with a schema, verify the current_schema() output, or qualify the name with the correct schema and catalog.\nTo tolerate the error on drop use DROP VIEW IF EXISTS or DROP TABLE IF EXISTS.; line 385 pos 9;\n'Project ['ANO, 'MES, cast('CONCAT('ANO, -, 'MES, -01) as date) AS DATA#993, CASE WHEN ('UF = 11) THEN RO WHEN ('UF = 12) THEN AC WHEN ('UF = 13) THEN AM WHEN ('UF = 14) THEN RR WHEN ('UF = 15) THEN PA WHEN ('UF = 16) THEN AP WHEN ('UF = 17) THEN TO WHEN ('UF = 21) THEN MA WHEN ('UF = 22) THEN PI WHEN ('UF = 23) THEN CE WHEN ('UF = 24) THEN RN WHEN ('UF = 25) THEN PB WHEN ('UF = 26) THEN PE WHEN ('UF = 27) THEN AL WHEN ('UF = 28) THEN SE WHEN ('UF = 29) THEN BA WHEN ('UF = 31) THEN MG WHEN ('UF = 32) THEN ES WHEN ('UF = 33) THEN RJ WHEN ('UF = 35) THEN SP WHEN ('UF = 41) THEN PR WHEN ('UF = 42) THEN SC WHEN ('UF = 43) THEN RS WHEN ('UF = 50) THEN MS WHEN ('UF = 51) THEN MT WHEN ('UF = 52) THEN GO WHEN ('UF = 53) THEN DF ELSE DESCONHECIDO END AS UF#994, CASE WHEN ('CAPITAL = 11) THEN PORTO VELHO WHEN ('CAPITAL = 12) THEN RIO BRANCO WHEN ('CAPITAL = 13) THEN MANAUS WHEN ('CAPITAL = 14) THEN BOA VISTA WHEN ('CAPITAL = 15) THEN BELEM WHEN ('CAPITAL = 16) THEN MACAPA WHEN ('CAPITAL = 17) THEN PALMAS WHEN ('CAPITAL = 21) THEN SAO LUIS WHEN ('CAPITAL = 22) THEN TERESINA WHEN ('CAPITAL = 23) THEN FORTALEZA WHEN ('CAPITAL = 24) THEN NATAL WHEN ('CAPITAL = 25) THEN JOAO PESSOA WHEN ('CAPITAL = 26) THEN RECIFE WHEN ('CAPITAL = 27) THEN MACEIO WHEN ('CAPITAL = 28) THEN ARACAJU WHEN ('CAPITAL = 29) THEN SALVADOR WHEN ('CAPITAL = 31) THEN BELO HORIZONTE WHEN ('CAPITAL = 32) THEN VITORIA WHEN ('CAPITAL = 33) THEN RIO DE JANEIRO WHEN ('CAPITAL = 35) THEN SAO PAULO WHEN ('CAPITAL = 41) THEN CURITIBA WHEN ('CAPITAL = 42) THEN FLORIANOPOLIS WHEN ('CAPITAL = 43) THEN PORTO ALEGRE WHEN ('CAPITAL = 50) THEN CAMPO GRANDE WHEN ('CAPITAL = 51) THEN CUIABA WHEN ('CAPITAL = 52) THEN GOIANIA WHEN ('CAPITAL = 53) THEN BRASILIA ELSE DESCONHECIDO END AS CAPITAL#995, CASE WHEN ('LOCAL = 1) THEN URBANO WHEN ('LOCAL = 2) THEN RURAL ELSE DESCONHECIDO END AS LOCAL#996, 'IDADE, CASE WHEN (('IDADE >= 0) AND ('IDADE <= 12)) THEN CRIANCA WHEN (('IDADE >= 13) AND ('IDADE <= 17)) THEN ADOLESCENTE WHEN (('IDADE >= 18) AND ('IDADE <= 59)) THEN ADULTO WHEN ('IDADE >= 60) THEN IDOSO ELSE DESCONHECIDO END AS GRUPO_IDADE#997, CASE WHEN ('SEXO = 1) THEN MASCULINO WHEN ('SEXO = 2) THEN FEMININO ELSE DESCONHECIDO END AS SEXO#998, CASE WHEN ('COR_RACA = 1) THEN BRANCA WHEN ('COR_RACA = 2) THEN PRETA WHEN ('COR_RACA = 3) THEN AMARELA WHEN ('COR_RACA = 4) THEN PARDA WHEN ('COR_RACA = 5) THEN INDIGENA WHEN ('COR_RACA = 9) THEN NAO INFORMADO ELSE DESCONHECIDO END AS COR_RACA#999, CASE WHEN ('ESCOLARIDADE = 1) THEN SEM INSTRUCAO WHEN ('ESCOLARIDADE = 2) THEN ENSINO FUNDAMENTAL INCOMPLETO WHEN ('ESCOLARIDADE = 3) THEN ENSINO FUNDAMENTAL COMPLETO WHEN ('ESCOLARIDADE = 4) THEN ENSINO MEDIO INCOMPLETO WHEN ('ESCOLARIDADE = 5) THEN ENSINO MEDIO COMPLETO WHEN ('ESCOLARIDADE = 6) THEN SUPERIOR INCOMPLETO WHEN ('ESCOLARIDADE = 7) THEN SUPERIOR COMPLETO WHEN ('ESCOLARIDADE = 8) THEN POS-MESTRADO-DOUTORADO ELSE DESCONHECIDO END AS ESCOLARIDADE#1000, CASE WHEN ('FEBRE = 1) THEN SIM WHEN ('FEBRE = 2) THEN NAO WHEN ('FEBRE = 3) THEN NAO SABE WHEN ('FEBRE = 9) THEN IGNORADO ELSE DESCONHECIDO END AS FEBRE#1001, CASE WHEN ('TOSSE = 1) THEN SIM WHEN ('TOSSE = 2) THEN NAO WHEN ('TOSSE = 3) THEN NAO SABE WHEN ('TOSSE = 9) THEN IGNORADO ELSE DESCONHECIDO END AS TOSSE#1002, CASE WHEN ('DOR_GARGANTE = 1) THEN SIM WHEN ('DOR_GARGANTE = 2) THEN NAO WHEN ('DOR_GARGANTE = 3) THEN NAO SABE WHEN ('DOR_GARGANTE = 9) THEN IGNORADO ELSE DESCONHECIDO END AS DOR_GARGANTE#1003, CASE WHEN ('DIF_RESPIRAR = 1) THEN SIM WHEN ('DIF_RESPIRAR = 2) THEN NAO WHEN ('DIF_RESPIRAR = 3) THEN NAO SABE WHEN ('DIF_RESPIRAR = 9) THEN IGNORADO ELSE DESCONHECIDO END AS DIF_RESPIRAR#1004, CASE WHEN ('DOR_CABECA = 1) THEN SIM WHEN ('DOR_CABECA = 2) THEN NAO WHEN ('DOR_CABECA = 3) THEN NAO SABE WHEN ('DOR_CABECA = 9) THEN IGNORADO ELSE DESCONHECIDO END AS DOR_CABECA#1005, CASE WHEN ('DOR_PEITO = 1) THEN SIM WHEN ('DOR_PEITO = 2) THEN NAO WHEN ('DOR_PEITO = 3) THEN NAO SABE WHEN ('DOR_PEITO = 9) THEN IGNORADO ELSE DESCONHECIDO END AS DOR_PEITO#1006, CASE WHEN ('NAUSEA = 1) THEN SIM WHEN ('NAUSEA = 2) THEN NAO WHEN ('NAUSEA = 3) THEN NAO SABE WHEN ('NAUSEA = 9) THEN IGNORADO ELSE DESCONHECIDO END AS NAUSEA#1007, CASE WHEN ('NARIZ_CORIZA = 1) THEN SIM WHEN ('NARIZ_CORIZA = 2) THEN NAO WHEN ('NARIZ_CORIZA = 3) THEN NAO SABE WHEN ('NARIZ_CORIZA = 9) THEN IGNORADO ELSE DESCONHECIDO END AS NARIZ_CORIZA#1008, CASE WHEN ('FADIGA = 1) THEN SIM WHEN ('FADIGA = 2) THEN NAO WHEN ('FADIGA = 3) THEN NAO SABE WHEN ('FADIGA = 9) THEN IGNORADO ELSE DESCONHECIDO END AS FADIGA#1009, CASE WHEN ('DOR_OLHOS = 1) THEN SIM WHEN ('DOR_OLHOS = 2) THEN NAO WHEN ('DOR_OLHOS = 3) THEN NAO SABE WHEN ('DOR_OLHOS = 9) THEN IGNORADO ELSE DESCONHECIDO END AS DOR_OLHOS#1010, CASE WHEN ('PERDA_PALADAR_OLFATO = 1) THEN SIM WHEN ('PERDA_PALADAR_OLFATO = 2) THEN NAO WHEN ('PERDA_PALADAR_OLFATO = 3) THEN NAO SABE WHEN ('PERDA_PALADAR_OLFATO = 9) THEN IGNORADO ELSE DESCONHECIDO END AS PERDA_PALADAR_OLFATO#1011, CASE WHEN ('DOR_MUSCULAR = 1) THEN SIM WHEN ('DOR_MUSCULAR = 2) THEN NAO WHEN ('DOR_MUSCULAR = 3) THEN NAO SABE WHEN ('DOR_MUSCULAR = 9) THEN IGNORADO ELSE DESCONHECIDO END AS DOR_MUSCULAR#1012, CASE WHEN ((((('FEBRE = SIM) OR ('TOSSE = SIM)) OR ('DOR_GARGANTE = SIM)) OR ((('DIF_RESPIRAR = SIM) OR ('DOR_CABECA = SIM)) OR ('DOR_PEITO = SIM))) OR (((('NAUSEA = SIM) OR ('NARIZ_CORIZA = SIM)) OR ('FADIGA = SIM)) OR ((('DOR_OLHOS = SIM) OR ('PERDA_PALADAR_OLFATO = SIM)) OR ('DOR_MUSCULAR = SIM)))) THEN TEM SINTOMA WHEN ((((('FEBRE = NAO) AND ('TOSSE = NAO)) AND ('DOR_GARGANTE = NAO)) AND ((('DIF_RESPIRAR = NAO) AND ('DOR_CABECA = NAO)) AND ('DOR_PEITO = NAO))) AND (((('NAUSEA = NAO) AND ('NARIZ_CORIZA = NAO)) AND ('FADIGA = NAO)) AND ((('DOR_OLHOS = NAO) AND ('PERDA_PALADAR_OLFATO = NAO)) AND ('DOR_MUSCULAR = NAO)))) THEN ASSINTOMATICO END AS ESTADO_SINTOMA#1013, ... 29 more fields]\n+- 'UnresolvedRelation [062020_ADJ], [], false\n",
          "traceback": [
            "\u001b[0;31m---------------------------------------------------------------------------\u001b[0m",
            "\u001b[0;31mAnalysisException\u001b[0m                         Traceback (most recent call last)",
            "\u001b[0;32m<ipython-input-35-25d8199f3507>\u001b[0m in \u001b[0;36m<cell line: 0>\u001b[0;34m()\u001b[0m\n\u001b[0;32m----> 1\u001b[0;31m PNAD_COVID_062020 = spark.sql (\"\"\"\n\u001b[0m\u001b[1;32m      2\u001b[0m     \u001b[0mSELECT\u001b[0m\u001b[0;34m\u001b[0m\u001b[0;34m\u001b[0m\u001b[0m\n\u001b[1;32m      3\u001b[0m           \u001b[0mANO\u001b[0m\u001b[0;34m\u001b[0m\u001b[0;34m\u001b[0m\u001b[0m\n\u001b[1;32m      4\u001b[0m         \u001b[0;34m,\u001b[0m \u001b[0mMES\u001b[0m\u001b[0;34m\u001b[0m\u001b[0;34m\u001b[0m\u001b[0m\n\u001b[1;32m      5\u001b[0m         \u001b[0;34m,\u001b[0m \u001b[0mCAST\u001b[0m\u001b[0;34m(\u001b[0m\u001b[0mCONCAT\u001b[0m\u001b[0;34m(\u001b[0m\u001b[0mANO\u001b[0m\u001b[0;34m,\u001b[0m \u001b[0;34m'-'\u001b[0m\u001b[0;34m,\u001b[0m \u001b[0mMES\u001b[0m\u001b[0;34m,\u001b[0m \u001b[0;34m'-01'\u001b[0m\u001b[0;34m)\u001b[0m \u001b[0mAS\u001b[0m \u001b[0mDATE\u001b[0m\u001b[0;34m)\u001b[0m \u001b[0mAS\u001b[0m \u001b[0mDATA\u001b[0m\u001b[0;34m\u001b[0m\u001b[0;34m\u001b[0m\u001b[0m\n",
            "\u001b[0;32m/usr/local/lib/python3.11/dist-packages/pyspark/sql/session.py\u001b[0m in \u001b[0;36msql\u001b[0;34m(self, sqlQuery, args, **kwargs)\u001b[0m\n\u001b[1;32m   1629\u001b[0m                     \u001b[0;34m[\u001b[0m\u001b[0m_to_java_column\u001b[0m\u001b[0;34m(\u001b[0m\u001b[0mlit\u001b[0m\u001b[0;34m(\u001b[0m\u001b[0mv\u001b[0m\u001b[0;34m)\u001b[0m\u001b[0;34m)\u001b[0m \u001b[0;32mfor\u001b[0m \u001b[0mv\u001b[0m \u001b[0;32min\u001b[0m \u001b[0;34m(\u001b[0m\u001b[0margs\u001b[0m \u001b[0;32mor\u001b[0m \u001b[0;34m[\u001b[0m\u001b[0;34m]\u001b[0m\u001b[0;34m)\u001b[0m\u001b[0;34m]\u001b[0m\u001b[0;34m\u001b[0m\u001b[0;34m\u001b[0m\u001b[0m\n\u001b[1;32m   1630\u001b[0m                 )\n\u001b[0;32m-> 1631\u001b[0;31m             \u001b[0;32mreturn\u001b[0m \u001b[0mDataFrame\u001b[0m\u001b[0;34m(\u001b[0m\u001b[0mself\u001b[0m\u001b[0;34m.\u001b[0m\u001b[0m_jsparkSession\u001b[0m\u001b[0;34m.\u001b[0m\u001b[0msql\u001b[0m\u001b[0;34m(\u001b[0m\u001b[0msqlQuery\u001b[0m\u001b[0;34m,\u001b[0m \u001b[0mlitArgs\u001b[0m\u001b[0;34m)\u001b[0m\u001b[0;34m,\u001b[0m \u001b[0mself\u001b[0m\u001b[0;34m)\u001b[0m\u001b[0;34m\u001b[0m\u001b[0;34m\u001b[0m\u001b[0m\n\u001b[0m\u001b[1;32m   1632\u001b[0m         \u001b[0;32mfinally\u001b[0m\u001b[0;34m:\u001b[0m\u001b[0;34m\u001b[0m\u001b[0;34m\u001b[0m\u001b[0m\n\u001b[1;32m   1633\u001b[0m             \u001b[0;32mif\u001b[0m \u001b[0mlen\u001b[0m\u001b[0;34m(\u001b[0m\u001b[0mkwargs\u001b[0m\u001b[0;34m)\u001b[0m \u001b[0;34m>\u001b[0m \u001b[0;36m0\u001b[0m\u001b[0;34m:\u001b[0m\u001b[0;34m\u001b[0m\u001b[0;34m\u001b[0m\u001b[0m\n",
            "\u001b[0;32m/usr/local/lib/python3.11/dist-packages/py4j/java_gateway.py\u001b[0m in \u001b[0;36m__call__\u001b[0;34m(self, *args)\u001b[0m\n\u001b[1;32m   1320\u001b[0m \u001b[0;34m\u001b[0m\u001b[0m\n\u001b[1;32m   1321\u001b[0m         \u001b[0manswer\u001b[0m \u001b[0;34m=\u001b[0m \u001b[0mself\u001b[0m\u001b[0;34m.\u001b[0m\u001b[0mgateway_client\u001b[0m\u001b[0;34m.\u001b[0m\u001b[0msend_command\u001b[0m\u001b[0;34m(\u001b[0m\u001b[0mcommand\u001b[0m\u001b[0;34m)\u001b[0m\u001b[0;34m\u001b[0m\u001b[0;34m\u001b[0m\u001b[0m\n\u001b[0;32m-> 1322\u001b[0;31m         return_value = get_return_value(\n\u001b[0m\u001b[1;32m   1323\u001b[0m             answer, self.gateway_client, self.target_id, self.name)\n\u001b[1;32m   1324\u001b[0m \u001b[0;34m\u001b[0m\u001b[0m\n",
            "\u001b[0;32m/usr/local/lib/python3.11/dist-packages/pyspark/errors/exceptions/captured.py\u001b[0m in \u001b[0;36mdeco\u001b[0;34m(*a, **kw)\u001b[0m\n\u001b[1;32m    183\u001b[0m                 \u001b[0;31m# Hide where the exception came from that shows a non-Pythonic\u001b[0m\u001b[0;34m\u001b[0m\u001b[0;34m\u001b[0m\u001b[0m\n\u001b[1;32m    184\u001b[0m                 \u001b[0;31m# JVM exception message.\u001b[0m\u001b[0;34m\u001b[0m\u001b[0;34m\u001b[0m\u001b[0m\n\u001b[0;32m--> 185\u001b[0;31m                 \u001b[0;32mraise\u001b[0m \u001b[0mconverted\u001b[0m \u001b[0;32mfrom\u001b[0m \u001b[0;32mNone\u001b[0m\u001b[0;34m\u001b[0m\u001b[0;34m\u001b[0m\u001b[0m\n\u001b[0m\u001b[1;32m    186\u001b[0m             \u001b[0;32melse\u001b[0m\u001b[0;34m:\u001b[0m\u001b[0;34m\u001b[0m\u001b[0;34m\u001b[0m\u001b[0m\n\u001b[1;32m    187\u001b[0m                 \u001b[0;32mraise\u001b[0m\u001b[0;34m\u001b[0m\u001b[0;34m\u001b[0m\u001b[0m\n",
            "\u001b[0;31mAnalysisException\u001b[0m: [TABLE_OR_VIEW_NOT_FOUND] The table or view `062020_ADJ` cannot be found. Verify the spelling and correctness of the schema and catalog.\nIf you did not qualify the name with a schema, verify the current_schema() output, or qualify the name with the correct schema and catalog.\nTo tolerate the error on drop use DROP VIEW IF EXISTS or DROP TABLE IF EXISTS.; line 385 pos 9;\n'Project ['ANO, 'MES, cast('CONCAT('ANO, -, 'MES, -01) as date) AS DATA#993, CASE WHEN ('UF = 11) THEN RO WHEN ('UF = 12) THEN AC WHEN ('UF = 13) THEN AM WHEN ('UF = 14) THEN RR WHEN ('UF = 15) THEN PA WHEN ('UF = 16) THEN AP WHEN ('UF = 17) THEN TO WHEN ('UF = 21) THEN MA WHEN ('UF = 22) THEN PI WHEN ('UF = 23) THEN CE WHEN ('UF = 24) THEN RN WHEN ('UF = 25) THEN PB WHEN ('UF = 26) THEN PE WHEN ('UF = 27) THEN AL WHEN ('UF = 28) THEN SE WHEN ('UF = 29) THEN BA WHEN ('UF = 31) THEN MG WHEN ('UF = 32) THEN ES WHEN ('UF = 33) THEN RJ WHEN ('UF = 35) THEN SP WHEN ('UF = 41) THEN PR WHEN ('UF = 42) THEN SC WHEN ('UF = 43) THEN RS WHEN ('UF = 50) THEN MS WHEN ('UF = 51) THEN MT WHEN ('UF = 52) THEN GO WHEN ('UF = 53) THEN DF ELSE DESCONHECIDO END AS UF#994, CASE WHEN ('CAPITAL = 11) THEN PORTO VELHO WHEN ('CAPITAL = 12) THEN RIO BRANCO WHEN ('CAPITAL = 13) THEN MANAUS WHEN ('CAPITAL = 14) THEN BOA VISTA WHEN ('CAPITAL = 15) THEN BELEM WHEN ('CAPITAL = 16) THEN MACAPA WHEN ('CAPITAL = 17) THEN PALMAS WHEN ('CAPITAL = 21) THEN SAO LUIS WHEN ('CAPITAL = 22) THEN TERESINA WHEN ('CAPITAL = 23) THEN FORTALEZA WHEN ('CAPITAL = 24) THEN NATAL WHEN ('CAPITAL = 25) THEN JOAO PESSOA WHEN ('CAPITAL = 26) THEN RECIFE WHEN ('CAPITAL = 27) THEN MACEIO WHEN ('CAPITAL = 28) THEN ARACAJU WHEN ('CAPITAL = 29) THEN SALVADOR WHEN ('CAPITAL = 31) THEN BELO HORIZONTE WHEN ('CAPITAL = 32) THEN VITORIA WHEN ('CAPITAL = 33) THEN RIO DE JANEIRO WHEN ('CAPITAL = 35) THEN SAO PAULO WHEN ('CAPITAL = 41) THE...\n+- 'UnresolvedRelation [062020_ADJ], [], false\n"
          ]
        }
      ]
    },
    {
      "cell_type": "markdown",
      "source": [
        "###Ajuste de Condições 07/2020"
      ],
      "metadata": {
        "id": "JVJGMyqab_U8"
      }
    },
    {
      "cell_type": "code",
      "source": [
        "PNAD_COVID_072020 = spark.sql (\"\"\"\n",
        "    SELECT\n",
        "          ANO\n",
        "        , MES\n",
        "        , CAST(CONCAT(ANO, '-', MES, '-01') AS DATE) AS DATA\n",
        "        , CASE\n",
        "            WHEN UF = 11 THEN 'RO'\n",
        "            WHEN UF = 12 THEN 'AC'\n",
        "            WHEN UF = 13 THEN 'AM'\n",
        "            WHEN UF = 14 THEN 'RR'\n",
        "            WHEN UF = 15 THEN 'PA'\n",
        "            WHEN UF = 16 THEN 'AP'\n",
        "            WHEN UF = 17 THEN 'TO'\n",
        "            WHEN UF = 21 THEN 'MA'\n",
        "            WHEN UF = 22 THEN 'PI'\n",
        "            WHEN UF = 23 THEN 'CE'\n",
        "            WHEN UF = 24 THEN 'RN'\n",
        "            WHEN UF = 25 THEN 'PB'\n",
        "            WHEN UF = 26 THEN 'PE'\n",
        "            WHEN UF = 27 THEN 'AL'\n",
        "            WHEN UF = 28 THEN 'SE'\n",
        "            WHEN UF = 29 THEN 'BA'\n",
        "            WHEN UF = 31 THEN 'MG'\n",
        "            WHEN UF = 32 THEN 'ES'\n",
        "            WHEN UF = 33 THEN 'RJ'\n",
        "            WHEN UF = 35 THEN 'SP'\n",
        "            WHEN UF = 41 THEN 'PR'\n",
        "            WHEN UF = 42 THEN 'SC'\n",
        "            WHEN UF = 43 THEN 'RS'\n",
        "            WHEN UF = 50 THEN 'MS'\n",
        "            WHEN UF = 51 THEN 'MT'\n",
        "            WHEN UF = 52 THEN 'GO'\n",
        "            WHEN UF = 53 THEN 'DF'\n",
        "            ELSE 'DESCONHECIDO'\n",
        "        END AS UF\n",
        "        , CASE\n",
        "            WHEN CAPITAL = 11 THEN 'PORTO VELHO'\n",
        "            WHEN CAPITAL = 12 THEN 'RIO BRANCO'\n",
        "            WHEN CAPITAL = 13 THEN 'MANAUS'\n",
        "            WHEN CAPITAL = 14 THEN 'BOA VISTA'\n",
        "            WHEN CAPITAL = 15 THEN 'BELEM'\n",
        "            WHEN CAPITAL = 16 THEN 'MACAPA'\n",
        "            WHEN CAPITAL = 17 THEN 'PALMAS'\n",
        "            WHEN CAPITAL = 21 THEN 'SAO LUIS'\n",
        "            WHEN CAPITAL = 22 THEN 'TERESINA'\n",
        "            WHEN CAPITAL = 23 THEN 'FORTALEZA'\n",
        "            WHEN CAPITAL = 24 THEN 'NATAL'\n",
        "            WHEN CAPITAL = 25 THEN 'JOAO PESSOA'\n",
        "            WHEN CAPITAL = 26 THEN 'RECIFE'\n",
        "            WHEN CAPITAL = 27 THEN 'MACEIO'\n",
        "            WHEN CAPITAL = 28 THEN 'ARACAJU'\n",
        "            WHEN CAPITAL = 29 THEN 'SALVADOR'\n",
        "            WHEN CAPITAL = 31 THEN 'BELO HORIZONTE'\n",
        "            WHEN CAPITAL = 32 THEN 'VITORIA'\n",
        "            WHEN CAPITAL = 33 THEN 'RIO DE JANEIRO'\n",
        "            WHEN CAPITAL = 35 THEN 'SAO PAULO'\n",
        "            WHEN CAPITAL = 41 THEN 'CURITIBA'\n",
        "            WHEN CAPITAL = 42 THEN 'FLORIANOPOLIS'\n",
        "            WHEN CAPITAL = 43 THEN 'PORTO ALEGRE'\n",
        "            WHEN CAPITAL = 50 THEN 'CAMPO GRANDE'\n",
        "            WHEN CAPITAL = 51 THEN 'CUIABA'\n",
        "            WHEN CAPITAL = 52 THEN 'GOIANIA'\n",
        "            WHEN CAPITAL = 53 THEN 'BRASILIA'\n",
        "            ELSE 'DESCONHECIDO'\n",
        "        END AS CAPITAL\n",
        "        , CASE\n",
        "            WHEN LOCAL = 1 THEN 'URBANO'\n",
        "            WHEN LOCAL = 2 THEN 'RURAL'\n",
        "            ELSE 'DESCONHECIDO'\n",
        "        END AS LOCAL\n",
        "        , IDADE\n",
        "        , CASE\n",
        "            WHEN IDADE BETWEEN 0 AND 12 THEN 'CRIANCA'\n",
        "            WHEN IDADE BETWEEN 13 AND 17 THEN 'ADOLESCENTE'\n",
        "            WHEN IDADE BETWEEN 18 AND 59 THEN 'ADULTO'\n",
        "            WHEN IDADE >= 60 THEN 'IDOSO'\n",
        "            ELSE 'DESCONHECIDO'\n",
        "        END AS GRUPO_IDADE\n",
        "        , CASE\n",
        "            WHEN SEXO = 1 THEN 'MASCULINO'\n",
        "            WHEN SEXO = 2 THEN 'FEMININO'\n",
        "            ELSE 'DESCONHECIDO'\n",
        "        END AS SEXO\n",
        "        , CASE\n",
        "            WHEN COR_RACA = 1 THEN 'BRANCA'\n",
        "            WHEN COR_RACA = 2 THEN 'PRETA'\n",
        "            WHEN COR_RACA = 3 THEN 'AMARELA'\n",
        "            WHEN COR_RACA = 4 THEN 'PARDA'\n",
        "            WHEN COR_RACA = 5 THEN 'INDIGENA'\n",
        "            WHEN COR_RACA = 9 THEN 'NAO INFORMADO'\n",
        "            ELSE 'DESCONHECIDO'\n",
        "        END AS COR_RACA\n",
        "        , CASE\n",
        "            WHEN ESCOLARIDADE = 1 THEN 'SEM INSTRUCAO'\n",
        "            WHEN ESCOLARIDADE = 2 THEN 'ENSINO FUNDAMENTAL INCOMPLETO'\n",
        "            WHEN ESCOLARIDADE = 3 THEN 'ENSINO FUNDAMENTAL COMPLETO'\n",
        "            WHEN ESCOLARIDADE = 4 THEN 'ENSINO MEDIO INCOMPLETO'\n",
        "            WHEN ESCOLARIDADE = 5 THEN 'ENSINO MEDIO COMPLETO'\n",
        "            WHEN ESCOLARIDADE = 6 THEN 'SUPERIOR INCOMPLETO'\n",
        "            WHEN ESCOLARIDADE = 7 THEN 'SUPERIOR COMPLETO'\n",
        "            WHEN ESCOLARIDADE = 8 THEN 'POS-MESTRADO-DOUTORADO'\n",
        "            ELSE 'DESCONHECIDO'\n",
        "        END AS ESCOLARIDADE\n",
        "        , CASE\n",
        "            WHEN FEBRE = 1 THEN 'SIM'\n",
        "            WHEN FEBRE = 2 THEN 'NAO'\n",
        "            WHEN FEBRE = 3 THEN 'NAO SABE'\n",
        "            WHEN FEBRE = 9 THEN 'IGNORADO'\n",
        "            ELSE 'DESCONHECIDO'\n",
        "        END AS FEBRE\n",
        "        , CASE\n",
        "            WHEN TOSSE = 1 THEN 'SIM'\n",
        "            WHEN TOSSE = 2 THEN 'NAO'\n",
        "            WHEN TOSSE = 3 THEN 'NAO SABE'\n",
        "            WHEN TOSSE = 9 THEN 'IGNORADO'\n",
        "            ELSE 'DESCONHECIDO'\n",
        "        END AS TOSSE\n",
        "        , CASE\n",
        "            WHEN DOR_GARGANTE = 1 THEN 'SIM'\n",
        "            WHEN DOR_GARGANTE = 2 THEN 'NAO'\n",
        "            WHEN DOR_GARGANTE = 3 THEN 'NAO SABE'\n",
        "            WHEN DOR_GARGANTE = 9 THEN 'IGNORADO'\n",
        "            ELSE 'DESCONHECIDO'\n",
        "        END AS DOR_GARGANTE\n",
        "        , CASE\n",
        "            WHEN DIF_RESPIRAR = 1 THEN 'SIM'\n",
        "            WHEN DIF_RESPIRAR = 2 THEN 'NAO'\n",
        "            WHEN DIF_RESPIRAR = 3 THEN 'NAO SABE'\n",
        "            WHEN DIF_RESPIRAR = 9 THEN 'IGNORADO'\n",
        "            ELSE 'DESCONHECIDO'\n",
        "        END AS DIF_RESPIRAR\n",
        "        , CASE\n",
        "            WHEN DOR_CABECA = 1 THEN 'SIM'\n",
        "            WHEN DOR_CABECA = 2 THEN 'NAO'\n",
        "            WHEN DOR_CABECA = 3 THEN 'NAO SABE'\n",
        "            WHEN DOR_CABECA = 9 THEN 'IGNORADO'\n",
        "            ELSE 'DESCONHECIDO'\n",
        "        END AS DOR_CABECA\n",
        "        , CASE\n",
        "            WHEN DOR_PEITO = 1 THEN 'SIM'\n",
        "            WHEN DOR_PEITO = 2 THEN 'NAO'\n",
        "            WHEN DOR_PEITO = 3 THEN 'NAO SABE'\n",
        "            WHEN DOR_PEITO = 9 THEN 'IGNORADO'\n",
        "            ELSE 'DESCONHECIDO'\n",
        "        END AS DOR_PEITO\n",
        "        , CASE\n",
        "            WHEN NAUSEA = 1 THEN 'SIM'\n",
        "            WHEN NAUSEA = 2 THEN 'NAO'\n",
        "            WHEN NAUSEA = 3 THEN 'NAO SABE'\n",
        "            WHEN NAUSEA = 9 THEN 'IGNORADO'\n",
        "            ELSE 'DESCONHECIDO'\n",
        "        END AS NAUSEA\n",
        "        , CASE\n",
        "            WHEN NARIZ_CORIZA = 1 THEN 'SIM'\n",
        "            WHEN NARIZ_CORIZA = 2 THEN 'NAO'\n",
        "            WHEN NARIZ_CORIZA = 3 THEN 'NAO SABE'\n",
        "            WHEN NARIZ_CORIZA = 9 THEN 'IGNORADO'\n",
        "            ELSE 'DESCONHECIDO'\n",
        "        END AS NARIZ_CORIZA\n",
        "        , CASE\n",
        "            WHEN FADIGA = 1 THEN 'SIM'\n",
        "            WHEN FADIGA = 2 THEN 'NAO'\n",
        "            WHEN FADIGA = 3 THEN 'NAO SABE'\n",
        "            WHEN FADIGA = 9 THEN 'IGNORADO'\n",
        "            ELSE 'DESCONHECIDO'\n",
        "        END AS FADIGA\n",
        "        , CASE\n",
        "            WHEN DOR_OLHOS = 1 THEN 'SIM'\n",
        "            WHEN DOR_OLHOS = 2 THEN 'NAO'\n",
        "            WHEN DOR_OLHOS = 3 THEN 'NAO SABE'\n",
        "            WHEN DOR_OLHOS = 9 THEN 'IGNORADO'\n",
        "            ELSE 'DESCONHECIDO'\n",
        "        END AS DOR_OLHOS\n",
        "        , CASE\n",
        "            WHEN PERDA_PALADAR_OLFATO = 1 THEN 'SIM'\n",
        "            WHEN PERDA_PALADAR_OLFATO = 2 THEN 'NAO'\n",
        "            WHEN PERDA_PALADAR_OLFATO = 3 THEN 'NAO SABE'\n",
        "            WHEN PERDA_PALADAR_OLFATO = 9 THEN 'IGNORADO'\n",
        "            ELSE 'DESCONHECIDO'\n",
        "        END AS PERDA_PALADAR_OLFATO\n",
        "        , CASE\n",
        "            WHEN DOR_MUSCULAR = 1 THEN 'SIM'\n",
        "            WHEN DOR_MUSCULAR = 2 THEN 'NAO'\n",
        "            WHEN DOR_MUSCULAR = 3 THEN 'NAO SABE'\n",
        "            WHEN DOR_MUSCULAR = 9 THEN 'IGNORADO'\n",
        "            ELSE 'DESCONHECIDO'\n",
        "        END AS DOR_MUSCULAR\n",
        "        , CASE\n",
        "            WHEN FEBRE = 'SIM' OR TOSSE = 'SIM' OR DOR_GARGANTE = 'SIM' OR DIF_RESPIRAR = 'SIM'\n",
        "                 OR DOR_CABECA = 'SIM' OR DOR_PEITO = 'SIM' OR NAUSEA = 'SIM'\n",
        "                 OR NARIZ_CORIZA = 'SIM' OR FADIGA = 'SIM' OR DOR_OLHOS = 'SIM'\n",
        "                 OR PERDA_PALADAR_OLFATO = 'SIM' OR DOR_MUSCULAR = 'SIM' THEN 'TEM SINTOMA'\n",
        "            WHEN FEBRE = 'NAO' AND TOSSE = 'NAO' AND DOR_GARGANTE = 'NAO' AND DIF_RESPIRAR = 'NAO'\n",
        "                 AND DOR_CABECA = 'NAO' AND DOR_PEITO = 'NAO' AND NAUSEA = 'NAO'\n",
        "                 AND NARIZ_CORIZA = 'NAO' AND FADIGA = 'NAO' AND DOR_OLHOS = 'NAO'\n",
        "                 AND PERDA_PALADAR_OLFATO = 'NAO' AND DOR_MUSCULAR = 'NAO' THEN 'ASSINTOMATICO'\n",
        "        END AS ESTADO_SINTOMA\n",
        "        , CASE\n",
        "            WHEN PROC_EST_SAUDE = 1 THEN 'SIM'\n",
        "            WHEN PROC_EST_SAUDE = 2 THEN 'NAO'\n",
        "            WHEN PROC_EST_SAUDE = 9 THEN 'IGNORADO'\n",
        "            ELSE 'DESCONHECIDO'\n",
        "        END AS PROC_EST_SAUDE\n",
        "        , CASE\n",
        "            WHEN PROV_SINT_FICAR_CASA = 1 THEN 'SIM'\n",
        "            WHEN PROV_SINT_FICAR_CASA = 2 THEN 'NAO'\n",
        "            WHEN PROV_SINT_FICAR_CASA = 9 THEN 'IGNORADO'\n",
        "            ELSE 'DESCONHECIDO'\n",
        "        END AS PROV_SINT_FICAR_CASA\n",
        "        , CASE\n",
        "            WHEN PROV_SINT_BUSCAR_PROF = 1 THEN 'SIM'\n",
        "            WHEN PROV_SINT_BUSCAR_PROF = 2 THEN 'NAO'\n",
        "            WHEN PROV_SINT_BUSCAR_PROF = 9 THEN 'IGNORADO'\n",
        "            ELSE 'DESCONHECIDO'\n",
        "        END AS PROV_SINT_BUSCAR_PROF\n",
        "        , CASE\n",
        "            WHEN PROV_COMP_REMEDIO_SEM_ORIENTACAO = 1 THEN 'SIM'\n",
        "            WHEN PROV_COMP_REMEDIO_SEM_ORIENTACAO = 2 THEN 'NAO'\n",
        "            WHEN PROV_COMP_REMEDIO_SEM_ORIENTACAO = 9 THEN 'IGNORADO'\n",
        "            ELSE 'DESCONHECIDO'\n",
        "        END AS PROV_COMP_REMEDIO_SEM_ORIENTACAO\n",
        "        , CASE\n",
        "            WHEN PROV_COMP_REMEDIO_COM_ORIENTACAO = 1 THEN 'SIM'\n",
        "            WHEN PROV_COMP_REMEDIO_COM_ORIENTACAO = 2 THEN 'NAO'\n",
        "            WHEN PROV_COMP_REMEDIO_COM_ORIENTACAO = 9 THEN 'IGNORADO'\n",
        "            ELSE 'DESCONHECIDO'\n",
        "        END AS PROV_COMP_REMEDIO_COM_ORIENTACAO\n",
        "        , CASE WHEN PROV_VISITA_PROF_SUS = 1 THEN 'SIM'\n",
        "            WHEN PROV_VISITA_PROF_SUS = 2 THEN 'NAO'\n",
        "            WHEN PROV_VISITA_PROF_SUS = 9 THEN 'IGNORADO'\n",
        "            ELSE 'DESCONHECIDO'\n",
        "        END AS PROV_VISITA_PROF_SUS\n",
        "        , CASE\n",
        "            WHEN PROV_VISITA_PROF_PART = 1 THEN 'SIM'\n",
        "            WHEN PROV_VISITA_PROF_PART = 2 THEN 'NAO'\n",
        "            WHEN PROV_VISITA_PROF_PART = 9 THEN 'IGNORADO'\n",
        "            ELSE 'DESCONHECIDO'\n",
        "        END AS PROV_VISITA_PROF_PART\n",
        "        , CASE\n",
        "            WHEN BUSCA_AJUDA_UN_BASICA = 1 THEN 'SIM'\n",
        "            WHEN BUSCA_AJUDA_UN_BASICA = 2 THEN 'NAO'\n",
        "            WHEN BUSCA_AJUDA_UN_BASICA = 9 THEN 'IGNORADO'\n",
        "            ELSE 'DESCONHECIDO'\n",
        "        END AS BUSCA_AJUDA_UN_BASICA\n",
        "        , CASE\n",
        "            WHEN BUSCA_AJUDA_SUS_UPA = 1 THEN 'SIM'\n",
        "            WHEN BUSCA_AJUDA_SUS_UPA = 2 THEN 'NAO'\n",
        "            WHEN BUSCA_AJUDA_SUS_UPA = 9 THEN 'IGNORADO'\n",
        "            ELSE 'DESCONHECIDO'\n",
        "        END AS BUSCA_AJUDA_SUS_UPA\n",
        "        , CASE\n",
        "          WHEN BUSCA_AJUDA_HSP_SUS = 1 THEN 'SIM'\n",
        "            WHEN BUSCA_AJUDA_HSP_SUS = 2 THEN 'NAO'\n",
        "            WHEN BUSCA_AJUDA_HSP_SUS = 9 THEN 'IGNORADO'\n",
        "            ELSE 'DESCONHECIDO'\n",
        "        END AS BUSCA_AJUDA_HSP_SUS\n",
        "        , CASE\n",
        "            WHEN INTERNADO_UM_MAIS_DIAS = 1 THEN 'SIM'\n",
        "            WHEN INTERNADO_UM_MAIS_DIAS = 2 THEN 'NAO'\n",
        "            WHEN INTERNADO_UM_MAIS_DIAS = 9 THEN 'IGNORADO'\n",
        "            ELSE 'DESCONHECIDO'\n",
        "        END AS INTERNADO_UM_MAIS_DIAS\n",
        "        , CASE\n",
        "          WHEN SEDADO_ENTUB_RESP_ARTIF = 1 THEN 'SIM'\n",
        "            WHEN SEDADO_ENTUB_RESP_ARTIF = 2 THEN 'NAO'\n",
        "            WHEN SEDADO_ENTUB_RESP_ARTIF = 9 THEN 'IGNORADO'\n",
        "            ELSE 'DESCONHECIDO'\n",
        "        END AS SEDADO_ENTUB_RESP_ARTIF\n",
        "        , CASE\n",
        "            WHEN PLANO_SAUDE = 1 THEN 'SIM'\n",
        "            WHEN PLANO_SAUDE = 2 THEN 'NAO'\n",
        "            WHEN PLANO_SAUDE = 9 THEN 'IGNORADO'\n",
        "            ELSE 'DESCONHECIDO'\n",
        "        END AS PLANO_SAUDE\n",
        "        , CASE\n",
        "            WHEN TRAB_SEM_PASSADA_BICO = 1 THEN 'SIM'\n",
        "            WHEN TRAB_SEM_PASSADA_BICO = 2 THEN 'NAO'\n",
        "            ELSE 'DESCONHECIDO'\n",
        "        END AS TRAB_SEM_PASSADA_BICO\n",
        "        , CASE\n",
        "            WHEN SEM_PASSADA_AFASTADO = 1 THEN 'SIM'\n",
        "            WHEN SEM_PASSADA_AFASTADO = 2 THEN 'NAO'\n",
        "            ELSE 'DESCONHECIDO'\n",
        "        END AS SEM_PASSADA_AFASTADO\n",
        "        , CASE\n",
        "            WHEN MOTIVO_AFASTAMENTO_TEMP = 1 THEN 'QUARENTENA ISOLAMENTO'\n",
        "            WHEN MOTIVO_AFASTAMENTO_TEMP = 2 THEN 'FOLGA FERIAS'\n",
        "            WHEN MOTIVO_AFASTAMENTO_TEMP = 3 THEN 'MATERNIDADE PATERNIDADE'\n",
        "            WHEN MOTIVO_AFASTAMENTO_TEMP = 4 THEN 'LICENCA REMUNERADA'\n",
        "            WHEN MOTIVO_AFASTAMENTO_TEMP = 5 THEN 'LICENCA REMUNERADA'\n",
        "            WHEN MOTIVO_AFASTAMENTO_TEMP = 6 THEN 'AFASTAMENTO PROPRIO'\n",
        "            WHEN MOTIVO_AFASTAMENTO_TEMP = 7 THEN 'TEMPO GREVE'\n",
        "            WHEN MOTIVO_AFASTAMENTO_TEMP = 8 THEN 'OUTROS'\n",
        "            WHEN MOTIVO_AFASTAMENTO_TEMP = 9 THEN 'DESCONHECIDO'\n",
        "            ELSE 'DESCONHECIDO'\n",
        "        END AS MOTIVO_AFASTAMENTO_TEMP\n",
        "        , CASE\n",
        "            WHEN CONT_SENDO_REMUNERADO = 1 THEN 'SIM'\n",
        "            WHEN CONT_SENDO_REMUNERADO = 2 THEN 'NAO'\n",
        "            WHEN CONT_SENDO_REMUNERADO = 3 THEN 'SEM REMUNERACAO'\n",
        "            ELSE 'DESCONHECIDO'\n",
        "        END AS CONT_SENDO_REMUNERADO\n",
        "        , CASE\n",
        "            WHEN MAIS_UM_TRABALHO = 1 THEN 'SIM'\n",
        "            WHEN MAIS_UM_TRABALHO = 2 THEN 'NAO'\n",
        "            ELSE 'DESCONHECIDO'\n",
        "        END AS MAIS_UM_TRABALHO\n",
        "        , CASE\n",
        "            WHEN SETOR_TRABALHO = 1 THEN 'DEMESTICO'\n",
        "            WHEN SETOR_TRABALHO = 2 THEN 'MILITAR NACIONAL'\n",
        "            WHEN SETOR_TRABALHO = 3 THEN 'MILITAR_ESTADUAL'\n",
        "            WHEN SETOR_TRABALHO = 4 THEN 'SETOR PRIVADO'\n",
        "            WHEN SETOR_TRABALHO = 5 THEN 'SETOR PUBLICO'\n",
        "            WHEN SETOR_TRABALHO = 6 THEN 'EMPREGADOR'\n",
        "            WHEN SETOR_TRABALHO = 7 THEN 'CONTA PROPRIA'\n",
        "            WHEN SETOR_TRABALHO = 8 THEN 'FAMILIA'\n",
        "            WHEN SETOR_TRABALHO = 9 THEN 'FORA DO MERCADO'\n",
        "            ELSE 'DESCONHECIDO'\n",
        "        END AS SETOR_TRABALHO\n",
        "        , CASE\n",
        "            WHEN ASSINATURA_CTPS = 1 THEN 'SIM PRIVADO'\n",
        "            WHEN ASSINATURA_CTPS = 2 THEN 'SIM PUBLICO'\n",
        "            WHEN ASSINATURA_CTPS = 3 THEN 'NAO'\n",
        "            ELSE 'DESCONHECIDO'\n",
        "        END AS ASSINATURA_CTPS\n",
        "        , CASE\n",
        "            WHEN RENDIMENTO = 00 THEN '100,00'\n",
        "            WHEN RENDIMENTO = 01 THEN '300,00'\n",
        "            WHEN RENDIMENTO = 02 THEN '600,00'\n",
        "            WHEN RENDIMENTO = 03 THEN '800,00'\n",
        "            WHEN RENDIMENTO = 04 THEN '1600,00'\n",
        "            WHEN RENDIMENTO = 05 THEN '3000,00'\n",
        "            WHEN RENDIMENTO = 06 THEN '10.000,00'\n",
        "            WHEN RENDIMENTO = 07 THEN '50.000,00'\n",
        "            WHEN RENDIMENTO = 08 THEN '100.000,00'\n",
        "            WHEN RENDIMENTO = 09 THEN 'ACIMA DE 100.000,00'\n",
        "            ELSE 'DESCONHECIDO'\n",
        "        END AS RENDIMENTO\n",
        "        , CASE\n",
        "            WHEN TRAB_REMOTO_PRESENCIAL = 1 THEN 'REMOTO'\n",
        "            WHEN TRAB_REMOTO_PRESENCIAL = 2 THEN 'PRESENCIAL'\n",
        "            ELSE 'DESCONHECIDO'\n",
        "        END AS TRAB_REMOTO_PRESENCIAL\n",
        "        , CASE\n",
        "            WHEN CONTRIB_INSS = 1 THEN 'SIM'\n",
        "            WHEN CONTRIB_INSS = 2 THEN 'NAO'\n",
        "            ELSE 'DESCONHECIDO'\n",
        "        END AS CONTRIB_INSS\n",
        "        , CASE\n",
        "            WHEN TIPO_DOMICILIO = 1 THEN 'PROPRIA'\n",
        "            WHEN TIPO_DOMICILIO = 2 THEN 'PROPRIA PAGANDO'\n",
        "            WHEN TIPO_DOMICILIO = 3 THEN 'ALUGADO'\n",
        "            WHEN TIPO_DOMICILIO = 4 THEN 'CEDIDO EMPREGADOR'\n",
        "            WHEN TIPO_DOMICILIO = 5 THEN 'CEDIDO FAMILIA'\n",
        "            WHEN TIPO_DOMICILIO = 6 THEN 'CEDIDO OUTRA FORMA'\n",
        "            WHEN TIPO_DOMICILIO = 7 THEN 'OUTRA CONDICAO'\n",
        "            ELSE 'DESCONHECIDO'\n",
        "        END AS TIPO_DOMICILIO\n",
        "        , CASE\n",
        "            WHEN BOLSA_FAMILIA = 1 THEN 'SIM'\n",
        "            WHEN BOLSA_FAMILIA = 2 THEN 'NAO'\n",
        "            ELSE 'DESCONHECIDO'\n",
        "        END AS BOLSA_FAMILIA\n",
        "        , CASE\n",
        "            WHEN BPC = 1 THEN 'SIM'\n",
        "            WHEN BPC = 2 THEN 'NAO'\n",
        "            ELSE 'DESCONHECIDO'\n",
        "        END AS BPC\n",
        "        , CASE\n",
        "            WHEN SEGURO_DESEMPREGO = 1 THEN 'SIM'\n",
        "            WHEN SEGURO_DESEMPREGO = 2 THEN 'NAO'\n",
        "            ELSE 'DESCONHECIDO'\n",
        "        END AS SEGURO_DESEMPREGO\n",
        "        , CASE\n",
        "            WHEN BENEF_CORONA_VIRUS = 1 THEN 'SIM'\n",
        "            WHEN BENEF_CORONA_VIRUS = 2 THEN 'NAO'\n",
        "            ELSE 'DESCONHECIDO'\n",
        "        END AS BENEF_CORONA_VIRUS\n",
        "        , CASE\n",
        "            WHEN APOSENTADORIA_PENSAO = 1 THEN 'SIM'\n",
        "            WHEN APOSENTADORIA_PENSAO = 2 THEN 'NAO'\n",
        "            ELSE 'DESCONHECIDO'\n",
        "        END AS APOSENTADORIA_PENSAO\n",
        "\n",
        "    FROM 072020_ADJ\n",
        "\"\"\")\n",
        "\n",
        "PNAD_COVID_072020.createOrReplaceTempView(\"PNAD_COVID_072020\")\n",
        "PNAD_COVID_072020.show(5, truncate=False)\n",
        "PNAD_COVID_072020.count()\n"
      ],
      "metadata": {
        "colab": {
          "base_uri": "https://localhost:8080/"
        },
        "id": "SLxuiF-CwXZn",
        "outputId": "a2ff18a1-79cd-4081-d2ab-4b8a44d818ac"
      },
      "execution_count": null,
      "outputs": [
        {
          "output_type": "stream",
          "name": "stdout",
          "text": [
            "+----+---+----------+---+-----------+------+-----+-----------+---------+--------+-----------------------------+-----+-----+------------+------------+----------+---------+------+------------+------+---------+--------------------+------------+--------------+--------------+--------------------+---------------------+--------------------------------+--------------------------------+--------------------+---------------------+---------------------+-------------------+-------------------+----------------------+-----------------------+-----------+---------------------+--------------------+-----------------------+---------------------+----------------+--------------+---------------+------------+----------------------+------------+--------------+-------------+---+-----------------+------------------+--------------------+\n",
            "|ANO |MES|DATA      |UF |CAPITAL    |LOCAL |IDADE|GRUPO_IDADE|SEXO     |COR_RACA|ESCOLARIDADE                 |FEBRE|TOSSE|DOR_GARGANTE|DIF_RESPIRAR|DOR_CABECA|DOR_PEITO|NAUSEA|NARIZ_CORIZA|FADIGA|DOR_OLHOS|PERDA_PALADAR_OLFATO|DOR_MUSCULAR|ESTADO_SINTOMA|PROC_EST_SAUDE|PROV_SINT_FICAR_CASA|PROV_SINT_BUSCAR_PROF|PROV_COMP_REMEDIO_SEM_ORIENTACAO|PROV_COMP_REMEDIO_COM_ORIENTACAO|PROV_VISITA_PROF_SUS|PROV_VISITA_PROF_PART|BUSCA_AJUDA_UN_BASICA|BUSCA_AJUDA_SUS_UPA|BUSCA_AJUDA_HSP_SUS|INTERNADO_UM_MAIS_DIAS|SEDADO_ENTUB_RESP_ARTIF|PLANO_SAUDE|TRAB_SEM_PASSADA_BICO|SEM_PASSADA_AFASTADO|MOTIVO_AFASTAMENTO_TEMP|CONT_SENDO_REMUNERADO|MAIS_UM_TRABALHO|SETOR_TRABALHO|ASSINATURA_CTPS|RENDIMENTO  |TRAB_REMOTO_PRESENCIAL|CONTRIB_INSS|TIPO_DOMICILIO|BOLSA_FAMILIA|BPC|SEGURO_DESEMPREGO|BENEF_CORONA_VIRUS|APOSENTADORIA_PENSAO|\n",
            "+----+---+----------+---+-----------+------+-----+-----------+---------+--------+-----------------------------+-----+-----+------------+------------+----------+---------+------+------------+------+---------+--------------------+------------+--------------+--------------+--------------------+---------------------+--------------------------------+--------------------------------+--------------------+---------------------+---------------------+-------------------+-------------------+----------------------+-----------------------+-----------+---------------------+--------------------+-----------------------+---------------------+----------------+--------------+---------------+------------+----------------------+------------+--------------+-------------+---+-----------------+------------------+--------------------+\n",
            "|2020|7  |2020-07-01|RO |PORTO VELHO|URBANO|35   |ADULTO     |MASCULINO|PARDA   |ENSINO MEDIO COMPLETO        |NAO  |NAO  |NAO         |NAO         |NAO       |NAO      |NAO   |NAO         |NAO   |NAO      |NAO                 |NAO         |DESCONHECIDO  |DESCONHECIDO  |DESCONHECIDO        |DESCONHECIDO         |DESCONHECIDO                    |DESCONHECIDO                    |DESCONHECIDO        |DESCONHECIDO         |DESCONHECIDO         |DESCONHECIDO       |DESCONHECIDO       |DESCONHECIDO          |DESCONHECIDO           |SIM        |SIM                  |DESCONHECIDO        |DESCONHECIDO           |DESCONHECIDO         |NAO             |SETOR PRIVADO |SIM PRIVADO    |1600,00     |DESCONHECIDO          |DESCONHECIDO|PROPRIA       |NAO          |NAO|NAO              |SIM               |NAO                 |\n",
            "|2020|7  |2020-07-01|RO |PORTO VELHO|URBANO|29   |ADULTO     |FEMININO |PARDA   |SUPERIOR COMPLETO            |NAO  |NAO  |NAO         |NAO         |NAO       |NAO      |NAO   |NAO         |NAO   |NAO      |NAO                 |NAO         |DESCONHECIDO  |DESCONHECIDO  |DESCONHECIDO        |DESCONHECIDO         |DESCONHECIDO                    |DESCONHECIDO                    |DESCONHECIDO        |DESCONHECIDO         |DESCONHECIDO         |DESCONHECIDO       |DESCONHECIDO       |DESCONHECIDO          |DESCONHECIDO           |NAO        |NAO                  |SIM                 |QUARENTENA ISOLAMENTO  |NAO                  |DESCONHECIDO    |DESCONHECIDO  |DESCONHECIDO   |DESCONHECIDO|DESCONHECIDO          |NAO         |PROPRIA       |NAO          |NAO|NAO              |SIM               |NAO                 |\n",
            "|2020|7  |2020-07-01|RO |PORTO VELHO|URBANO|13   |ADOLESCENTE|MASCULINO|PARDA   |ENSINO FUNDAMENTAL INCOMPLETO|NAO  |NAO  |NAO         |NAO         |NAO       |NAO      |NAO   |NAO         |NAO   |NAO      |NAO                 |NAO         |DESCONHECIDO  |DESCONHECIDO  |DESCONHECIDO        |DESCONHECIDO         |DESCONHECIDO                    |DESCONHECIDO                    |DESCONHECIDO        |DESCONHECIDO         |DESCONHECIDO         |DESCONHECIDO       |DESCONHECIDO       |DESCONHECIDO          |DESCONHECIDO           |SIM        |DESCONHECIDO         |DESCONHECIDO        |DESCONHECIDO           |DESCONHECIDO         |DESCONHECIDO    |DESCONHECIDO  |DESCONHECIDO   |DESCONHECIDO|DESCONHECIDO          |DESCONHECIDO|PROPRIA       |NAO          |NAO|NAO              |SIM               |NAO                 |\n",
            "|2020|7  |2020-07-01|RO |PORTO VELHO|URBANO|10   |CRIANCA    |MASCULINO|PARDA   |ENSINO FUNDAMENTAL INCOMPLETO|NAO  |NAO  |NAO         |NAO         |NAO       |NAO      |NAO   |NAO         |NAO   |NAO      |NAO                 |NAO         |DESCONHECIDO  |DESCONHECIDO  |DESCONHECIDO        |DESCONHECIDO         |DESCONHECIDO                    |DESCONHECIDO                    |DESCONHECIDO        |DESCONHECIDO         |DESCONHECIDO         |DESCONHECIDO       |DESCONHECIDO       |DESCONHECIDO          |DESCONHECIDO           |SIM        |DESCONHECIDO         |DESCONHECIDO        |DESCONHECIDO           |DESCONHECIDO         |DESCONHECIDO    |DESCONHECIDO  |DESCONHECIDO   |DESCONHECIDO|DESCONHECIDO          |DESCONHECIDO|PROPRIA       |NAO          |NAO|NAO              |SIM               |NAO                 |\n",
            "|2020|7  |2020-07-01|RO |PORTO VELHO|URBANO|57   |ADULTO     |FEMININO |BRANCA  |ENSINO FUNDAMENTAL INCOMPLETO|NAO  |NAO  |NAO         |NAO         |NAO       |NAO      |NAO   |NAO         |NAO   |NAO      |NAO                 |NAO         |DESCONHECIDO  |DESCONHECIDO  |DESCONHECIDO        |DESCONHECIDO         |DESCONHECIDO                    |DESCONHECIDO                    |DESCONHECIDO        |DESCONHECIDO         |DESCONHECIDO         |DESCONHECIDO       |DESCONHECIDO       |DESCONHECIDO          |DESCONHECIDO           |NAO        |NAO                  |NAO                 |DESCONHECIDO           |DESCONHECIDO         |DESCONHECIDO    |DESCONHECIDO  |DESCONHECIDO   |DESCONHECIDO|DESCONHECIDO          |NAO         |PROPRIA       |NAO          |SIM|NAO              |NAO               |NAO                 |\n",
            "+----+---+----------+---+-----------+------+-----+-----------+---------+--------+-----------------------------+-----+-----+------------+------------+----------+---------+------+------------+------+---------+--------------------+------------+--------------+--------------+--------------------+---------------------+--------------------------------+--------------------------------+--------------------+---------------------+---------------------+-------------------+-------------------+----------------------+-----------------------+-----------+---------------------+--------------------+-----------------------+---------------------+----------------+--------------+---------------+------------+----------------------+------------+--------------+-------------+---+-----------------+------------------+--------------------+\n",
            "only showing top 5 rows\n",
            "\n"
          ]
        },
        {
          "output_type": "execute_result",
          "data": {
            "text/plain": [
              "384166"
            ]
          },
          "metadata": {},
          "execution_count": 13
        }
      ]
    },
    {
      "cell_type": "markdown",
      "source": [
        "## Unindo Meses com *Union*"
      ],
      "metadata": {
        "id": "uzZKvTnPyE-l"
      }
    },
    {
      "cell_type": "code",
      "source": [
        "PNAD_COVID_05_06_07_2020 = PNAD_COVID_072020.unionByName(PNAD_COVID_062020).unionByName(PNAD_COVID_052020)\n",
        "\n",
        "\n",
        "PNAD_COVID_05_06_07_2020.createOrReplaceTempView(\"PNAD_COVID_05_06_07_2020\")\n",
        "PNAD_COVID_05_06_07_2020.show()\n",
        "PNAD_COVID_05_06_07_2020.count()"
      ],
      "metadata": {
        "colab": {
          "base_uri": "https://localhost:8080/"
        },
        "id": "dlC0D4WQyEsp",
        "outputId": "5e335630-8249-4b99-a52c-e6590c020a5f"
      },
      "execution_count": null,
      "outputs": [
        {
          "output_type": "stream",
          "name": "stdout",
          "text": [
            "+----+---+----------+---+-----------+------+-----+-----------+---------+--------+--------------------+-----+-----+------------+------------+----------+---------+------+------------+------+---------+--------------------+------------+--------------+--------------+--------------------+---------------------+--------------------------------+--------------------------------+--------------------+---------------------+---------------------+-------------------+-------------------+----------------------+-----------------------+-----------+---------------------+--------------------+-----------------------+---------------------+----------------+--------------+---------------+------------+----------------------+------------+--------------+-------------+---+-----------------+------------------+--------------------+\n",
            "| ANO|MES|      DATA| UF|    CAPITAL| LOCAL|IDADE|GRUPO_IDADE|     SEXO|COR_RACA|        ESCOLARIDADE|FEBRE|TOSSE|DOR_GARGANTE|DIF_RESPIRAR|DOR_CABECA|DOR_PEITO|NAUSEA|NARIZ_CORIZA|FADIGA|DOR_OLHOS|PERDA_PALADAR_OLFATO|DOR_MUSCULAR|ESTADO_SINTOMA|PROC_EST_SAUDE|PROV_SINT_FICAR_CASA|PROV_SINT_BUSCAR_PROF|PROV_COMP_REMEDIO_SEM_ORIENTACAO|PROV_COMP_REMEDIO_COM_ORIENTACAO|PROV_VISITA_PROF_SUS|PROV_VISITA_PROF_PART|BUSCA_AJUDA_UN_BASICA|BUSCA_AJUDA_SUS_UPA|BUSCA_AJUDA_HSP_SUS|INTERNADO_UM_MAIS_DIAS|SEDADO_ENTUB_RESP_ARTIF|PLANO_SAUDE|TRAB_SEM_PASSADA_BICO|SEM_PASSADA_AFASTADO|MOTIVO_AFASTAMENTO_TEMP|CONT_SENDO_REMUNERADO|MAIS_UM_TRABALHO|SETOR_TRABALHO|ASSINATURA_CTPS|  RENDIMENTO|TRAB_REMOTO_PRESENCIAL|CONTRIB_INSS|TIPO_DOMICILIO|BOLSA_FAMILIA|BPC|SEGURO_DESEMPREGO|BENEF_CORONA_VIRUS|APOSENTADORIA_PENSAO|\n",
            "+----+---+----------+---+-----------+------+-----+-----------+---------+--------+--------------------+-----+-----+------------+------------+----------+---------+------+------------+------+---------+--------------------+------------+--------------+--------------+--------------------+---------------------+--------------------------------+--------------------------------+--------------------+---------------------+---------------------+-------------------+-------------------+----------------------+-----------------------+-----------+---------------------+--------------------+-----------------------+---------------------+----------------+--------------+---------------+------------+----------------------+------------+--------------+-------------+---+-----------------+------------------+--------------------+\n",
            "|2020|  7|2020-07-01| RO|PORTO VELHO|URBANO|   35|     ADULTO|MASCULINO|   PARDA|ENSINO MEDIO COMP...|  NAO|  NAO|         NAO|         NAO|       NAO|      NAO|   NAO|         NAO|   NAO|      NAO|                 NAO|         NAO|  DESCONHECIDO|  DESCONHECIDO|        DESCONHECIDO|         DESCONHECIDO|                    DESCONHECIDO|                    DESCONHECIDO|        DESCONHECIDO|         DESCONHECIDO|         DESCONHECIDO|       DESCONHECIDO|       DESCONHECIDO|          DESCONHECIDO|           DESCONHECIDO|        SIM|                  SIM|        DESCONHECIDO|           DESCONHECIDO|         DESCONHECIDO|             NAO| SETOR PRIVADO|    SIM PRIVADO|     1600,00|          DESCONHECIDO|DESCONHECIDO|       PROPRIA|          NAO|NAO|              NAO|               SIM|                 NAO|\n",
            "|2020|  7|2020-07-01| RO|PORTO VELHO|URBANO|   29|     ADULTO| FEMININO|   PARDA|   SUPERIOR COMPLETO|  NAO|  NAO|         NAO|         NAO|       NAO|      NAO|   NAO|         NAO|   NAO|      NAO|                 NAO|         NAO|  DESCONHECIDO|  DESCONHECIDO|        DESCONHECIDO|         DESCONHECIDO|                    DESCONHECIDO|                    DESCONHECIDO|        DESCONHECIDO|         DESCONHECIDO|         DESCONHECIDO|       DESCONHECIDO|       DESCONHECIDO|          DESCONHECIDO|           DESCONHECIDO|        NAO|                  NAO|                 SIM|   QUARENTENA ISOLAM...|                  NAO|    DESCONHECIDO|  DESCONHECIDO|   DESCONHECIDO|DESCONHECIDO|          DESCONHECIDO|         NAO|       PROPRIA|          NAO|NAO|              NAO|               SIM|                 NAO|\n",
            "|2020|  7|2020-07-01| RO|PORTO VELHO|URBANO|   13|ADOLESCENTE|MASCULINO|   PARDA|ENSINO FUNDAMENTA...|  NAO|  NAO|         NAO|         NAO|       NAO|      NAO|   NAO|         NAO|   NAO|      NAO|                 NAO|         NAO|  DESCONHECIDO|  DESCONHECIDO|        DESCONHECIDO|         DESCONHECIDO|                    DESCONHECIDO|                    DESCONHECIDO|        DESCONHECIDO|         DESCONHECIDO|         DESCONHECIDO|       DESCONHECIDO|       DESCONHECIDO|          DESCONHECIDO|           DESCONHECIDO|        SIM|         DESCONHECIDO|        DESCONHECIDO|           DESCONHECIDO|         DESCONHECIDO|    DESCONHECIDO|  DESCONHECIDO|   DESCONHECIDO|DESCONHECIDO|          DESCONHECIDO|DESCONHECIDO|       PROPRIA|          NAO|NAO|              NAO|               SIM|                 NAO|\n",
            "|2020|  7|2020-07-01| RO|PORTO VELHO|URBANO|   10|    CRIANCA|MASCULINO|   PARDA|ENSINO FUNDAMENTA...|  NAO|  NAO|         NAO|         NAO|       NAO|      NAO|   NAO|         NAO|   NAO|      NAO|                 NAO|         NAO|  DESCONHECIDO|  DESCONHECIDO|        DESCONHECIDO|         DESCONHECIDO|                    DESCONHECIDO|                    DESCONHECIDO|        DESCONHECIDO|         DESCONHECIDO|         DESCONHECIDO|       DESCONHECIDO|       DESCONHECIDO|          DESCONHECIDO|           DESCONHECIDO|        SIM|         DESCONHECIDO|        DESCONHECIDO|           DESCONHECIDO|         DESCONHECIDO|    DESCONHECIDO|  DESCONHECIDO|   DESCONHECIDO|DESCONHECIDO|          DESCONHECIDO|DESCONHECIDO|       PROPRIA|          NAO|NAO|              NAO|               SIM|                 NAO|\n",
            "|2020|  7|2020-07-01| RO|PORTO VELHO|URBANO|   57|     ADULTO| FEMININO|  BRANCA|ENSINO FUNDAMENTA...|  NAO|  NAO|         NAO|         NAO|       NAO|      NAO|   NAO|         NAO|   NAO|      NAO|                 NAO|         NAO|  DESCONHECIDO|  DESCONHECIDO|        DESCONHECIDO|         DESCONHECIDO|                    DESCONHECIDO|                    DESCONHECIDO|        DESCONHECIDO|         DESCONHECIDO|         DESCONHECIDO|       DESCONHECIDO|       DESCONHECIDO|          DESCONHECIDO|           DESCONHECIDO|        NAO|                  NAO|                 NAO|           DESCONHECIDO|         DESCONHECIDO|    DESCONHECIDO|  DESCONHECIDO|   DESCONHECIDO|DESCONHECIDO|          DESCONHECIDO|         NAO|       PROPRIA|          NAO|SIM|              NAO|               NAO|                 NAO|\n",
            "|2020|  7|2020-07-01| RO|PORTO VELHO|URBANO|   47|     ADULTO|MASCULINO|   PARDA|ENSINO FUNDAMENTA...|  NAO|  NAO|         NAO|         NAO|       NAO|      NAO|   NAO|         NAO|   NAO|      NAO|                 NAO|         NAO|  DESCONHECIDO|  DESCONHECIDO|        DESCONHECIDO|         DESCONHECIDO|                    DESCONHECIDO|                    DESCONHECIDO|        DESCONHECIDO|         DESCONHECIDO|         DESCONHECIDO|       DESCONHECIDO|       DESCONHECIDO|          DESCONHECIDO|           DESCONHECIDO|        NAO|                  NAO|                 SIM|   QUARENTENA ISOLAM...|                  NAO|             NAO| CONTA PROPRIA|   DESCONHECIDO|     3000,00|          DESCONHECIDO|         NAO|       PROPRIA|          NAO|NAO|              NAO|               SIM|                 NAO|\n",
            "|2020|  7|2020-07-01| RO|PORTO VELHO|URBANO|   18|     ADULTO| FEMININO|   PARDA|ENSINO FUNDAMENTA...|  NAO|  NAO|         NAO|         NAO|       NAO|      NAO|   NAO|         NAO|   NAO|      NAO|                 NAO|         NAO|  DESCONHECIDO|  DESCONHECIDO|        DESCONHECIDO|         DESCONHECIDO|                    DESCONHECIDO|                    DESCONHECIDO|        DESCONHECIDO|         DESCONHECIDO|         DESCONHECIDO|       DESCONHECIDO|       DESCONHECIDO|          DESCONHECIDO|           DESCONHECIDO|        NAO|                  NAO|                 NAO|           DESCONHECIDO|         DESCONHECIDO|    DESCONHECIDO|  DESCONHECIDO|   DESCONHECIDO|DESCONHECIDO|          DESCONHECIDO|         NAO|       PROPRIA|          NAO|NAO|              NAO|               SIM|                 NAO|\n",
            "|2020|  7|2020-07-01| RO|PORTO VELHO|URBANO|   11|    CRIANCA|MASCULINO|   PARDA|ENSINO FUNDAMENTA...|  NAO|  NAO|         NAO|         NAO|       NAO|      NAO|   NAO|         NAO|   NAO|      NAO|                 NAO|         NAO|  DESCONHECIDO|  DESCONHECIDO|        DESCONHECIDO|         DESCONHECIDO|                    DESCONHECIDO|                    DESCONHECIDO|        DESCONHECIDO|         DESCONHECIDO|         DESCONHECIDO|       DESCONHECIDO|       DESCONHECIDO|          DESCONHECIDO|           DESCONHECIDO|        NAO|         DESCONHECIDO|        DESCONHECIDO|           DESCONHECIDO|         DESCONHECIDO|    DESCONHECIDO|  DESCONHECIDO|   DESCONHECIDO|DESCONHECIDO|          DESCONHECIDO|DESCONHECIDO|       PROPRIA|          NAO|NAO|              NAO|               SIM|                 NAO|\n",
            "|2020|  7|2020-07-01| RO|PORTO VELHO|URBANO|    9|    CRIANCA| FEMININO|   PARDA|ENSINO FUNDAMENTA...|  NAO|  NAO|         NAO|         NAO|       NAO|      NAO|   NAO|         NAO|   NAO|      NAO|                 NAO|         NAO|  DESCONHECIDO|  DESCONHECIDO|        DESCONHECIDO|         DESCONHECIDO|                    DESCONHECIDO|                    DESCONHECIDO|        DESCONHECIDO|         DESCONHECIDO|         DESCONHECIDO|       DESCONHECIDO|       DESCONHECIDO|          DESCONHECIDO|           DESCONHECIDO|        NAO|         DESCONHECIDO|        DESCONHECIDO|           DESCONHECIDO|         DESCONHECIDO|    DESCONHECIDO|  DESCONHECIDO|   DESCONHECIDO|DESCONHECIDO|          DESCONHECIDO|DESCONHECIDO|       PROPRIA|          NAO|NAO|              NAO|               SIM|                 NAO|\n",
            "|2020|  7|2020-07-01| RO|PORTO VELHO|URBANO|   10|    CRIANCA|MASCULINO|   PARDA|ENSINO FUNDAMENTA...|  NAO|  NAO|         NAO|         NAO|       NAO|      NAO|   NAO|         NAO|   NAO|      NAO|                 NAO|         NAO|  DESCONHECIDO|  DESCONHECIDO|        DESCONHECIDO|         DESCONHECIDO|                    DESCONHECIDO|                    DESCONHECIDO|        DESCONHECIDO|         DESCONHECIDO|         DESCONHECIDO|       DESCONHECIDO|       DESCONHECIDO|          DESCONHECIDO|           DESCONHECIDO|        NAO|         DESCONHECIDO|        DESCONHECIDO|           DESCONHECIDO|         DESCONHECIDO|    DESCONHECIDO|  DESCONHECIDO|   DESCONHECIDO|DESCONHECIDO|          DESCONHECIDO|DESCONHECIDO|       PROPRIA|          NAO|NAO|              NAO|               SIM|                 NAO|\n",
            "|2020|  7|2020-07-01| RO|PORTO VELHO|URBANO|   26|     ADULTO|MASCULINO|   PARDA|ENSINO MEDIO COMP...|  NAO|  NAO|         NAO|         NAO|       NAO|      NAO|   NAO|         NAO|   NAO|      NAO|                 NAO|         NAO|  DESCONHECIDO|  DESCONHECIDO|        DESCONHECIDO|         DESCONHECIDO|                    DESCONHECIDO|                    DESCONHECIDO|        DESCONHECIDO|         DESCONHECIDO|         DESCONHECIDO|       DESCONHECIDO|       DESCONHECIDO|          DESCONHECIDO|           DESCONHECIDO|        NAO|                  NAO|                 NAO|           DESCONHECIDO|         DESCONHECIDO|    DESCONHECIDO|  DESCONHECIDO|   DESCONHECIDO|DESCONHECIDO|          DESCONHECIDO|         NAO|       PROPRIA|          NAO|NAO|              NAO|               SIM|                 NAO|\n",
            "|2020|  7|2020-07-01| RO|PORTO VELHO|URBANO|   14|ADOLESCENTE|MASCULINO| AMARELA|ENSINO FUNDAMENTA...|  NAO|  NAO|         NAO|         NAO|       NAO|      NAO|   NAO|         NAO|   NAO|      NAO|                 NAO|         NAO|  DESCONHECIDO|  DESCONHECIDO|        DESCONHECIDO|         DESCONHECIDO|                    DESCONHECIDO|                    DESCONHECIDO|        DESCONHECIDO|         DESCONHECIDO|         DESCONHECIDO|       DESCONHECIDO|       DESCONHECIDO|          DESCONHECIDO|           DESCONHECIDO|        NAO|                  NAO|                 NAO|           DESCONHECIDO|         DESCONHECIDO|    DESCONHECIDO|  DESCONHECIDO|   DESCONHECIDO|DESCONHECIDO|          DESCONHECIDO|         NAO|       PROPRIA|          NAO|NAO|              NAO|               SIM|                 NAO|\n",
            "|2020|  7|2020-07-01| RO|PORTO VELHO|URBANO|   15|ADOLESCENTE| FEMININO|   PARDA|ENSINO FUNDAMENTA...|  NAO|  NAO|         NAO|         NAO|       NAO|      NAO|   NAO|         NAO|   NAO|      NAO|                 NAO|         NAO|  DESCONHECIDO|  DESCONHECIDO|        DESCONHECIDO|         DESCONHECIDO|                    DESCONHECIDO|                    DESCONHECIDO|        DESCONHECIDO|         DESCONHECIDO|         DESCONHECIDO|       DESCONHECIDO|       DESCONHECIDO|          DESCONHECIDO|           DESCONHECIDO|        NAO|                  NAO|                 NAO|           DESCONHECIDO|         DESCONHECIDO|    DESCONHECIDO|  DESCONHECIDO|   DESCONHECIDO|DESCONHECIDO|          DESCONHECIDO|         NAO|       PROPRIA|          NAO|NAO|              NAO|               SIM|                 NAO|\n",
            "|2020|  7|2020-07-01| RO|PORTO VELHO|URBANO|   62|      IDOSO|MASCULINO|   PARDA|       SEM INSTRUCAO|  NAO|  NAO|         NAO|         NAO|       NAO|      NAO|   NAO|         NAO|   NAO|      NAO|                 NAO|         NAO|  DESCONHECIDO|  DESCONHECIDO|        DESCONHECIDO|         DESCONHECIDO|                    DESCONHECIDO|                    DESCONHECIDO|        DESCONHECIDO|         DESCONHECIDO|         DESCONHECIDO|       DESCONHECIDO|       DESCONHECIDO|          DESCONHECIDO|           DESCONHECIDO|        NAO|                  SIM|        DESCONHECIDO|           DESCONHECIDO|         DESCONHECIDO|             NAO| CONTA PROPRIA|   DESCONHECIDO|     1600,00|          DESCONHECIDO|         NAO|CEDIDO FAMILIA|          NAO|NAO|              NAO|               SIM|                 NAO|\n",
            "|2020|  7|2020-07-01| RO|PORTO VELHO|URBANO|   62|      IDOSO| FEMININO|   PARDA|ENSINO FUNDAMENTA...|  NAO|  NAO|         NAO|         NAO|       NAO|      NAO|   NAO|         NAO|   NAO|      NAO|                 NAO|         NAO|  DESCONHECIDO|  DESCONHECIDO|        DESCONHECIDO|         DESCONHECIDO|                    DESCONHECIDO|                    DESCONHECIDO|        DESCONHECIDO|         DESCONHECIDO|         DESCONHECIDO|       DESCONHECIDO|       DESCONHECIDO|          DESCONHECIDO|           DESCONHECIDO|        NAO|                  NAO|                 NAO|           DESCONHECIDO|         DESCONHECIDO|    DESCONHECIDO|  DESCONHECIDO|   DESCONHECIDO|DESCONHECIDO|          DESCONHECIDO|         NAO|CEDIDO FAMILIA|          NAO|NAO|              NAO|               SIM|                 NAO|\n",
            "|2020|  7|2020-07-01| RO|PORTO VELHO|URBANO|   56|     ADULTO| FEMININO|   PARDA|ENSINO FUNDAMENTA...|  NAO|  NAO|         NAO|         NAO|       NAO|      NAO|   NAO|         NAO|   NAO|      NAO|                 NAO|         NAO|  DESCONHECIDO|  DESCONHECIDO|        DESCONHECIDO|         DESCONHECIDO|                    DESCONHECIDO|                    DESCONHECIDO|        DESCONHECIDO|         DESCONHECIDO|         DESCONHECIDO|       DESCONHECIDO|       DESCONHECIDO|          DESCONHECIDO|           DESCONHECIDO|        NAO|                  NAO|                 NAO|           DESCONHECIDO|         DESCONHECIDO|    DESCONHECIDO|  DESCONHECIDO|   DESCONHECIDO|DESCONHECIDO|          DESCONHECIDO|         NAO|       PROPRIA|          NAO|NAO|              NAO|               SIM|                 NAO|\n",
            "|2020|  7|2020-07-01| RO|PORTO VELHO|URBANO|   53|     ADULTO|MASCULINO|   PRETA|ENSINO FUNDAMENTA...|  NAO|  NAO|         NAO|         NAO|       NAO|      NAO|   NAO|         NAO|   NAO|      NAO|                 NAO|         NAO|  DESCONHECIDO|  DESCONHECIDO|        DESCONHECIDO|         DESCONHECIDO|                    DESCONHECIDO|                    DESCONHECIDO|        DESCONHECIDO|         DESCONHECIDO|         DESCONHECIDO|       DESCONHECIDO|       DESCONHECIDO|          DESCONHECIDO|           DESCONHECIDO|        NAO|                  NAO|                 SIM|           FOLGA FERIAS|         DESCONHECIDO|             NAO| CONTA PROPRIA|   DESCONHECIDO|     1600,00|          DESCONHECIDO|         NAO|       PROPRIA|          NAO|NAO|              NAO|               SIM|                 NAO|\n",
            "|2020|  7|2020-07-01| RO|PORTO VELHO|URBANO|   17|ADOLESCENTE| FEMININO|  BRANCA|ENSINO MEDIO INCO...|  NAO|  NAO|         NAO|         NAO|       NAO|      NAO|   NAO|         NAO|   NAO|      NAO|                 NAO|         NAO|  DESCONHECIDO|  DESCONHECIDO|        DESCONHECIDO|         DESCONHECIDO|                    DESCONHECIDO|                    DESCONHECIDO|        DESCONHECIDO|         DESCONHECIDO|         DESCONHECIDO|       DESCONHECIDO|       DESCONHECIDO|          DESCONHECIDO|           DESCONHECIDO|        NAO|                  NAO|                 NAO|           DESCONHECIDO|         DESCONHECIDO|    DESCONHECIDO|  DESCONHECIDO|   DESCONHECIDO|DESCONHECIDO|          DESCONHECIDO|         NAO|       PROPRIA|          NAO|NAO|              NAO|               SIM|                 NAO|\n",
            "|2020|  7|2020-07-01| RO|PORTO VELHO|URBANO|   34|     ADULTO|MASCULINO|   PARDA|ENSINO MEDIO COMP...|  NAO|  NAO|         NAO|         NAO|       NAO|      NAO|   NAO|         NAO|   NAO|      NAO|                 NAO|         NAO|  DESCONHECIDO|  DESCONHECIDO|        DESCONHECIDO|         DESCONHECIDO|                    DESCONHECIDO|                    DESCONHECIDO|        DESCONHECIDO|         DESCONHECIDO|         DESCONHECIDO|       DESCONHECIDO|       DESCONHECIDO|          DESCONHECIDO|           DESCONHECIDO|        NAO|                  SIM|        DESCONHECIDO|           DESCONHECIDO|         DESCONHECIDO|             NAO| SETOR PRIVADO|    SIM PRIVADO|     1600,00|          DESCONHECIDO|DESCONHECIDO|       PROPRIA|          NAO|NAO|              NAO|               NAO|                 NAO|\n",
            "|2020|  7|2020-07-01| RO|PORTO VELHO|URBANO|   26|     ADULTO| FEMININO|   PARDA| SUPERIOR INCOMPLETO|  NAO|  NAO|         NAO|         NAO|       NAO|      NAO|   NAO|         NAO|   NAO|      NAO|                 NAO|         NAO|  DESCONHECIDO|  DESCONHECIDO|        DESCONHECIDO|         DESCONHECIDO|                    DESCONHECIDO|                    DESCONHECIDO|        DESCONHECIDO|         DESCONHECIDO|         DESCONHECIDO|       DESCONHECIDO|       DESCONHECIDO|          DESCONHECIDO|           DESCONHECIDO|        NAO|                  SIM|        DESCONHECIDO|           DESCONHECIDO|         DESCONHECIDO|             NAO| SETOR PRIVADO|    SIM PRIVADO|     1600,00|          DESCONHECIDO|DESCONHECIDO|       PROPRIA|          NAO|NAO|              NAO|               NAO|                 NAO|\n",
            "+----+---+----------+---+-----------+------+-----+-----------+---------+--------+--------------------+-----+-----+------------+------------+----------+---------+------+------------+------+---------+--------------------+------------+--------------+--------------+--------------------+---------------------+--------------------------------+--------------------------------+--------------------+---------------------+---------------------+-------------------+-------------------+----------------------+-----------------------+-----------+---------------------+--------------------+-----------------------+---------------------+----------------+--------------+---------------+------------+----------------------+------------+--------------+-------------+---+-----------------+------------------+--------------------+\n",
            "only showing top 20 rows\n",
            "\n"
          ]
        },
        {
          "output_type": "execute_result",
          "data": {
            "text/plain": [
              "1114742"
            ]
          },
          "metadata": {},
          "execution_count": 16
        }
      ]
    },
    {
      "cell_type": "code",
      "source": [
        "PNAD_COVID_05_06_07_2020 = spark.read.csv(\"05_06_07_PNAD_2020.csv\", sep=\",\", header=True, inferSchema=True)\n",
        "PNAD_COVID_05_06_07_2020.createOrReplaceTempView(\"PNAD_COVID_05_06_07_2020\")\n",
        "PNAD_COVID_05_06_07_2020.show(5)"
      ],
      "metadata": {
        "id": "6xlE5AWMQ5-H",
        "colab": {
          "base_uri": "https://localhost:8080/"
        },
        "outputId": "66ea3598-8053-4f53-8237-6d288579b614"
      },
      "execution_count": 8,
      "outputs": [
        {
          "output_type": "stream",
          "name": "stdout",
          "text": [
            "+----------+---+-----------+------+-----+-----------+---------+--------+--------------------+-----+-----+------------+------------+----------+---------+------+------------+------+---------+--------------------+------------+--------------+--------------+--------------------+---------------------+--------------------------------+--------------------------------+--------------------+---------------------+---------------------+-------------------+-------------------+----------------------+-----------------------+-----------+---------------------+--------------------+-----------------------+---------------------+----------------+--------------+---------------+------------+----------------------+------------+--------------+-------------+---+-----------------+------------------+--------------------+\n",
            "|      DATA| UF|    CAPITAL| LOCAL|IDADE|GRUPO_IDADE|     SEXO|COR_RACA|        ESCOLARIDADE|FEBRE|TOSSE|DOR_GARGANTE|DIF_RESPIRAR|DOR_CABECA|DOR_PEITO|NAUSEA|NARIZ_CORIZA|FADIGA|DOR_OLHOS|PERDA_PALADAR_OLFATO|DOR_MUSCULAR|ESTADO_SINTOMA|PROC_EST_SAUDE|PROV_SINT_FICAR_CASA|PROV_SINT_BUSCAR_PROF|PROV_COMP_REMEDIO_SEM_ORIENTACAO|PROV_COMP_REMEDIO_COM_ORIENTACAO|PROV_VISITA_PROF_SUS|PROV_VISITA_PROF_PART|BUSCA_AJUDA_UN_BASICA|BUSCA_AJUDA_SUS_UPA|BUSCA_AJUDA_HSP_SUS|INTERNADO_UM_MAIS_DIAS|SEDADO_ENTUB_RESP_ARTIF|PLANO_SAUDE|TRAB_SEM_PASSADA_BICO|SEM_PASSADA_AFASTADO|MOTIVO_AFASTAMENTO_TEMP|CONT_SENDO_REMUNERADO|MAIS_UM_TRABALHO|SETOR_TRABALHO|ASSINATURA_CTPS|  RENDIMENTO|TRAB_REMOTO_PRESENCIAL|CONTRIB_INSS|TIPO_DOMICILIO|BOLSA_FAMILIA|BPC|SEGURO_DESEMPREGO|BENEF_CORONA_VIRUS|APOSENTADORIA_PENSAO|\n",
            "+----------+---+-----------+------+-----+-----------+---------+--------+--------------------+-----+-----+------------+------------+----------+---------+------+------------+------+---------+--------------------+------------+--------------+--------------+--------------------+---------------------+--------------------------------+--------------------------------+--------------------+---------------------+---------------------+-------------------+-------------------+----------------------+-----------------------+-----------+---------------------+--------------------+-----------------------+---------------------+----------------+--------------+---------------+------------+----------------------+------------+--------------+-------------+---+-----------------+------------------+--------------------+\n",
            "|2020-07-01| RO|PORTO VELHO|URBANO|   35|     ADULTO|MASCULINO|   PARDA|ENSINO MEDIO COMP...|  NAO|  NAO|         NAO|         NAO|       NAO|      NAO|   NAO|         NAO|   NAO|      NAO|                 NAO|         NAO|  DESCONHECIDO|  DESCONHECIDO|        DESCONHECIDO|         DESCONHECIDO|                    DESCONHECIDO|                    DESCONHECIDO|        DESCONHECIDO|         DESCONHECIDO|         DESCONHECIDO|       DESCONHECIDO|       DESCONHECIDO|          DESCONHECIDO|           DESCONHECIDO|        SIM|                  SIM|        DESCONHECIDO|           DESCONHECIDO|         DESCONHECIDO|             NAO| SETOR PRIVADO|    SIM PRIVADO|     1600,00|          DESCONHECIDO|DESCONHECIDO|       PROPRIA|          NAO|NAO|              NAO|               SIM|                 NAO|\n",
            "|2020-07-01| RO|PORTO VELHO|URBANO|   29|     ADULTO| FEMININO|   PARDA|   SUPERIOR COMPLETO|  NAO|  NAO|         NAO|         NAO|       NAO|      NAO|   NAO|         NAO|   NAO|      NAO|                 NAO|         NAO|  DESCONHECIDO|  DESCONHECIDO|        DESCONHECIDO|         DESCONHECIDO|                    DESCONHECIDO|                    DESCONHECIDO|        DESCONHECIDO|         DESCONHECIDO|         DESCONHECIDO|       DESCONHECIDO|       DESCONHECIDO|          DESCONHECIDO|           DESCONHECIDO|        NAO|                  NAO|                 SIM|   QUARENTENA ISOLAM...|                  NAO|    DESCONHECIDO|  DESCONHECIDO|   DESCONHECIDO|DESCONHECIDO|          DESCONHECIDO|         NAO|       PROPRIA|          NAO|NAO|              NAO|               SIM|                 NAO|\n",
            "|2020-07-01| RO|PORTO VELHO|URBANO|   13|ADOLESCENTE|MASCULINO|   PARDA|ENSINO FUNDAMENTA...|  NAO|  NAO|         NAO|         NAO|       NAO|      NAO|   NAO|         NAO|   NAO|      NAO|                 NAO|         NAO|  DESCONHECIDO|  DESCONHECIDO|        DESCONHECIDO|         DESCONHECIDO|                    DESCONHECIDO|                    DESCONHECIDO|        DESCONHECIDO|         DESCONHECIDO|         DESCONHECIDO|       DESCONHECIDO|       DESCONHECIDO|          DESCONHECIDO|           DESCONHECIDO|        SIM|         DESCONHECIDO|        DESCONHECIDO|           DESCONHECIDO|         DESCONHECIDO|    DESCONHECIDO|  DESCONHECIDO|   DESCONHECIDO|DESCONHECIDO|          DESCONHECIDO|DESCONHECIDO|       PROPRIA|          NAO|NAO|              NAO|               SIM|                 NAO|\n",
            "|2020-07-01| RO|PORTO VELHO|URBANO|   10|    CRIANCA|MASCULINO|   PARDA|ENSINO FUNDAMENTA...|  NAO|  NAO|         NAO|         NAO|       NAO|      NAO|   NAO|         NAO|   NAO|      NAO|                 NAO|         NAO|  DESCONHECIDO|  DESCONHECIDO|        DESCONHECIDO|         DESCONHECIDO|                    DESCONHECIDO|                    DESCONHECIDO|        DESCONHECIDO|         DESCONHECIDO|         DESCONHECIDO|       DESCONHECIDO|       DESCONHECIDO|          DESCONHECIDO|           DESCONHECIDO|        SIM|         DESCONHECIDO|        DESCONHECIDO|           DESCONHECIDO|         DESCONHECIDO|    DESCONHECIDO|  DESCONHECIDO|   DESCONHECIDO|DESCONHECIDO|          DESCONHECIDO|DESCONHECIDO|       PROPRIA|          NAO|NAO|              NAO|               SIM|                 NAO|\n",
            "|2020-07-01| RO|PORTO VELHO|URBANO|   57|     ADULTO| FEMININO|  BRANCA|ENSINO FUNDAMENTA...|  NAO|  NAO|         NAO|         NAO|       NAO|      NAO|   NAO|         NAO|   NAO|      NAO|                 NAO|         NAO|  DESCONHECIDO|  DESCONHECIDO|        DESCONHECIDO|         DESCONHECIDO|                    DESCONHECIDO|                    DESCONHECIDO|        DESCONHECIDO|         DESCONHECIDO|         DESCONHECIDO|       DESCONHECIDO|       DESCONHECIDO|          DESCONHECIDO|           DESCONHECIDO|        NAO|                  NAO|                 NAO|           DESCONHECIDO|         DESCONHECIDO|    DESCONHECIDO|  DESCONHECIDO|   DESCONHECIDO|DESCONHECIDO|          DESCONHECIDO|         NAO|       PROPRIA|          NAO|SIM|              NAO|               NAO|                 NAO|\n",
            "+----------+---+-----------+------+-----+-----------+---------+--------+--------------------+-----+-----+------------+------------+----------+---------+------+------------+------+---------+--------------------+------------+--------------+--------------+--------------------+---------------------+--------------------------------+--------------------------------+--------------------+---------------------+---------------------+-------------------+-------------------+----------------------+-----------------------+-----------+---------------------+--------------------+-----------------------+---------------------+----------------+--------------+---------------+------------+----------------------+------------+--------------+-------------+---+-----------------+------------------+--------------------+\n",
            "only showing top 5 rows\n",
            "\n"
          ]
        }
      ]
    },
    {
      "cell_type": "code",
      "source": [
        "INTERNAMENTO = spark.sql (\"\"\"\n",
        "SELECT UF, INTERNADO_UM_MAIS_DIAS, SEDADO_ENTUB_RESP_ARTIF, PLANO_SAUDE FROM PNAD_COVID_05_06_07_2020\n",
        "ORDER BY UF DESC\n",
        "\n",
        "\"\"\")\n",
        "\n",
        "INTERNAMENTO.createOrReplaceTempView(\"INTERNAMENTO\")\n",
        "INTERNAMENTO.show(5, truncate=False)\n",
        "INTERNAMENTO.count()\n"
      ],
      "metadata": {
        "id": "ERGY9hoJYx0k"
      },
      "execution_count": null,
      "outputs": []
    },
    {
      "cell_type": "code",
      "source": [
        "TRABALHO.coalesce(1).write.csv('/content/TRABALHO', header=True)\n",
        "csv_file = [file for file in os.listdir('/content/TRABALHO') if file.endswith('.csv')][0]\n",
        "shutil.move(f'/content/TRABALHO/{csv_file}', '/content/TRABALHO.csv')\n",
        "shutil.rmtree('/content/TRABALHO')"
      ],
      "metadata": {
        "id": "uJIAPKJnYxqQ"
      },
      "execution_count": null,
      "outputs": []
    },
    {
      "cell_type": "code",
      "source": [
        "BENEFICIOS = spark.sql (\"\"\"\n",
        "SELECT UF,  ASSINATURA_CTPS, CONTRIB_INSS, BOLSA_FAMILIA, BPC, SEGURO_DESEMPREGO, BENEF_CORONA_VIRUS, APOSENTADORIA_PENSAO   FROM PNAD_COVID_05_06_07_2020\n",
        "ORDER BY UF DESC\n",
        "\n",
        "\"\"\")\n",
        "\n",
        "BENEFICIOS.createOrReplaceTempView(\"BENEFICIOS\")\n",
        "BENEFICIOS.show(5, truncate=False)\n",
        "BENEFICIOS.count()\n"
      ],
      "metadata": {
        "colab": {
          "base_uri": "https://localhost:8080/"
        },
        "id": "iExuuuwhNAZC",
        "outputId": "f02cb8bd-dae4-48b3-eecf-8d4d3563ab0c"
      },
      "execution_count": null,
      "outputs": [
        {
          "output_type": "stream",
          "name": "stdout",
          "text": [
            "+---+---------------+------------+-------------+---+-----------------+------------------+--------------------+\n",
            "|UF |ASSINATURA_CTPS|CONTRIB_INSS|BOLSA_FAMILIA|BPC|SEGURO_DESEMPREGO|BENEF_CORONA_VIRUS|APOSENTADORIA_PENSAO|\n",
            "+---+---------------+------------+-------------+---+-----------------+------------------+--------------------+\n",
            "|TO |NAO            |NAO         |NAO          |NAO|SIM              |SIM               |NAO                 |\n",
            "|TO |NAO            |NAO         |NAO          |NAO|SIM              |SIM               |NAO                 |\n",
            "|TO |NAO            |NAO         |NAO          |NAO|SIM              |SIM               |NAO                 |\n",
            "|TO |DESCONHECIDO   |DESCONHECIDO|NAO          |NAO|NAO              |SIM               |NAO                 |\n",
            "|TO |DESCONHECIDO   |DESCONHECIDO|NAO          |NAO|NAO              |SIM               |NAO                 |\n",
            "+---+---------------+------------+-------------+---+-----------------+------------------+--------------------+\n",
            "only showing top 5 rows\n",
            "\n"
          ]
        },
        {
          "output_type": "execute_result",
          "data": {
            "text/plain": [
              "1114742"
            ]
          },
          "metadata": {},
          "execution_count": 41
        }
      ]
    },
    {
      "cell_type": "code",
      "source": [
        "BENEFICIOS.coalesce(1).write.csv('/content/BENEFICIOS', header=True)\n",
        "csv_file = [file for file in os.listdir('/content/BENEFICIOS') if file.endswith('.csv')][0]\n",
        "shutil.move(f'/content/BENEFICIOS/{csv_file}', '/content/BENEFICIOS.csv')\n",
        "shutil.rmtree('/content/BENEFICIOS')"
      ],
      "metadata": {
        "id": "wUCIh__7NAW0"
      },
      "execution_count": null,
      "outputs": []
    },
    {
      "cell_type": "code",
      "source": [
        "CLASSE = spark.sql (\"\"\"\n",
        "SELECT UF, PLANO_SAUDE, RENDIMENTO, SETOR_TRABALHO  FROM PNAD_COVID_05_06_07_2020\n",
        "ORDER BY UF DESC\n",
        "\n",
        "\"\"\")\n",
        "\n",
        "CLASSE.createOrReplaceTempView(\"CLASSE\")\n",
        "CLASSE.show(5, truncate=False)\n",
        "CLASSE.count()\n"
      ],
      "metadata": {
        "colab": {
          "base_uri": "https://localhost:8080/"
        },
        "id": "mJ3T6_dwKaK4",
        "outputId": "59245db3-cfad-4066-fa31-4508c3ee3e12"
      },
      "execution_count": null,
      "outputs": [
        {
          "output_type": "stream",
          "name": "stdout",
          "text": [
            "+---+-----------+------------+--------------+\n",
            "|UF |PLANO_SAUDE|RENDIMENTO  |SETOR_TRABALHO|\n",
            "+---+-----------+------------+--------------+\n",
            "|TO |NAO        |1600,00     |DEMESTICO     |\n",
            "|TO |NAO        |1600,00     |DEMESTICO     |\n",
            "|TO |NAO        |1600,00     |DEMESTICO     |\n",
            "|TO |NAO        |DESCONHECIDO|DESCONHECIDO  |\n",
            "|TO |NAO        |DESCONHECIDO|DESCONHECIDO  |\n",
            "+---+-----------+------------+--------------+\n",
            "only showing top 5 rows\n",
            "\n"
          ]
        },
        {
          "output_type": "execute_result",
          "data": {
            "text/plain": [
              "1114742"
            ]
          },
          "metadata": {},
          "execution_count": 39
        }
      ]
    },
    {
      "cell_type": "code",
      "source": [
        "CLASSE.coalesce(1).write.csv('/content/CLASSE', header=True)\n",
        "csv_file = [file for file in os.listdir('/content/CLASSE') if file.endswith('.csv')][0]\n",
        "shutil.move(f'/content/CLASSE/{csv_file}', '/content/CLASSE.csv')\n",
        "shutil.rmtree('/content/CLASSE')"
      ],
      "metadata": {
        "id": "kkVJtw2PKaIW"
      },
      "execution_count": null,
      "outputs": []
    },
    {
      "cell_type": "code",
      "source": [
        "SINTOMAS = spark.sql (\"\"\"\n",
        "SELECT UF, FEBRE, TOSSE, DOR_GARGANTE, DIF_RESPIRAR, DOR_CABECA, DOR_PEITO, NAUSEA, NARIZ_CORIZA, FADIGA, DOR_OLHOS, PERDA_PALADAR_OLFATO, DOR_MUSCULAR, ESTADO_SINTOMA FROM PNAD_COVID_05_06_07_2020\n",
        "ORDER BY UF DESC\n",
        "\n",
        "\"\"\")\n",
        "\n",
        "SINTOMAS.createOrReplaceTempView(\"SINTOMAS\")\n",
        "SINTOMAS.show(5, truncate=False)\n",
        "SINTOMAS.count()\n"
      ],
      "metadata": {
        "colab": {
          "base_uri": "https://localhost:8080/"
        },
        "id": "NDlUvvAwBvlA",
        "outputId": "75cabee8-6ed7-4bad-8cd0-e1183f9c2691"
      },
      "execution_count": null,
      "outputs": [
        {
          "output_type": "stream",
          "name": "stdout",
          "text": [
            "+---+-----+-----+------------+------------+----------+---------+------+------------+------+---------+--------------------+------------+--------------+\n",
            "|UF |FEBRE|TOSSE|DOR_GARGANTE|DIF_RESPIRAR|DOR_CABECA|DOR_PEITO|NAUSEA|NARIZ_CORIZA|FADIGA|DOR_OLHOS|PERDA_PALADAR_OLFATO|DOR_MUSCULAR|ESTADO_SINTOMA|\n",
            "+---+-----+-----+------------+------------+----------+---------+------+------------+------+---------+--------------------+------------+--------------+\n",
            "|TO |SIM  |SIM  |SIM         |SIM         |SIM       |SIM      |SIM   |SIM         |SIM   |SIM      |NAO                 |SIM         |DESCONHECIDO  |\n",
            "|TO |NAO  |NAO  |NAO         |NAO         |NAO       |NAO      |NAO   |NAO         |NAO   |NAO      |NAO                 |NAO         |DESCONHECIDO  |\n",
            "|TO |NAO  |NAO  |NAO         |NAO         |NAO       |NAO      |NAO   |NAO         |NAO   |NAO      |NAO                 |NAO         |DESCONHECIDO  |\n",
            "|TO |NAO  |NAO  |NAO         |NAO         |NAO       |NAO      |NAO   |NAO         |NAO   |NAO      |NAO                 |NAO         |DESCONHECIDO  |\n",
            "|TO |NAO  |NAO  |NAO         |NAO         |NAO       |NAO      |NAO   |NAO         |NAO   |NAO      |NAO                 |NAO         |DESCONHECIDO  |\n",
            "+---+-----+-----+------------+------------+----------+---------+------+------------+------+---------+--------------------+------------+--------------+\n",
            "only showing top 5 rows\n",
            "\n"
          ]
        },
        {
          "output_type": "execute_result",
          "data": {
            "text/plain": [
              "1114742"
            ]
          },
          "metadata": {},
          "execution_count": 34
        }
      ]
    },
    {
      "cell_type": "code",
      "source": [
        "SINTOMAS.coalesce(1).write.csv('/content/SINTOMAS', header=True)\n",
        "csv_file = [file for file in os.listdir('/content/SINTOMAS') if file.endswith('.csv')][0]\n",
        "shutil.move(f'/content/SINTOMAS/{csv_file}', '/content/SINTOMAS.csv')\n",
        "shutil.rmtree('/content/SINTOMAS')"
      ],
      "metadata": {
        "id": "zCOvn2AmBviT"
      },
      "execution_count": null,
      "outputs": []
    },
    {
      "cell_type": "code",
      "source": [
        "ESCOLA_LOCAL_DOMICILIO = spark.sql (\"\"\"\n",
        "SELECT UF, ESCOLARIDADE, LOCAL, TIPO_DOMICILIO FROM PNAD_COVID_05_06_07_2020\n",
        "ORDER BY UF DESC\n",
        "\n",
        "\"\"\")\n",
        "\n",
        "ESCOLA_LOCAL_DOMICILIO.createOrReplaceTempView(\"ESCOLA_LOCAL_DOMICILIO\")\n",
        "ESCOLA_LOCAL_DOMICILIO.show(5, truncate=False)\n",
        "ESCOLA_LOCAL_DOMICILIO.count()\n"
      ],
      "metadata": {
        "colab": {
          "base_uri": "https://localhost:8080/"
        },
        "id": "D7wPAZLk8h6w",
        "outputId": "160639fc-9113-41dd-a01e-216ae6fbd263"
      },
      "execution_count": null,
      "outputs": [
        {
          "output_type": "stream",
          "name": "stdout",
          "text": [
            "+---+---------------------+------+--------------+\n",
            "|UF |ESCOLARIDADE         |LOCAL |TIPO_DOMICILIO|\n",
            "+---+---------------------+------+--------------+\n",
            "|TO |ENSINO MEDIO COMPLETO|URBANO|CEDIDO FAMILIA|\n",
            "|TO |ENSINO MEDIO COMPLETO|URBANO|CEDIDO FAMILIA|\n",
            "|TO |ENSINO MEDIO COMPLETO|URBANO|CEDIDO FAMILIA|\n",
            "|TO |SEM INSTRUCAO        |URBANO|ALUGADO       |\n",
            "|TO |SEM INSTRUCAO        |URBANO|ALUGADO       |\n",
            "+---+---------------------+------+--------------+\n",
            "only showing top 5 rows\n",
            "\n"
          ]
        },
        {
          "output_type": "execute_result",
          "data": {
            "text/plain": [
              "1114742"
            ]
          },
          "metadata": {},
          "execution_count": 30
        }
      ]
    },
    {
      "cell_type": "code",
      "source": [
        "ESCOLA_LOCAL_DOMICILIO.coalesce(1).write.csv('/content/ESCOLA_LOCAL_DOMICILIO', header=True)\n",
        "csv_file = [file for file in os.listdir('/content/ESCOLA_LOCAL_DOMICILIO') if file.endswith('.csv')][0]\n",
        "shutil.move(f'/content/ESCOLA_LOCAL_DOMICILIO/{csv_file}', '/content/ESCOLA_LOCAL_DOMICILIO.csv')\n",
        "shutil.rmtree('/content/ESCOLA_LOCAL_DOMICILIO')"
      ],
      "metadata": {
        "id": "hlJJ5syG8h4V"
      },
      "execution_count": null,
      "outputs": []
    },
    {
      "cell_type": "code",
      "source": [],
      "metadata": {
        "id": "XeePv2_D8h18"
      },
      "execution_count": null,
      "outputs": []
    },
    {
      "cell_type": "code",
      "source": [],
      "metadata": {
        "id": "JPQ8SXUk6itz"
      },
      "execution_count": null,
      "outputs": []
    },
    {
      "cell_type": "code",
      "source": [],
      "metadata": {
        "id": "cHCqyJJs6irQ"
      },
      "execution_count": null,
      "outputs": []
    },
    {
      "cell_type": "code",
      "source": [
        "IDADE_SEXO_RACA = spark.sql (\"\"\"\n",
        "SELECT UF, GRUPO_IDADE, SEXO, COR_RACA FROM PNAD_COVID_05_06_07_2020\n",
        "ORDER BY UF DESC\n",
        "\n",
        "\"\"\")\n",
        "\n",
        "IDADE_SEXO_RACA.createOrReplaceTempView(\"IDADE_SEXO_RACA\")\n",
        "IDADE_SEXO_RACA.show(5, truncate=False)\n",
        "IDADE_SEXO_RACA.count()\n"
      ],
      "metadata": {
        "colab": {
          "base_uri": "https://localhost:8080/"
        },
        "id": "QIh1g1lCz_w4",
        "outputId": "b6c705af-5409-471c-bb10-988842a98f2e"
      },
      "execution_count": null,
      "outputs": [
        {
          "output_type": "stream",
          "name": "stdout",
          "text": [
            "+---+-----------+--------+--------+\n",
            "|UF |GRUPO_IDADE|SEXO    |COR_RACA|\n",
            "+---+-----------+--------+--------+\n",
            "|TO |ADULTO     |FEMININO|PARDA   |\n",
            "|TO |ADULTO     |FEMININO|PARDA   |\n",
            "|TO |ADULTO     |FEMININO|PARDA   |\n",
            "|TO |CRIANCA    |FEMININO|PARDA   |\n",
            "|TO |CRIANCA    |FEMININO|PARDA   |\n",
            "+---+-----------+--------+--------+\n",
            "only showing top 5 rows\n",
            "\n"
          ]
        },
        {
          "output_type": "execute_result",
          "data": {
            "text/plain": [
              "1114742"
            ]
          },
          "metadata": {},
          "execution_count": 15
        }
      ]
    },
    {
      "cell_type": "code",
      "source": [
        "IDADE_SEXO_RACA.coalesce(1).write.csv('/content/IDADE_SEXO_RACA', header=True)\n",
        "csv_file = [file for file in os.listdir('/content/IDADE_SEXO_RACA') if file.endswith('.csv')][0]\n",
        "shutil.move(f'/content/IDADE_SEXO_RACA/{csv_file}', '/content/IDADE_SEXO_RACA.csv')\n",
        "shutil.rmtree('/content/IDADE_SEXO_RACA')"
      ],
      "metadata": {
        "id": "mOfy6ktB0n0h"
      },
      "execution_count": null,
      "outputs": []
    },
    {
      "cell_type": "code",
      "source": [
        "QTD_PESSOAS = spark.sql (\"\"\"\n",
        "SELECT UF, COUNT(IDADE) AS QTD_PESSOAS  FROM PNAD_COVID_05_06_07_2020\n",
        "GROUP BY UF\n",
        "ORDER BY QTD_PESSOAS DESC\n",
        "\n",
        "\"\"\")\n",
        "\n",
        "QTD_PESSOAS.createOrReplaceTempView(\"QTD_PESSOAS\")\n",
        "QTD_PESSOAS.show(100, truncate=False)\n",
        "QTD_PESSOAS.count()\n"
      ],
      "metadata": {
        "colab": {
          "base_uri": "https://localhost:8080/"
        },
        "id": "0C_j1afSQ57v",
        "outputId": "287b6855-cadf-4b20-c065-57cc07ad3fe0"
      },
      "execution_count": null,
      "outputs": [
        {
          "output_type": "stream",
          "name": "stdout",
          "text": [
            "+---+-----------+\n",
            "|UF |QTD_PESSOAS|\n",
            "+---+-----------+\n",
            "|SP |103897     |\n",
            "|MG |101557     |\n",
            "|RJ |83367      |\n",
            "|SC |68356      |\n",
            "|RS |64868      |\n",
            "|PR |58938      |\n",
            "|BA |52131      |\n",
            "|MA |51728      |\n",
            "|CE |49691      |\n",
            "|PE |45860      |\n",
            "|ES |43389      |\n",
            "|GO |40062      |\n",
            "|AL |34828      |\n",
            "|MT |33454      |\n",
            "|PA |33235      |\n",
            "|PB |28156      |\n",
            "|AM |27975      |\n",
            "|MS |25473      |\n",
            "|SE |24969      |\n",
            "|PI |24516      |\n",
            "|RN |24385      |\n",
            "|DF |19682      |\n",
            "|AC |19203      |\n",
            "|TO |15848      |\n",
            "|RO |15775      |\n",
            "|RR |14537      |\n",
            "|AP |8862       |\n",
            "+---+-----------+\n",
            "\n"
          ]
        },
        {
          "output_type": "execute_result",
          "data": {
            "text/plain": [
              "27"
            ]
          },
          "metadata": {},
          "execution_count": 24
        }
      ]
    },
    {
      "cell_type": "code",
      "source": [
        "QTD_PESSOAS.coalesce(1).write.csv('/content/QTD_PESSOAS', header=True)\n",
        "csv_file = [file for file in os.listdir('/content/QTD_PESSOAS') if file.endswith('.csv')][0]\n",
        "shutil.move(f'/content/QTD_PESSOAS/{csv_file}', '/content/QTD_PESSOAS.csv')\n",
        "shutil.rmtree('/content/QTD_PESSOAS')"
      ],
      "metadata": {
        "id": "CMzQNV8BQ55b"
      },
      "execution_count": null,
      "outputs": []
    },
    {
      "cell_type": "code",
      "source": [
        "QTD_PESSOAS = spark.sql (\"\"\"\n",
        "SELECT UF, COUNT(IDADE) AS QTD_PESSOAS  FROM PNAD_COVID_05_06_07_2020\n",
        "GROUP BY UF\n",
        "ORDER BY QTD_PESSOAS DESC\n",
        "\n",
        "\"\"\")\n",
        "\n",
        "QTD_PESSOAS.createOrReplaceTempView(\"QTD_PESSOAS\")\n",
        "QTD_PESSOAS.show(100, truncate=False)\n",
        "QTD_PESSOAS.count()\n"
      ],
      "metadata": {
        "id": "SWfMDcVjQ52x"
      },
      "execution_count": null,
      "outputs": []
    },
    {
      "cell_type": "markdown",
      "source": [
        "## Salvando Arquivo Unindo as Tabelas Meses em um .csv"
      ],
      "metadata": {
        "id": "UPpJClUHcNs_"
      }
    },
    {
      "cell_type": "code",
      "source": [
        "PNAD_COVID_05_06_07_2020.coalesce(1).write.csv('/content/05_06_07_PNAD_2020', header=True)\n",
        "csv_file = [file for file in os.listdir('/content/05_06_07_PNAD_2020') if file.endswith('.csv')][0]\n",
        "shutil.move(f'/content/05_06_07_PNAD_2020/{csv_file}', '/content/05_06_07_PNAD_2020.csv')\n",
        "shutil.rmtree('/content/05_06_07_PNAD_2020')"
      ],
      "metadata": {
        "id": "L3NXKpLO0N27"
      },
      "execution_count": null,
      "outputs": []
    },
    {
      "cell_type": "markdown",
      "source": [
        "## Plot das tabelas"
      ],
      "metadata": {
        "id": "QVVOAIS9sJUE"
      }
    },
    {
      "cell_type": "code",
      "source": [
        "plt.figure(figsize=(12, 6))\n",
        "plt.bar(QTD_PESSOAS['UF'], QTD_PESSOAS['QTD_PESSOAS'])\n",
        "\n",
        "ax = plt.gca()\n",
        "ax.get_yaxis().set_major_formatter(plt.FuncFormatter(lambda x, loc: f'{int(x):,}'.replace(',', '.')))\n",
        "\n",
        "plt.title('Quantidade de Pessoas por Estado')\n",
        "plt.xlabel('ESTADOS')\n",
        "plt.ylabel('Quantidade de Pessoas')\n",
        "plt.xticks(rotation=45)\n",
        "plt.tight_layout()\n",
        "plt.grid(axis='y')\n",
        "\n",
        "plt.show()"
      ],
      "metadata": {
        "id": "i4lcUJTv0Nyi"
      },
      "execution_count": null,
      "outputs": []
    },
    {
      "cell_type": "code",
      "source": [],
      "metadata": {
        "id": "-EPHbYg60NwA"
      },
      "execution_count": null,
      "outputs": []
    },
    {
      "cell_type": "markdown",
      "source": [],
      "metadata": {
        "id": "5IloqSFDQPpV"
      }
    }
  ]
}